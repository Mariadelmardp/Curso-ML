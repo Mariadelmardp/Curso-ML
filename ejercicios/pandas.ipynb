{
 "cells": [
  {
   "cell_type": "markdown",
   "metadata": {},
   "source": [
    " 1. Resumen del reto guiado de Pandas.\n",
    "### 1.1. Conocimientos previos.\n",
    "- Python (Completo)\n",
    "- Numpy\n",
    "- Pandas\n",
    "### 1.2. Propósito del reto e información de los datos.\n",
    "\n",
    "El propósito de este reto guiado es poner en práctica los conocimientos básicos de la librería Pandas.\n",
    "\n",
    "En este caso vamos a utilizar dos sets de datos demográficos mundiales, 'world-data-1' y 'world-data-2'. Las columnas para ambos sets de datos son:\n",
    "\n",
    "**world-data-1**\n",
    "- **Country**: Nombre del país.\n",
    "\n",
    "- **Density (P/Km2)**: Densidad de población medida en personas por kilómetro cuadrado.\n",
    "\n",
    "- **Abbreviation**: Abreviatura o código que representa al país.\n",
    "\n",
    "- **Agricultural Land(%)**: Porcentaje del área total de tierra utilizada con fines agrícolas.\n",
    "\n",
    "- **Land Area(Km2)**: Área total de tierra del país en kilómetros cuadrados.\n",
    "\n",
    "- **Armed Forces size**: Tamaño de las fuerzas armadas en el país.\n",
    "\n",
    "- **Birth Rate**: Número de nacimientos por cada 1,000 habitantes por año.\n",
    "\n",
    "- **Calling Code**: Código internacional de llamada para el país.\n",
    "\n",
    "- **Capital/Major City**: Nombre de la capital o ciudad principal.\n",
    "\n",
    "- **Co2-Emissions**: Emisiones de dióxido de carbono en toneladas.\n",
    "\n",
    "- **CPI**: Índice de Precios al Consumidor (IPC), una medida de la inflación y el poder adquisitivo.\n",
    "\n",
    "- **CPI Change (%)**: Cambio porcentual en el Índice de Precios al Consumidor en comparación con el año anterior.\n",
    "\n",
    "- **Currency-Code**: Código de moneda utilizado en el país.\n",
    "\n",
    "- **Fertility Rate**: Número promedio de hijos nacidos de una mujer durante su vida.\n",
    "\n",
    "- **Forested Area (%)**: Porcentaje del área total cubierta por bosques.\n",
    "\n",
    "- **Gasoline Price**: Precio de la gasolina por litro en moneda local.\n",
    "\n",
    "**world-data-2**\n",
    "- **GDP**: Producto Interior Bruto, el valor total de bienes y servicios producidos en el país.\n",
    "\n",
    "- **Gross primary education enrollment (%)**: Tasa bruta de matriculación en educación primaria.\n",
    "\n",
    "- **Gross tertiary education enrollment (%)**: Tasa bruta de matriculación en educación terciaria.\n",
    "\n",
    "- **Infant mortality**: Número de muertes por cada 1,000 nacidos vivos antes de cumplir un año de edad.\n",
    "\n",
    "- **Largest city**: Nombre de la ciudad más grande del país.\n",
    "\n",
    "- **Life expectancy**: Número promedio de años que se espera que viva un recién nacido.\n",
    "\n",
    "- **Maternal mortality ratio**: Número de muertes maternas por cada 100,000 nacidos vivos.\n",
    "\n",
    "- **Minimum wage**: Nivel de salario mínimo en moneda local.\n",
    "\n",
    "- **Official language**: Idioma(s) oficial(es) hablado(s) en el país.\n",
    "\n",
    "- **Out of pocket health expenditure**: Porcentaje del gasto total en salud pagado directamente por individuos.\n",
    "\n",
    "- **Physicians per thousand**: Número de médicos por cada mil personas.\n",
    "\n",
    "- **Population**: Población total del país.\n",
    "\n",
    "- **Population: Labor force participation (%)**: Porcentaje de la población que forma parte de la fuerza laboral.\n",
    "\n",
    "- **Tax revenue (%)**: Ingresos fiscales como porcentaje del PIB.\n",
    "\n",
    "- **Total tax rate**: Carga fiscal total como porcentaje de las ganancias comerciales.\n",
    "\n",
    "- **Unemployment rate**: Porcentaje de la fuerza laboral que está desempleada.\n",
    "\n",
    "- **Urban_population**: Porcentaje de la población que vive en áreas urbanas.\n",
    "\n",
    "- **country**: Nombre del país.\n",
    "\n",
    "- **latitude**:Coordenadas de latitud de la ubicación del país.\n",
    "\n",
    "- **longitude**:Coordenadas de longitud de la ubicación del país.\n",
    "\n",
    "- **Continent**: Continente en el que se encuentra el país.\n",
    "\n",
    "En los primeros ejercicios utilizaremos sólo el primer set de datos (**world-data-1**)"
   ]
  },
  {
   "cell_type": "code",
   "execution_count": 2,
   "metadata": {},
   "outputs": [],
   "source": [
    "import pandas as pd \n",
    "import numpy as np "
   ]
  },
  {
   "cell_type": "markdown",
   "metadata": {},
   "source": [
    "## 2. Ejercicios\n",
    "### 2.1. Pandas Básico\n",
    "2.1.1. Carga el archivo 'world-data-1' como DataFrame (world_1)"
   ]
  },
  {
   "cell_type": "code",
   "execution_count": 3,
   "metadata": {},
   "outputs": [],
   "source": [
    "world_1 = pd.read_csv(r'C:\\Users\\maria\\Documents\\FormacionDataAnalytics\\ejercicios\\data\\world-data-1.csv', index_col= 0)"
   ]
  },
  {
   "cell_type": "markdown",
   "metadata": {},
   "source": [
    "2.1.2. Muestra las primeras 5 filas del conjunto de datos."
   ]
  },
  {
   "cell_type": "code",
   "execution_count": 4,
   "metadata": {},
   "outputs": [
    {
     "data": {
      "text/html": [
       "<div>\n",
       "<style scoped>\n",
       "    .dataframe tbody tr th:only-of-type {\n",
       "        vertical-align: middle;\n",
       "    }\n",
       "\n",
       "    .dataframe tbody tr th {\n",
       "        vertical-align: top;\n",
       "    }\n",
       "\n",
       "    .dataframe thead th {\n",
       "        text-align: right;\n",
       "    }\n",
       "</style>\n",
       "<table border=\"1\" class=\"dataframe\">\n",
       "  <thead>\n",
       "    <tr style=\"text-align: right;\">\n",
       "      <th></th>\n",
       "      <th>Country</th>\n",
       "      <th>Density\\n(P/Km2)</th>\n",
       "      <th>Abbreviation</th>\n",
       "      <th>Agricultural Land( %)</th>\n",
       "      <th>Land Area(Km2)</th>\n",
       "      <th>Armed Forces size</th>\n",
       "      <th>Birth Rate</th>\n",
       "      <th>Calling Code</th>\n",
       "      <th>Capital/Major City</th>\n",
       "      <th>Co2-Emissions</th>\n",
       "      <th>CPI</th>\n",
       "      <th>CPI Change (%)</th>\n",
       "      <th>Currency-Code</th>\n",
       "      <th>Fertility Rate</th>\n",
       "      <th>Forested Area (%)</th>\n",
       "      <th>Gasoline Price</th>\n",
       "    </tr>\n",
       "  </thead>\n",
       "  <tbody>\n",
       "    <tr>\n",
       "      <th>90</th>\n",
       "      <td>Kuwait</td>\n",
       "      <td>240.0</td>\n",
       "      <td>KW</td>\n",
       "      <td>8.4</td>\n",
       "      <td>17,818</td>\n",
       "      <td>25,000</td>\n",
       "      <td>13.94</td>\n",
       "      <td>965.0</td>\n",
       "      <td>Kuwait City</td>\n",
       "      <td>98,734</td>\n",
       "      <td>126.6</td>\n",
       "      <td>1.1</td>\n",
       "      <td>KWD</td>\n",
       "      <td>2.08</td>\n",
       "      <td>0.4</td>\n",
       "      <td>0.35</td>\n",
       "    </tr>\n",
       "  </tbody>\n",
       "</table>\n",
       "</div>"
      ],
      "text/plain": [
       "   Country  Density\\n(P/Km2) Abbreviation  Agricultural Land( %)  \\\n",
       "90  Kuwait             240.0           KW                    8.4   \n",
       "\n",
       "   Land Area(Km2) Armed Forces size  Birth Rate  Calling Code  \\\n",
       "90         17,818            25,000       13.94         965.0   \n",
       "\n",
       "   Capital/Major City Co2-Emissions    CPI  CPI Change (%) Currency-Code  \\\n",
       "90        Kuwait City        98,734  126.6             1.1           KWD   \n",
       "\n",
       "    Fertility Rate  Forested Area (%)  Gasoline Price  \n",
       "90            2.08                0.4            0.35  "
      ]
     },
     "execution_count": 4,
     "metadata": {},
     "output_type": "execute_result"
    }
   ],
   "source": [
    "world_1.head() # Muestras las 5 primeras\n",
    "world_1.tail() # Muestra las últimas 5 filas\n",
    "world_1.sample() # Muestra un ejemple aleatoria"
   ]
  },
  {
   "cell_type": "markdown",
   "metadata": {},
   "source": [
    "2.1.3. Muestra el número total de filas y columnas en el conjunto de datos."
   ]
  },
  {
   "cell_type": "code",
   "execution_count": 5,
   "metadata": {},
   "outputs": [
    {
     "name": "stdout",
     "output_type": "stream",
     "text": [
      "El número de filas es 195 y el número de columnas es 16\n"
     ]
    }
   ],
   "source": [
    "world_1.shape\n",
    "print( f'El número de filas es {world_1.shape[0]} y el número de columnas es {world_1.shape[1]}')"
   ]
  },
  {
   "cell_type": "markdown",
   "metadata": {},
   "source": [
    "2.1.4. Muestra el nombre de todas las columnas en el conjunto de datos."
   ]
  },
  {
   "cell_type": "code",
   "execution_count": 6,
   "metadata": {},
   "outputs": [
    {
     "data": {
      "text/plain": [
       "Index(['Country', 'Density\\n(P/Km2)', 'Abbreviation', 'Agricultural Land( %)',\n",
       "       'Land Area(Km2)', 'Armed Forces size', 'Birth Rate', 'Calling Code',\n",
       "       'Capital/Major City', 'Co2-Emissions', 'CPI', 'CPI Change (%)',\n",
       "       'Currency-Code', 'Fertility Rate', 'Forested Area (%)',\n",
       "       'Gasoline Price'],\n",
       "      dtype='object')"
      ]
     },
     "execution_count": 6,
     "metadata": {},
     "output_type": "execute_result"
    }
   ],
   "source": [
    "world_1.columns"
   ]
  },
  {
   "cell_type": "markdown",
   "metadata": {},
   "source": [
    "2.1.5. Muestra los valores únicos en la columna \"Country\".\n"
   ]
  },
  {
   "cell_type": "code",
   "execution_count": 7,
   "metadata": {},
   "outputs": [
    {
     "data": {
      "text/plain": [
       "array(['Afghanistan', 'Albania', 'Algeria', 'Andorra', 'Angola',\n",
       "       'Antigua and Barbuda', 'Argentina', 'Armenia', 'Australia',\n",
       "       'Austria', 'Azerbaijan', 'The Bahamas', 'Bahrain', 'Bangladesh',\n",
       "       'Barbados', 'Belarus', 'Belgium', 'Belize', 'Benin', 'Bhutan',\n",
       "       'Bolivia', 'Bosnia and Herzegovina', 'Botswana', 'Brazil',\n",
       "       'Brunei', 'Bulgaria', 'Burkina Faso', 'Burundi', 'Ivory Coast',\n",
       "       'Cape Verde', 'Cambodia', 'Cameroon', 'Canada',\n",
       "       'Central African Republic', 'Chad', 'Chile', 'China', 'Colombia',\n",
       "       'Comoros', 'Republic of the Congo', 'Costa Rica', 'Croatia',\n",
       "       'Cuba', 'Cyprus', 'Czech Republic',\n",
       "       'Democratic Republic of the Congo', 'Denmark', 'Djibouti',\n",
       "       'Dominica', 'Dominican Republic', 'Ecuador', 'Egypt',\n",
       "       'El Salvador', 'Equatorial Guinea', 'Eritrea', 'Estonia',\n",
       "       'Eswatini', 'Ethiopia', 'Fiji', 'Finland', 'France', 'Gabon',\n",
       "       'The Gambia', 'Georgia', 'Germany', 'Ghana', 'Greece', 'Grenada',\n",
       "       'Guatemala', 'Guinea', 'Guinea-Bissau', 'Guyana', 'Haiti',\n",
       "       'Vatican City', 'Honduras', 'Hungary', 'Iceland', 'India',\n",
       "       'Indonesia', 'Iran', 'Iraq', 'Republic of Ireland', 'Israel',\n",
       "       'Italy', 'Jamaica', 'Japan', 'Jordan', 'Kazakhstan', 'Kenya',\n",
       "       'Kiribati', 'Kuwait', 'Kyrgyzstan', 'Laos', 'Latvia', 'Lebanon',\n",
       "       'Lesotho', 'Liberia', 'Libya', 'Liechtenstein', 'Lithuania',\n",
       "       'Luxembourg', 'Madagascar', 'Malawi', 'Malaysia', 'Maldives',\n",
       "       'Mali', 'Malta', 'Marshall Islands', 'Mauritania', 'Mauritius',\n",
       "       'Mexico', 'Federated States of Micronesia', 'Moldova', 'Monaco',\n",
       "       'Mongolia', 'Montenegro', 'Morocco', 'Mozambique', 'Myanmar',\n",
       "       'Namibia', 'Nauru', 'Nepal', 'Netherlands', 'New Zealand',\n",
       "       'Nicaragua', 'Niger', 'Nigeria', 'North Korea', 'North Macedonia',\n",
       "       'Norway', 'Oman', 'Pakistan', 'Palau',\n",
       "       'Palestinian National Authority', 'Panama', 'Papua New Guinea',\n",
       "       'Paraguay', 'Peru', 'Philippines', 'Poland', 'Portugal', 'Qatar',\n",
       "       'Romania', 'Russia', 'Rwanda', 'Saint Kitts and Nevis',\n",
       "       'Saint Lucia', 'Saint Vincent and the Grenadines', 'Samoa',\n",
       "       'San Marino', 'S�����������', 'Saudi Arabia', 'Senegal', 'Serbia',\n",
       "       'Seychelles', 'Sierra Leone', 'Singapore', 'Slovakia', 'Slovenia',\n",
       "       'Solomon Islands', 'Somalia', 'South Africa', 'South Korea',\n",
       "       'South Sudan', 'Spain', 'Sri Lanka', 'Sudan', 'Suriname', 'Sweden',\n",
       "       'Switzerland', 'Syria', 'Tajikistan', 'Tanzania', 'Thailand',\n",
       "       'East Timor', 'Togo', 'Tonga', 'Trinidad and Tobago', 'Tunisia',\n",
       "       'Turkey', 'Turkmenistan', 'Tuvalu', 'Uganda', 'Ukraine',\n",
       "       'United Arab Emirates', 'United Kingdom', 'United States',\n",
       "       'Uruguay', 'Uzbekistan', 'Vanuatu', 'Venezuela', 'Vietnam',\n",
       "       'Yemen', 'Zambia', 'Zimbabwe'], dtype=object)"
      ]
     },
     "execution_count": 7,
     "metadata": {},
     "output_type": "execute_result"
    }
   ],
   "source": [
    "world_1['Country']\n",
    "world_1['Country'].unique()"
   ]
  },
  {
   "cell_type": "markdown",
   "metadata": {},
   "source": [
    "2.1.6. Cuenta cuántas veces aparece cada valor único en la columna \"Country\"."
   ]
  },
  {
   "cell_type": "code",
   "execution_count": 8,
   "metadata": {},
   "outputs": [
    {
     "data": {
      "text/plain": [
       "Country\n",
       "Afghanistan      1\n",
       "Saint Lucia      1\n",
       "Nicaragua        1\n",
       "Niger            1\n",
       "Nigeria          1\n",
       "                ..\n",
       "Grenada          1\n",
       "Guatemala        1\n",
       "Guinea           1\n",
       "Guinea-Bissau    1\n",
       "Zimbabwe         1\n",
       "Name: count, Length: 195, dtype: int64"
      ]
     },
     "execution_count": 8,
     "metadata": {},
     "output_type": "execute_result"
    }
   ],
   "source": [
    "world_1['Country'].value_counts()"
   ]
  },
  {
   "cell_type": "markdown",
   "metadata": {},
   "source": [
    "2.1.7. Verifica si hay valores nulos en el conjunto de datos."
   ]
  },
  {
   "cell_type": "code",
   "execution_count": 9,
   "metadata": {},
   "outputs": [
    {
     "data": {
      "text/plain": [
       "Country                   0\n",
       "Density\\n(P/Km2)          0\n",
       "Abbreviation              7\n",
       "Agricultural Land( %)     7\n",
       "Land Area(Km2)            1\n",
       "Armed Forces size        24\n",
       "Birth Rate                6\n",
       "Calling Code              1\n",
       "Capital/Major City        3\n",
       "Co2-Emissions             7\n",
       "CPI                      17\n",
       "CPI Change (%)           16\n",
       "Currency-Code            15\n",
       "Fertility Rate            7\n",
       "Forested Area (%)         7\n",
       "Gasoline Price           20\n",
       "dtype: int64"
      ]
     },
     "execution_count": 9,
     "metadata": {},
     "output_type": "execute_result"
    }
   ],
   "source": [
    "world_1.isnull().sum() # añadimos un sum para poder visulizar mejor el dato "
   ]
  },
  {
   "cell_type": "markdown",
   "metadata": {},
   "source": [
    "2.1.8. Comprueba la presencia de duplicados en el conjunto de datos."
   ]
  },
  {
   "cell_type": "code",
   "execution_count": 10,
   "metadata": {},
   "outputs": [
    {
     "data": {
      "text/plain": [
       "0"
      ]
     },
     "execution_count": 10,
     "metadata": {},
     "output_type": "execute_result"
    }
   ],
   "source": [
    "world_1.duplicated().sum() # añadimos un sum para poder visulizar mejor el dato "
   ]
  },
  {
   "cell_type": "markdown",
   "metadata": {},
   "source": [
    "2.1.9. Muestra información general sobre el conjunto de datos."
   ]
  },
  {
   "cell_type": "code",
   "execution_count": 11,
   "metadata": {},
   "outputs": [
    {
     "name": "stdout",
     "output_type": "stream",
     "text": [
      "<class 'pandas.core.frame.DataFrame'>\n",
      "Index: 195 entries, 0 to 194\n",
      "Data columns (total 16 columns):\n",
      " #   Column                 Non-Null Count  Dtype  \n",
      "---  ------                 --------------  -----  \n",
      " 0   Country                195 non-null    object \n",
      " 1   Density\n",
      "(P/Km2)        195 non-null    float64\n",
      " 2   Abbreviation           188 non-null    object \n",
      " 3   Agricultural Land( %)  188 non-null    float64\n",
      " 4   Land Area(Km2)         194 non-null    object \n",
      " 5   Armed Forces size      171 non-null    object \n",
      " 6   Birth Rate             189 non-null    float64\n",
      " 7   Calling Code           194 non-null    float64\n",
      " 8   Capital/Major City     192 non-null    object \n",
      " 9   Co2-Emissions          188 non-null    object \n",
      " 10  CPI                    178 non-null    object \n",
      " 11  CPI Change (%)         179 non-null    float64\n",
      " 12  Currency-Code          180 non-null    object \n",
      " 13  Fertility Rate         188 non-null    float64\n",
      " 14  Forested Area (%)      188 non-null    float64\n",
      " 15  Gasoline Price         175 non-null    float64\n",
      "dtypes: float64(8), object(8)\n",
      "memory usage: 25.9+ KB\n"
     ]
    }
   ],
   "source": [
    "world_1.info()"
   ]
  },
  {
   "cell_type": "markdown",
   "metadata": {},
   "source": [
    "2.1.10. Selecciona las columnas numéricas del conjunto de datos y muestra sus estadísticas descriptivas básicas. Haz lo mismo para las categóricas."
   ]
  },
  {
   "cell_type": "code",
   "execution_count": 12,
   "metadata": {},
   "outputs": [
    {
     "data": {
      "text/html": [
       "<div>\n",
       "<style scoped>\n",
       "    .dataframe tbody tr th:only-of-type {\n",
       "        vertical-align: middle;\n",
       "    }\n",
       "\n",
       "    .dataframe tbody tr th {\n",
       "        vertical-align: top;\n",
       "    }\n",
       "\n",
       "    .dataframe thead th {\n",
       "        text-align: right;\n",
       "    }\n",
       "</style>\n",
       "<table border=\"1\" class=\"dataframe\">\n",
       "  <thead>\n",
       "    <tr style=\"text-align: right;\">\n",
       "      <th></th>\n",
       "      <th>Density\\n(P/Km2)</th>\n",
       "      <th>Agricultural Land( %)</th>\n",
       "      <th>Birth Rate</th>\n",
       "      <th>Calling Code</th>\n",
       "      <th>CPI Change (%)</th>\n",
       "      <th>Fertility Rate</th>\n",
       "      <th>Forested Area (%)</th>\n",
       "      <th>Gasoline Price</th>\n",
       "    </tr>\n",
       "  </thead>\n",
       "  <tbody>\n",
       "    <tr>\n",
       "      <th>count</th>\n",
       "      <td>195.000000</td>\n",
       "      <td>188.000000</td>\n",
       "      <td>189.000000</td>\n",
       "      <td>194.000000</td>\n",
       "      <td>179.000000</td>\n",
       "      <td>188.000000</td>\n",
       "      <td>188.000000</td>\n",
       "      <td>175.000000</td>\n",
       "    </tr>\n",
       "    <tr>\n",
       "      <th>mean</th>\n",
       "      <td>356.764103</td>\n",
       "      <td>39.117553</td>\n",
       "      <td>20.214974</td>\n",
       "      <td>360.546392</td>\n",
       "      <td>6.722346</td>\n",
       "      <td>2.698138</td>\n",
       "      <td>32.015426</td>\n",
       "      <td>1.002457</td>\n",
       "    </tr>\n",
       "    <tr>\n",
       "      <th>std</th>\n",
       "      <td>1982.888967</td>\n",
       "      <td>21.783052</td>\n",
       "      <td>9.945774</td>\n",
       "      <td>323.236419</td>\n",
       "      <td>24.450414</td>\n",
       "      <td>1.282267</td>\n",
       "      <td>23.791331</td>\n",
       "      <td>0.368858</td>\n",
       "    </tr>\n",
       "    <tr>\n",
       "      <th>min</th>\n",
       "      <td>2.000000</td>\n",
       "      <td>0.600000</td>\n",
       "      <td>5.900000</td>\n",
       "      <td>1.000000</td>\n",
       "      <td>-4.300000</td>\n",
       "      <td>0.980000</td>\n",
       "      <td>0.000000</td>\n",
       "      <td>0.000000</td>\n",
       "    </tr>\n",
       "    <tr>\n",
       "      <th>25%</th>\n",
       "      <td>35.500000</td>\n",
       "      <td>21.700000</td>\n",
       "      <td>11.300000</td>\n",
       "      <td>82.500000</td>\n",
       "      <td>1.000000</td>\n",
       "      <td>1.705000</td>\n",
       "      <td>11.000000</td>\n",
       "      <td>0.755000</td>\n",
       "    </tr>\n",
       "    <tr>\n",
       "      <th>50%</th>\n",
       "      <td>89.000000</td>\n",
       "      <td>39.600000</td>\n",
       "      <td>17.950000</td>\n",
       "      <td>255.500000</td>\n",
       "      <td>2.300000</td>\n",
       "      <td>2.245000</td>\n",
       "      <td>32.000000</td>\n",
       "      <td>0.980000</td>\n",
       "    </tr>\n",
       "    <tr>\n",
       "      <th>75%</th>\n",
       "      <td>216.500000</td>\n",
       "      <td>55.375000</td>\n",
       "      <td>28.750000</td>\n",
       "      <td>506.750000</td>\n",
       "      <td>4.250000</td>\n",
       "      <td>3.597500</td>\n",
       "      <td>48.175000</td>\n",
       "      <td>1.240000</td>\n",
       "    </tr>\n",
       "    <tr>\n",
       "      <th>max</th>\n",
       "      <td>26337.000000</td>\n",
       "      <td>82.600000</td>\n",
       "      <td>46.080000</td>\n",
       "      <td>1876.000000</td>\n",
       "      <td>254.900000</td>\n",
       "      <td>6.910000</td>\n",
       "      <td>98.300000</td>\n",
       "      <td>2.000000</td>\n",
       "    </tr>\n",
       "  </tbody>\n",
       "</table>\n",
       "</div>"
      ],
      "text/plain": [
       "       Density\\n(P/Km2)  Agricultural Land( %)  Birth Rate  Calling Code  \\\n",
       "count        195.000000             188.000000  189.000000    194.000000   \n",
       "mean         356.764103              39.117553   20.214974    360.546392   \n",
       "std         1982.888967              21.783052    9.945774    323.236419   \n",
       "min            2.000000               0.600000    5.900000      1.000000   \n",
       "25%           35.500000              21.700000   11.300000     82.500000   \n",
       "50%           89.000000              39.600000   17.950000    255.500000   \n",
       "75%          216.500000              55.375000   28.750000    506.750000   \n",
       "max        26337.000000              82.600000   46.080000   1876.000000   \n",
       "\n",
       "       CPI Change (%)  Fertility Rate  Forested Area (%)  Gasoline Price  \n",
       "count      179.000000      188.000000         188.000000      175.000000  \n",
       "mean         6.722346        2.698138          32.015426        1.002457  \n",
       "std         24.450414        1.282267          23.791331        0.368858  \n",
       "min         -4.300000        0.980000           0.000000        0.000000  \n",
       "25%          1.000000        1.705000          11.000000        0.755000  \n",
       "50%          2.300000        2.245000          32.000000        0.980000  \n",
       "75%          4.250000        3.597500          48.175000        1.240000  \n",
       "max        254.900000        6.910000          98.300000        2.000000  "
      ]
     },
     "execution_count": 12,
     "metadata": {},
     "output_type": "execute_result"
    }
   ],
   "source": [
    "world_1.describe()"
   ]
  },
  {
   "cell_type": "code",
   "execution_count": 13,
   "metadata": {},
   "outputs": [
    {
     "data": {
      "text/html": [
       "<div>\n",
       "<style scoped>\n",
       "    .dataframe tbody tr th:only-of-type {\n",
       "        vertical-align: middle;\n",
       "    }\n",
       "\n",
       "    .dataframe tbody tr th {\n",
       "        vertical-align: top;\n",
       "    }\n",
       "\n",
       "    .dataframe thead th {\n",
       "        text-align: right;\n",
       "    }\n",
       "</style>\n",
       "<table border=\"1\" class=\"dataframe\">\n",
       "  <thead>\n",
       "    <tr style=\"text-align: right;\">\n",
       "      <th></th>\n",
       "      <th>Country</th>\n",
       "      <th>Abbreviation</th>\n",
       "      <th>Land Area(Km2)</th>\n",
       "      <th>Armed Forces size</th>\n",
       "      <th>Capital/Major City</th>\n",
       "      <th>Co2-Emissions</th>\n",
       "      <th>CPI</th>\n",
       "      <th>Currency-Code</th>\n",
       "    </tr>\n",
       "  </thead>\n",
       "  <tbody>\n",
       "    <tr>\n",
       "      <th>count</th>\n",
       "      <td>195</td>\n",
       "      <td>188</td>\n",
       "      <td>194</td>\n",
       "      <td>171</td>\n",
       "      <td>192</td>\n",
       "      <td>188</td>\n",
       "      <td>178</td>\n",
       "      <td>180</td>\n",
       "    </tr>\n",
       "    <tr>\n",
       "      <th>unique</th>\n",
       "      <td>195</td>\n",
       "      <td>188</td>\n",
       "      <td>194</td>\n",
       "      <td>105</td>\n",
       "      <td>192</td>\n",
       "      <td>184</td>\n",
       "      <td>175</td>\n",
       "      <td>133</td>\n",
       "    </tr>\n",
       "    <tr>\n",
       "      <th>top</th>\n",
       "      <td>Afghanistan</td>\n",
       "      <td>AF</td>\n",
       "      <td>652,230</td>\n",
       "      <td>2,000</td>\n",
       "      <td>Kabul</td>\n",
       "      <td>143</td>\n",
       "      <td>110.62</td>\n",
       "      <td>EUR</td>\n",
       "    </tr>\n",
       "    <tr>\n",
       "      <th>freq</th>\n",
       "      <td>1</td>\n",
       "      <td>1</td>\n",
       "      <td>1</td>\n",
       "      <td>7</td>\n",
       "      <td>1</td>\n",
       "      <td>2</td>\n",
       "      <td>2</td>\n",
       "      <td>23</td>\n",
       "    </tr>\n",
       "  </tbody>\n",
       "</table>\n",
       "</div>"
      ],
      "text/plain": [
       "            Country Abbreviation Land Area(Km2) Armed Forces size  \\\n",
       "count           195          188            194               171   \n",
       "unique          195          188            194               105   \n",
       "top     Afghanistan           AF        652,230             2,000   \n",
       "freq              1            1              1                 7   \n",
       "\n",
       "       Capital/Major City Co2-Emissions     CPI Currency-Code  \n",
       "count                 192           188     178           180  \n",
       "unique                192           184     175           133  \n",
       "top                 Kabul           143  110.62           EUR  \n",
       "freq                    1             2       2            23  "
      ]
     },
     "execution_count": 13,
     "metadata": {},
     "output_type": "execute_result"
    }
   ],
   "source": [
    "world_1.describe(include= 'object') # Mostrar llos datos estadísticos de las columnas categóricas"
   ]
  },
  {
   "cell_type": "markdown",
   "metadata": {},
   "source": [
    "## 2.2. Loc e iloc\n",
    "2.2.1. Utilizando loc, filtra el conjunto de datos para mostrar sólo las filas donde la densidad (columna \"Birth Rate\") es mayor a 40.\n",
    "loc filtra por etiquetas, es decir, los nombres ''' df.loc[etiqueta_filas, etiqueta_columnas]'''\n",
    "iloc nos filtra por indice, más útil para filtra entre segmentos ''' df.iloc[índice_filas, indice_columnas]'''"
   ]
  },
  {
   "cell_type": "code",
   "execution_count": 15,
   "metadata": {},
   "outputs": [
    {
     "data": {
      "text/html": [
       "<div>\n",
       "<style scoped>\n",
       "    .dataframe tbody tr th:only-of-type {\n",
       "        vertical-align: middle;\n",
       "    }\n",
       "\n",
       "    .dataframe tbody tr th {\n",
       "        vertical-align: top;\n",
       "    }\n",
       "\n",
       "    .dataframe thead th {\n",
       "        text-align: right;\n",
       "    }\n",
       "</style>\n",
       "<table border=\"1\" class=\"dataframe\">\n",
       "  <thead>\n",
       "    <tr style=\"text-align: right;\">\n",
       "      <th></th>\n",
       "      <th>Country</th>\n",
       "      <th>Density\\n(P/Km2)</th>\n",
       "      <th>Abbreviation</th>\n",
       "      <th>Agricultural Land( %)</th>\n",
       "      <th>Land Area(Km2)</th>\n",
       "      <th>Armed Forces size</th>\n",
       "      <th>Birth Rate</th>\n",
       "      <th>Calling Code</th>\n",
       "      <th>Capital/Major City</th>\n",
       "      <th>Co2-Emissions</th>\n",
       "      <th>CPI</th>\n",
       "      <th>CPI Change (%)</th>\n",
       "      <th>Currency-Code</th>\n",
       "      <th>Fertility Rate</th>\n",
       "      <th>Forested Area (%)</th>\n",
       "      <th>Gasoline Price</th>\n",
       "    </tr>\n",
       "  </thead>\n",
       "  <tbody>\n",
       "    <tr>\n",
       "      <th>4</th>\n",
       "      <td>Angola</td>\n",
       "      <td>26.0</td>\n",
       "      <td>AO</td>\n",
       "      <td>47.5</td>\n",
       "      <td>1,246,700</td>\n",
       "      <td>117,000</td>\n",
       "      <td>40.73</td>\n",
       "      <td>244.0</td>\n",
       "      <td>Luanda</td>\n",
       "      <td>34,693</td>\n",
       "      <td>261.73</td>\n",
       "      <td>17.1</td>\n",
       "      <td>AOA</td>\n",
       "      <td>5.52</td>\n",
       "      <td>46.3</td>\n",
       "      <td>0.97</td>\n",
       "    </tr>\n",
       "    <tr>\n",
       "      <th>34</th>\n",
       "      <td>Chad</td>\n",
       "      <td>13.0</td>\n",
       "      <td>TD</td>\n",
       "      <td>39.7</td>\n",
       "      <td>1,284,000</td>\n",
       "      <td>35,000</td>\n",
       "      <td>42.17</td>\n",
       "      <td>235.0</td>\n",
       "      <td>N'Djamena</td>\n",
       "      <td>1,016</td>\n",
       "      <td>117.7</td>\n",
       "      <td>-1.0</td>\n",
       "      <td>XAF</td>\n",
       "      <td>5.75</td>\n",
       "      <td>3.8</td>\n",
       "      <td>0.78</td>\n",
       "    </tr>\n",
       "    <tr>\n",
       "      <th>45</th>\n",
       "      <td>Democratic Republic of the Congo</td>\n",
       "      <td>40.0</td>\n",
       "      <td>CD</td>\n",
       "      <td>11.6</td>\n",
       "      <td>2,344,858</td>\n",
       "      <td>134,000</td>\n",
       "      <td>41.18</td>\n",
       "      <td>243.0</td>\n",
       "      <td>Kinshasa</td>\n",
       "      <td>2,021</td>\n",
       "      <td>133.85</td>\n",
       "      <td>2.9</td>\n",
       "      <td>CDF</td>\n",
       "      <td>5.92</td>\n",
       "      <td>67.2</td>\n",
       "      <td>1.49</td>\n",
       "    </tr>\n",
       "    <tr>\n",
       "      <th>105</th>\n",
       "      <td>Mali</td>\n",
       "      <td>17.0</td>\n",
       "      <td>ML</td>\n",
       "      <td>33.8</td>\n",
       "      <td>1,240,192</td>\n",
       "      <td>18,000</td>\n",
       "      <td>41.54</td>\n",
       "      <td>223.0</td>\n",
       "      <td>Bamako</td>\n",
       "      <td>3,179</td>\n",
       "      <td>108.73</td>\n",
       "      <td>-1.7</td>\n",
       "      <td>XOF</td>\n",
       "      <td>5.88</td>\n",
       "      <td>3.8</td>\n",
       "      <td>1.12</td>\n",
       "    </tr>\n",
       "    <tr>\n",
       "      <th>125</th>\n",
       "      <td>Niger</td>\n",
       "      <td>19.0</td>\n",
       "      <td>NE</td>\n",
       "      <td>36.1</td>\n",
       "      <td>1,267,000</td>\n",
       "      <td>10,000</td>\n",
       "      <td>46.08</td>\n",
       "      <td>227.0</td>\n",
       "      <td>Niamey</td>\n",
       "      <td>2,017</td>\n",
       "      <td>109.32</td>\n",
       "      <td>-2.5</td>\n",
       "      <td>XOF</td>\n",
       "      <td>6.91</td>\n",
       "      <td>0.9</td>\n",
       "      <td>0.88</td>\n",
       "    </tr>\n",
       "    <tr>\n",
       "      <th>160</th>\n",
       "      <td>Somalia</td>\n",
       "      <td>25.0</td>\n",
       "      <td>SO</td>\n",
       "      <td>70.3</td>\n",
       "      <td>637,657</td>\n",
       "      <td>20,000</td>\n",
       "      <td>41.75</td>\n",
       "      <td>252.0</td>\n",
       "      <td>Mogadishu</td>\n",
       "      <td>645</td>\n",
       "      <td>NaN</td>\n",
       "      <td>NaN</td>\n",
       "      <td>SOS</td>\n",
       "      <td>6.07</td>\n",
       "      <td>10.0</td>\n",
       "      <td>1.41</td>\n",
       "    </tr>\n",
       "  </tbody>\n",
       "</table>\n",
       "</div>"
      ],
      "text/plain": [
       "                              Country  Density\\n(P/Km2) Abbreviation  \\\n",
       "4                              Angola              26.0           AO   \n",
       "34                               Chad              13.0           TD   \n",
       "45   Democratic Republic of the Congo              40.0           CD   \n",
       "105                              Mali              17.0           ML   \n",
       "125                             Niger              19.0           NE   \n",
       "160                           Somalia              25.0           SO   \n",
       "\n",
       "     Agricultural Land( %) Land Area(Km2) Armed Forces size  Birth Rate  \\\n",
       "4                     47.5      1,246,700           117,000       40.73   \n",
       "34                    39.7      1,284,000            35,000       42.17   \n",
       "45                    11.6      2,344,858           134,000       41.18   \n",
       "105                   33.8      1,240,192            18,000       41.54   \n",
       "125                   36.1      1,267,000            10,000       46.08   \n",
       "160                   70.3        637,657            20,000       41.75   \n",
       "\n",
       "     Calling Code Capital/Major City Co2-Emissions     CPI  CPI Change (%)  \\\n",
       "4           244.0             Luanda        34,693  261.73            17.1   \n",
       "34          235.0          N'Djamena         1,016   117.7            -1.0   \n",
       "45          243.0           Kinshasa         2,021  133.85             2.9   \n",
       "105         223.0             Bamako         3,179  108.73            -1.7   \n",
       "125         227.0             Niamey         2,017  109.32            -2.5   \n",
       "160         252.0          Mogadishu           645     NaN             NaN   \n",
       "\n",
       "    Currency-Code  Fertility Rate  Forested Area (%)  Gasoline Price  \n",
       "4             AOA            5.52               46.3            0.97  \n",
       "34            XAF            5.75                3.8            0.78  \n",
       "45            CDF            5.92               67.2            1.49  \n",
       "105           XOF            5.88                3.8            1.12  \n",
       "125           XOF            6.91                0.9            0.88  \n",
       "160           SOS            6.07               10.0            1.41  "
      ]
     },
     "execution_count": 15,
     "metadata": {},
     "output_type": "execute_result"
    }
   ],
   "source": [
    "world_1.loc[world_1['Birth Rate']>40]"
   ]
  },
  {
   "cell_type": "markdown",
   "metadata": {},
   "source": [
    "2.2.2. Utilizando loc selecciona las columnas \"Country\" y \"Capital/Major City\" de las filas donde el porcentaje de tierra agrícola (columna \"Fertility Rate\") es superior al 6.\n"
   ]
  },
  {
   "cell_type": "code",
   "execution_count": 17,
   "metadata": {},
   "outputs": [
    {
     "data": {
      "text/html": [
       "<div>\n",
       "<style scoped>\n",
       "    .dataframe tbody tr th:only-of-type {\n",
       "        vertical-align: middle;\n",
       "    }\n",
       "\n",
       "    .dataframe tbody tr th {\n",
       "        vertical-align: top;\n",
       "    }\n",
       "\n",
       "    .dataframe thead th {\n",
       "        text-align: right;\n",
       "    }\n",
       "</style>\n",
       "<table border=\"1\" class=\"dataframe\">\n",
       "  <thead>\n",
       "    <tr style=\"text-align: right;\">\n",
       "      <th></th>\n",
       "      <th>Country</th>\n",
       "      <th>Capital/Major City</th>\n",
       "      <th>Fertility Rate</th>\n",
       "    </tr>\n",
       "  </thead>\n",
       "  <tbody>\n",
       "    <tr>\n",
       "      <th>125</th>\n",
       "      <td>Niger</td>\n",
       "      <td>Niamey</td>\n",
       "      <td>6.91</td>\n",
       "    </tr>\n",
       "    <tr>\n",
       "      <th>160</th>\n",
       "      <td>Somalia</td>\n",
       "      <td>Mogadishu</td>\n",
       "      <td>6.07</td>\n",
       "    </tr>\n",
       "  </tbody>\n",
       "</table>\n",
       "</div>"
      ],
      "text/plain": [
       "     Country Capital/Major City  Fertility Rate\n",
       "125    Niger             Niamey            6.91\n",
       "160  Somalia          Mogadishu            6.07"
      ]
     },
     "execution_count": 17,
     "metadata": {},
     "output_type": "execute_result"
    }
   ],
   "source": [
    "world_1.loc[world_1['Fertility Rate']>6,['Country','Capital/Major City','Fertility Rate']]"
   ]
  },
  {
   "cell_type": "markdown",
   "metadata": {},
   "source": [
    "2.2.3. Encuentra el valor de \"Gasoline Price\" para el país cuya abreviatura es \"IT\" utilizando loc."
   ]
  },
  {
   "cell_type": "code",
   "execution_count": 19,
   "metadata": {},
   "outputs": [
    {
     "data": {
      "text/plain": [
       "Index(['Country', 'Density\\n(P/Km2)', 'Abbreviation', 'Agricultural Land( %)',\n",
       "       'Land Area(Km2)', 'Armed Forces size', 'Birth Rate', 'Calling Code',\n",
       "       'Capital/Major City', 'Co2-Emissions', 'CPI', 'CPI Change (%)',\n",
       "       'Currency-Code', 'Fertility Rate', 'Forested Area (%)',\n",
       "       'Gasoline Price'],\n",
       "      dtype='object')"
      ]
     },
     "execution_count": 19,
     "metadata": {},
     "output_type": "execute_result"
    }
   ],
   "source": [
    "world_1.columns"
   ]
  },
  {
   "cell_type": "code",
   "execution_count": 21,
   "metadata": {},
   "outputs": [
    {
     "data": {
      "text/plain": [
       "83    1.61\n",
       "Name: Gasoline Price, dtype: float64"
      ]
     },
     "execution_count": 21,
     "metadata": {},
     "output_type": "execute_result"
    }
   ],
   "source": [
    "world_1.loc[world_1['Abbreviation']=='IT', 'Gasoline Price']"
   ]
  },
  {
   "cell_type": "markdown",
   "metadata": {},
   "source": [
    "2.2.4. Selecciona todas las columnas de las filas 7 a 10 (excluyendo la fila 10) utilizando iloc."
   ]
  },
  {
   "cell_type": "code",
   "execution_count": 26,
   "metadata": {},
   "outputs": [
    {
     "data": {
      "text/html": [
       "<div>\n",
       "<style scoped>\n",
       "    .dataframe tbody tr th:only-of-type {\n",
       "        vertical-align: middle;\n",
       "    }\n",
       "\n",
       "    .dataframe tbody tr th {\n",
       "        vertical-align: top;\n",
       "    }\n",
       "\n",
       "    .dataframe thead th {\n",
       "        text-align: right;\n",
       "    }\n",
       "</style>\n",
       "<table border=\"1\" class=\"dataframe\">\n",
       "  <thead>\n",
       "    <tr style=\"text-align: right;\">\n",
       "      <th></th>\n",
       "      <th>Country</th>\n",
       "      <th>Density\\n(P/Km2)</th>\n",
       "      <th>Abbreviation</th>\n",
       "      <th>Agricultural Land( %)</th>\n",
       "      <th>Land Area(Km2)</th>\n",
       "      <th>Armed Forces size</th>\n",
       "      <th>Birth Rate</th>\n",
       "      <th>Calling Code</th>\n",
       "      <th>Capital/Major City</th>\n",
       "      <th>Co2-Emissions</th>\n",
       "      <th>CPI</th>\n",
       "      <th>CPI Change (%)</th>\n",
       "      <th>Currency-Code</th>\n",
       "      <th>Fertility Rate</th>\n",
       "      <th>Forested Area (%)</th>\n",
       "      <th>Gasoline Price</th>\n",
       "    </tr>\n",
       "  </thead>\n",
       "  <tbody>\n",
       "    <tr>\n",
       "      <th>7</th>\n",
       "      <td>Armenia</td>\n",
       "      <td>104.0</td>\n",
       "      <td>AM</td>\n",
       "      <td>58.9</td>\n",
       "      <td>29,743</td>\n",
       "      <td>49,000</td>\n",
       "      <td>13.99</td>\n",
       "      <td>374.0</td>\n",
       "      <td>Yerevan</td>\n",
       "      <td>5,156</td>\n",
       "      <td>129.18</td>\n",
       "      <td>1.4</td>\n",
       "      <td>AMD</td>\n",
       "      <td>1.76</td>\n",
       "      <td>11.7</td>\n",
       "      <td>0.77</td>\n",
       "    </tr>\n",
       "    <tr>\n",
       "      <th>8</th>\n",
       "      <td>Australia</td>\n",
       "      <td>3.0</td>\n",
       "      <td>AU</td>\n",
       "      <td>48.2</td>\n",
       "      <td>7,741,220</td>\n",
       "      <td>58,000</td>\n",
       "      <td>12.60</td>\n",
       "      <td>61.0</td>\n",
       "      <td>Canberra</td>\n",
       "      <td>375,908</td>\n",
       "      <td>119.8</td>\n",
       "      <td>1.6</td>\n",
       "      <td>AUD</td>\n",
       "      <td>1.74</td>\n",
       "      <td>16.3</td>\n",
       "      <td>0.93</td>\n",
       "    </tr>\n",
       "    <tr>\n",
       "      <th>9</th>\n",
       "      <td>Austria</td>\n",
       "      <td>109.0</td>\n",
       "      <td>AT</td>\n",
       "      <td>32.4</td>\n",
       "      <td>83,871</td>\n",
       "      <td>21,000</td>\n",
       "      <td>9.70</td>\n",
       "      <td>43.0</td>\n",
       "      <td>Vienna</td>\n",
       "      <td>61,448</td>\n",
       "      <td>118.06</td>\n",
       "      <td>1.5</td>\n",
       "      <td>EUR</td>\n",
       "      <td>1.47</td>\n",
       "      <td>46.9</td>\n",
       "      <td>1.20</td>\n",
       "    </tr>\n",
       "  </tbody>\n",
       "</table>\n",
       "</div>"
      ],
      "text/plain": [
       "     Country  Density\\n(P/Km2) Abbreviation  Agricultural Land( %)  \\\n",
       "7    Armenia             104.0           AM                   58.9   \n",
       "8  Australia               3.0           AU                   48.2   \n",
       "9    Austria             109.0           AT                   32.4   \n",
       "\n",
       "  Land Area(Km2) Armed Forces size  Birth Rate  Calling Code  \\\n",
       "7         29,743            49,000       13.99         374.0   \n",
       "8      7,741,220            58,000       12.60          61.0   \n",
       "9         83,871            21,000        9.70          43.0   \n",
       "\n",
       "  Capital/Major City Co2-Emissions     CPI  CPI Change (%) Currency-Code  \\\n",
       "7            Yerevan         5,156  129.18             1.4           AMD   \n",
       "8           Canberra       375,908   119.8             1.6           AUD   \n",
       "9             Vienna        61,448  118.06             1.5           EUR   \n",
       "\n",
       "   Fertility Rate  Forested Area (%)  Gasoline Price  \n",
       "7            1.76               11.7            0.77  \n",
       "8            1.74               16.3            0.93  \n",
       "9            1.47               46.9            1.20  "
      ]
     },
     "execution_count": 26,
     "metadata": {},
     "output_type": "execute_result"
    }
   ],
   "source": [
    "world_1.iloc[7:10,:]"
   ]
  },
  {
   "cell_type": "markdown",
   "metadata": {},
   "source": [
    "2.2.5. Selecciona las columnas 2, 5 y 10 para todas las filas utilizando iloc."
   ]
  },
  {
   "cell_type": "code",
   "execution_count": 28,
   "metadata": {},
   "outputs": [
    {
     "data": {
      "text/html": [
       "<div>\n",
       "<style scoped>\n",
       "    .dataframe tbody tr th:only-of-type {\n",
       "        vertical-align: middle;\n",
       "    }\n",
       "\n",
       "    .dataframe tbody tr th {\n",
       "        vertical-align: top;\n",
       "    }\n",
       "\n",
       "    .dataframe thead th {\n",
       "        text-align: right;\n",
       "    }\n",
       "</style>\n",
       "<table border=\"1\" class=\"dataframe\">\n",
       "  <thead>\n",
       "    <tr style=\"text-align: right;\">\n",
       "      <th></th>\n",
       "      <th>Abbreviation</th>\n",
       "      <th>Armed Forces size</th>\n",
       "      <th>CPI</th>\n",
       "    </tr>\n",
       "  </thead>\n",
       "  <tbody>\n",
       "    <tr>\n",
       "      <th>0</th>\n",
       "      <td>AF</td>\n",
       "      <td>323,000</td>\n",
       "      <td>149.9</td>\n",
       "    </tr>\n",
       "    <tr>\n",
       "      <th>1</th>\n",
       "      <td>AL</td>\n",
       "      <td>9,000</td>\n",
       "      <td>119.05</td>\n",
       "    </tr>\n",
       "    <tr>\n",
       "      <th>2</th>\n",
       "      <td>DZ</td>\n",
       "      <td>317,000</td>\n",
       "      <td>151.36</td>\n",
       "    </tr>\n",
       "    <tr>\n",
       "      <th>3</th>\n",
       "      <td>AD</td>\n",
       "      <td>NaN</td>\n",
       "      <td>NaN</td>\n",
       "    </tr>\n",
       "    <tr>\n",
       "      <th>4</th>\n",
       "      <td>AO</td>\n",
       "      <td>117,000</td>\n",
       "      <td>261.73</td>\n",
       "    </tr>\n",
       "    <tr>\n",
       "      <th>...</th>\n",
       "      <td>...</td>\n",
       "      <td>...</td>\n",
       "      <td>...</td>\n",
       "    </tr>\n",
       "    <tr>\n",
       "      <th>190</th>\n",
       "      <td>VE</td>\n",
       "      <td>343,000</td>\n",
       "      <td>2,740.27</td>\n",
       "    </tr>\n",
       "    <tr>\n",
       "      <th>191</th>\n",
       "      <td>VN</td>\n",
       "      <td>522,000</td>\n",
       "      <td>163.52</td>\n",
       "    </tr>\n",
       "    <tr>\n",
       "      <th>192</th>\n",
       "      <td>YE</td>\n",
       "      <td>40,000</td>\n",
       "      <td>157.58</td>\n",
       "    </tr>\n",
       "    <tr>\n",
       "      <th>193</th>\n",
       "      <td>ZM</td>\n",
       "      <td>16,000</td>\n",
       "      <td>212.31</td>\n",
       "    </tr>\n",
       "    <tr>\n",
       "      <th>194</th>\n",
       "      <td>ZW</td>\n",
       "      <td>51,000</td>\n",
       "      <td>105.51</td>\n",
       "    </tr>\n",
       "  </tbody>\n",
       "</table>\n",
       "<p>195 rows × 3 columns</p>\n",
       "</div>"
      ],
      "text/plain": [
       "    Abbreviation Armed Forces size       CPI\n",
       "0             AF           323,000     149.9\n",
       "1             AL             9,000    119.05\n",
       "2             DZ           317,000    151.36\n",
       "3             AD               NaN       NaN\n",
       "4             AO           117,000    261.73\n",
       "..           ...               ...       ...\n",
       "190           VE           343,000  2,740.27\n",
       "191           VN           522,000    163.52\n",
       "192           YE            40,000    157.58\n",
       "193           ZM            16,000    212.31\n",
       "194           ZW            51,000    105.51\n",
       "\n",
       "[195 rows x 3 columns]"
      ]
     },
     "execution_count": 28,
     "metadata": {},
     "output_type": "execute_result"
    }
   ],
   "source": [
    "world_1.iloc[:, [2,5,10]]"
   ]
  },
  {
   "cell_type": "markdown",
   "metadata": {},
   "source": [
    "2.2.6. Encuentra el valor en la fila 63 y columna 8 utilizando iloc."
   ]
  },
  {
   "cell_type": "code",
   "execution_count": 30,
   "metadata": {},
   "outputs": [
    {
     "data": {
      "text/html": [
       "<div>\n",
       "<style scoped>\n",
       "    .dataframe tbody tr th:only-of-type {\n",
       "        vertical-align: middle;\n",
       "    }\n",
       "\n",
       "    .dataframe tbody tr th {\n",
       "        vertical-align: top;\n",
       "    }\n",
       "\n",
       "    .dataframe thead th {\n",
       "        text-align: right;\n",
       "    }\n",
       "</style>\n",
       "<table border=\"1\" class=\"dataframe\">\n",
       "  <thead>\n",
       "    <tr style=\"text-align: right;\">\n",
       "      <th></th>\n",
       "      <th>Capital/Major City</th>\n",
       "    </tr>\n",
       "  </thead>\n",
       "  <tbody>\n",
       "    <tr>\n",
       "      <th>63</th>\n",
       "      <td>Tbilisi</td>\n",
       "    </tr>\n",
       "  </tbody>\n",
       "</table>\n",
       "</div>"
      ],
      "text/plain": [
       "   Capital/Major City\n",
       "63            Tbilisi"
      ]
     },
     "execution_count": 30,
     "metadata": {},
     "output_type": "execute_result"
    }
   ],
   "source": [
    "world_1.iloc[[63],[8]] # Si incluimos la posición entre [] nos muestra en DF"
   ]
  },
  {
   "cell_type": "markdown",
   "metadata": {},
   "source": [
    "### 2.3. Unión de datos\n",
    "2.3.1. Carga el archivo 'world-data-2' como DataFrame (world_2)"
   ]
  },
  {
   "cell_type": "code",
   "execution_count": 31,
   "metadata": {},
   "outputs": [],
   "source": [
    "world_2=pd.read_csv(r'C:\\Users\\maria\\Desktop\\PythonII\\world-data-2.csv', index_col=0)"
   ]
  },
  {
   "cell_type": "markdown",
   "metadata": {},
   "source": [
    "2.3.2. Utiliza el método de unión de Pandas que consideres más adecuado para combinar los datos de ambos años en un solo DataFrame.\n",
    "\n",
    "- join \n",
    "df_join= df_left.join(df_right, how = 'tipo_de_join', lsuffix='', rsuffix = '') Hace uniones por coincidencia de índice\n",
    "- merge\n",
    "df_merge= df_left.merge(df_right, how='inner'], on = None, left_on=None, right_on= None) Hace unión por columnas que contienen la misma información.\n",
    "- concat\n",
    "df_concat = pd.concat ([df_1,df_2], axis= 0, join= 'outer', ignore_index = False)"
   ]
  },
  {
   "cell_type": "code",
   "execution_count": 32,
   "metadata": {},
   "outputs": [],
   "source": [
    "world= world_1.merge(world_2, how = 'inner', left_on = 'Country', right_on = 'country')"
   ]
  },
  {
   "cell_type": "code",
   "execution_count": 42,
   "metadata": {},
   "outputs": [
    {
     "data": {
      "text/plain": [
       "(195, 36)"
      ]
     },
     "execution_count": 42,
     "metadata": {},
     "output_type": "execute_result"
    }
   ],
   "source": [
    "world.shape"
   ]
  },
  {
   "cell_type": "markdown",
   "metadata": {},
   "source": [
    "2.3.3. Explica por qué elegiste ese método de unión y cómo se llevaron a cabo los pasos anteriores.\n"
   ]
  },
  {
   "cell_type": "markdown",
   "metadata": {},
   "source": [
    "2.3.4. Después de la unión de datos, tenemos dos columnas de con los nombres del país. Elimina una de ellas."
   ]
  },
  {
   "cell_type": "code",
   "execution_count": 41,
   "metadata": {},
   "outputs": [
    {
     "ename": "KeyError",
     "evalue": "\"['country'] not found in axis\"",
     "output_type": "error",
     "traceback": [
      "\u001b[1;31m---------------------------------------------------------------------------\u001b[0m",
      "\u001b[1;31mKeyError\u001b[0m                                  Traceback (most recent call last)",
      "Cell \u001b[1;32mIn[41], line 1\u001b[0m\n\u001b[1;32m----> 1\u001b[0m \u001b[43mworld\u001b[49m\u001b[38;5;241;43m.\u001b[39;49m\u001b[43mdrop\u001b[49m\u001b[43m(\u001b[49m\u001b[38;5;124;43m'\u001b[39;49m\u001b[38;5;124;43mcountry\u001b[39;49m\u001b[38;5;124;43m'\u001b[39;49m\u001b[43m,\u001b[49m\u001b[43m \u001b[49m\u001b[43maxis\u001b[49m\u001b[38;5;241;43m=\u001b[39;49m\u001b[38;5;241;43m1\u001b[39;49m\u001b[43m)\u001b[49m\n",
      "File \u001b[1;32mc:\\Users\\maria\\AppData\\Local\\Programs\\Python\\Python312\\Lib\\site-packages\\pandas\\core\\frame.py:5581\u001b[0m, in \u001b[0;36mDataFrame.drop\u001b[1;34m(self, labels, axis, index, columns, level, inplace, errors)\u001b[0m\n\u001b[0;32m   5433\u001b[0m \u001b[38;5;28;01mdef\u001b[39;00m \u001b[38;5;21mdrop\u001b[39m(\n\u001b[0;32m   5434\u001b[0m     \u001b[38;5;28mself\u001b[39m,\n\u001b[0;32m   5435\u001b[0m     labels: IndexLabel \u001b[38;5;241m|\u001b[39m \u001b[38;5;28;01mNone\u001b[39;00m \u001b[38;5;241m=\u001b[39m \u001b[38;5;28;01mNone\u001b[39;00m,\n\u001b[1;32m   (...)\u001b[0m\n\u001b[0;32m   5442\u001b[0m     errors: IgnoreRaise \u001b[38;5;241m=\u001b[39m \u001b[38;5;124m\"\u001b[39m\u001b[38;5;124mraise\u001b[39m\u001b[38;5;124m\"\u001b[39m,\n\u001b[0;32m   5443\u001b[0m ) \u001b[38;5;241m-\u001b[39m\u001b[38;5;241m>\u001b[39m DataFrame \u001b[38;5;241m|\u001b[39m \u001b[38;5;28;01mNone\u001b[39;00m:\n\u001b[0;32m   5444\u001b[0m \u001b[38;5;250m    \u001b[39m\u001b[38;5;124;03m\"\"\"\u001b[39;00m\n\u001b[0;32m   5445\u001b[0m \u001b[38;5;124;03m    Drop specified labels from rows or columns.\u001b[39;00m\n\u001b[0;32m   5446\u001b[0m \n\u001b[1;32m   (...)\u001b[0m\n\u001b[0;32m   5579\u001b[0m \u001b[38;5;124;03m            weight  1.0     0.8\u001b[39;00m\n\u001b[0;32m   5580\u001b[0m \u001b[38;5;124;03m    \"\"\"\u001b[39;00m\n\u001b[1;32m-> 5581\u001b[0m     \u001b[38;5;28;01mreturn\u001b[39;00m \u001b[38;5;28;43msuper\u001b[39;49m\u001b[43m(\u001b[49m\u001b[43m)\u001b[49m\u001b[38;5;241;43m.\u001b[39;49m\u001b[43mdrop\u001b[49m\u001b[43m(\u001b[49m\n\u001b[0;32m   5582\u001b[0m \u001b[43m        \u001b[49m\u001b[43mlabels\u001b[49m\u001b[38;5;241;43m=\u001b[39;49m\u001b[43mlabels\u001b[49m\u001b[43m,\u001b[49m\n\u001b[0;32m   5583\u001b[0m \u001b[43m        \u001b[49m\u001b[43maxis\u001b[49m\u001b[38;5;241;43m=\u001b[39;49m\u001b[43maxis\u001b[49m\u001b[43m,\u001b[49m\n\u001b[0;32m   5584\u001b[0m \u001b[43m        \u001b[49m\u001b[43mindex\u001b[49m\u001b[38;5;241;43m=\u001b[39;49m\u001b[43mindex\u001b[49m\u001b[43m,\u001b[49m\n\u001b[0;32m   5585\u001b[0m \u001b[43m        \u001b[49m\u001b[43mcolumns\u001b[49m\u001b[38;5;241;43m=\u001b[39;49m\u001b[43mcolumns\u001b[49m\u001b[43m,\u001b[49m\n\u001b[0;32m   5586\u001b[0m \u001b[43m        \u001b[49m\u001b[43mlevel\u001b[49m\u001b[38;5;241;43m=\u001b[39;49m\u001b[43mlevel\u001b[49m\u001b[43m,\u001b[49m\n\u001b[0;32m   5587\u001b[0m \u001b[43m        \u001b[49m\u001b[43minplace\u001b[49m\u001b[38;5;241;43m=\u001b[39;49m\u001b[43minplace\u001b[49m\u001b[43m,\u001b[49m\n\u001b[0;32m   5588\u001b[0m \u001b[43m        \u001b[49m\u001b[43merrors\u001b[49m\u001b[38;5;241;43m=\u001b[39;49m\u001b[43merrors\u001b[49m\u001b[43m,\u001b[49m\n\u001b[0;32m   5589\u001b[0m \u001b[43m    \u001b[49m\u001b[43m)\u001b[49m\n",
      "File \u001b[1;32mc:\\Users\\maria\\AppData\\Local\\Programs\\Python\\Python312\\Lib\\site-packages\\pandas\\core\\generic.py:4788\u001b[0m, in \u001b[0;36mNDFrame.drop\u001b[1;34m(self, labels, axis, index, columns, level, inplace, errors)\u001b[0m\n\u001b[0;32m   4786\u001b[0m \u001b[38;5;28;01mfor\u001b[39;00m axis, labels \u001b[38;5;129;01min\u001b[39;00m axes\u001b[38;5;241m.\u001b[39mitems():\n\u001b[0;32m   4787\u001b[0m     \u001b[38;5;28;01mif\u001b[39;00m labels \u001b[38;5;129;01mis\u001b[39;00m \u001b[38;5;129;01mnot\u001b[39;00m \u001b[38;5;28;01mNone\u001b[39;00m:\n\u001b[1;32m-> 4788\u001b[0m         obj \u001b[38;5;241m=\u001b[39m \u001b[43mobj\u001b[49m\u001b[38;5;241;43m.\u001b[39;49m\u001b[43m_drop_axis\u001b[49m\u001b[43m(\u001b[49m\u001b[43mlabels\u001b[49m\u001b[43m,\u001b[49m\u001b[43m \u001b[49m\u001b[43maxis\u001b[49m\u001b[43m,\u001b[49m\u001b[43m \u001b[49m\u001b[43mlevel\u001b[49m\u001b[38;5;241;43m=\u001b[39;49m\u001b[43mlevel\u001b[49m\u001b[43m,\u001b[49m\u001b[43m \u001b[49m\u001b[43merrors\u001b[49m\u001b[38;5;241;43m=\u001b[39;49m\u001b[43merrors\u001b[49m\u001b[43m)\u001b[49m\n\u001b[0;32m   4790\u001b[0m \u001b[38;5;28;01mif\u001b[39;00m inplace:\n\u001b[0;32m   4791\u001b[0m     \u001b[38;5;28mself\u001b[39m\u001b[38;5;241m.\u001b[39m_update_inplace(obj)\n",
      "File \u001b[1;32mc:\\Users\\maria\\AppData\\Local\\Programs\\Python\\Python312\\Lib\\site-packages\\pandas\\core\\generic.py:4830\u001b[0m, in \u001b[0;36mNDFrame._drop_axis\u001b[1;34m(self, labels, axis, level, errors, only_slice)\u001b[0m\n\u001b[0;32m   4828\u001b[0m         new_axis \u001b[38;5;241m=\u001b[39m axis\u001b[38;5;241m.\u001b[39mdrop(labels, level\u001b[38;5;241m=\u001b[39mlevel, errors\u001b[38;5;241m=\u001b[39merrors)\n\u001b[0;32m   4829\u001b[0m     \u001b[38;5;28;01melse\u001b[39;00m:\n\u001b[1;32m-> 4830\u001b[0m         new_axis \u001b[38;5;241m=\u001b[39m \u001b[43maxis\u001b[49m\u001b[38;5;241;43m.\u001b[39;49m\u001b[43mdrop\u001b[49m\u001b[43m(\u001b[49m\u001b[43mlabels\u001b[49m\u001b[43m,\u001b[49m\u001b[43m \u001b[49m\u001b[43merrors\u001b[49m\u001b[38;5;241;43m=\u001b[39;49m\u001b[43merrors\u001b[49m\u001b[43m)\u001b[49m\n\u001b[0;32m   4831\u001b[0m     indexer \u001b[38;5;241m=\u001b[39m axis\u001b[38;5;241m.\u001b[39mget_indexer(new_axis)\n\u001b[0;32m   4833\u001b[0m \u001b[38;5;66;03m# Case for non-unique axis\u001b[39;00m\n\u001b[0;32m   4834\u001b[0m \u001b[38;5;28;01melse\u001b[39;00m:\n",
      "File \u001b[1;32mc:\\Users\\maria\\AppData\\Local\\Programs\\Python\\Python312\\Lib\\site-packages\\pandas\\core\\indexes\\base.py:7070\u001b[0m, in \u001b[0;36mIndex.drop\u001b[1;34m(self, labels, errors)\u001b[0m\n\u001b[0;32m   7068\u001b[0m \u001b[38;5;28;01mif\u001b[39;00m mask\u001b[38;5;241m.\u001b[39many():\n\u001b[0;32m   7069\u001b[0m     \u001b[38;5;28;01mif\u001b[39;00m errors \u001b[38;5;241m!=\u001b[39m \u001b[38;5;124m\"\u001b[39m\u001b[38;5;124mignore\u001b[39m\u001b[38;5;124m\"\u001b[39m:\n\u001b[1;32m-> 7070\u001b[0m         \u001b[38;5;28;01mraise\u001b[39;00m \u001b[38;5;167;01mKeyError\u001b[39;00m(\u001b[38;5;124mf\u001b[39m\u001b[38;5;124m\"\u001b[39m\u001b[38;5;132;01m{\u001b[39;00mlabels[mask]\u001b[38;5;241m.\u001b[39mtolist()\u001b[38;5;132;01m}\u001b[39;00m\u001b[38;5;124m not found in axis\u001b[39m\u001b[38;5;124m\"\u001b[39m)\n\u001b[0;32m   7071\u001b[0m     indexer \u001b[38;5;241m=\u001b[39m indexer[\u001b[38;5;241m~\u001b[39mmask]\n\u001b[0;32m   7072\u001b[0m \u001b[38;5;28;01mreturn\u001b[39;00m \u001b[38;5;28mself\u001b[39m\u001b[38;5;241m.\u001b[39mdelete(indexer)\n",
      "\u001b[1;31mKeyError\u001b[0m: \"['country'] not found in axis\""
     ]
    }
   ],
   "source": [
    " world.drop('country', axis=1)"
   ]
  },
  {
   "cell_type": "markdown",
   "metadata": {},
   "source": [
    "2.3.4. Ahora guarda el DataFrame en un archivo csv llamado 'world-data.csv' utilizando df.to_csv(nombre_del_archivo)"
   ]
  },
  {
   "cell_type": "code",
   "execution_count": 43,
   "metadata": {},
   "outputs": [],
   "source": [
    "world.to_csv('../ejercicios/data/world-data.csv')"
   ]
  },
  {
   "cell_type": "markdown",
   "metadata": {},
   "source": [
    "### 2.4. Filtrado de datos.\n",
    "2.4.1. Encuentra todos los países cuya mortalidad infantil esté entre 50 y 75 personas por kilómetro cuadrado."
   ]
  },
  {
   "cell_type": "code",
   "execution_count": 46,
   "metadata": {},
   "outputs": [
    {
     "data": {
      "text/plain": [
       "4                                Angola\n",
       "18                                Benin\n",
       "28                          Ivory Coast\n",
       "31                             Cameroon\n",
       "34                                 Chad\n",
       "38                              Comoros\n",
       "45     Democratic Republic of the Congo\n",
       "53                    Equatorial Guinea\n",
       "69                               Guinea\n",
       "70                        Guinea-Bissau\n",
       "95                              Lesotho\n",
       "96                              Liberia\n",
       "105                                Mali\n",
       "108                          Mauritania\n",
       "117                          Mozambique\n",
       "131                            Pakistan\n",
       "163                         South Sudan\n",
       "Name: Country, dtype: object"
      ]
     },
     "execution_count": 46,
     "metadata": {},
     "output_type": "execute_result"
    }
   ],
   "source": [
    "mort_50_75 = world['Infant mortality'].between(50,75)\n",
    "world[mort_50_75]['Country']"
   ]
  },
  {
   "cell_type": "markdown",
   "metadata": {},
   "source": [
    "2.4.2. Encuentra los países cuyas tasas de natalidad son mayores o iguales a 15 y su esperanza de vida es mayor de 80 años."
   ]
  },
  {
   "cell_type": "code",
   "execution_count": 48,
   "metadata": {},
   "outputs": [
    {
     "data": {
      "text/plain": [
       "82    Israel\n",
       "Name: Country, dtype: object"
      ]
     },
     "execution_count": 48,
     "metadata": {},
     "output_type": "execute_result"
    }
   ],
   "source": [
    "tn= world['Birth Rate']>=15\n",
    "ev=world['Life expectancy']>80\n",
    "world[tn & ev]['Country']"
   ]
  },
  {
   "cell_type": "markdown",
   "metadata": {},
   "source": [
    "2.4.3. Encuentra las capitales cuyos paises contienen \"ar\" en su nombre."
   ]
  },
  {
   "cell_type": "code",
   "execution_count": 53,
   "metadata": {},
   "outputs": [
    {
     "data": {
      "text/plain": [
       "5      St. John's, Saint John\n",
       "14                 Bridgetown\n",
       "15                      Minsk\n",
       "25                      Sofia\n",
       "46                 Copenhagen\n",
       "75                   Budapest\n",
       "101              Antananarivo\n",
       "107                    Majuro\n",
       "118                 Naypyidaw\n",
       "124                   Managua\n",
       "136                  Asunci��\n",
       "141                      Doha\n",
       "149        City of San Marino\n",
       "Name: Capital/Major City, dtype: object"
      ]
     },
     "execution_count": 53,
     "metadata": {},
     "output_type": "execute_result"
    }
   ],
   "source": [
    "nom_ar= world['Country'].str.contains('ar')\n",
    "world[nom_ar]['Capital/Major City']"
   ]
  },
  {
   "cell_type": "markdown",
   "metadata": {},
   "source": [
    "### 2.5. Apply\n",
    "2.5.1. Crea una función para añadir una nueva columna que indique el número de infantes que sobrevivirían. a partir de Birth rate e Infant mortality  \n",
    "\n",
    "df['nueva_columna']=df['columna'].apply(funcion)\n",
    "df['nueva_columna']=df.apply(lambda x:df(x[col_1]x[col_2]),axis=1)"
   ]
  },
  {
   "cell_type": "code",
   "execution_count": 54,
   "metadata": {},
   "outputs": [],
   "source": [
    "def infant_survival_rate(columna_1, columna_2):\n",
    "  \"\"\"_Función para calcular el ratio de supervivencia infantil_\n",
    "\n",
    "  Parámetros/Args:\n",
    "      columna_1 (_type_): _Columna con los datos de tasa de natalidad_\n",
    "      columna_2 (_type_): _Columna con lso datos de mortalidad infantil_\n",
    "      \n",
    "  Retorna_\n",
    "      La tasa de supervivencia infantil\n",
    "  \"\"\"\n",
    "  try:\n",
    "      per_inf_mortal= 1-(columna_2/1000) #Calculamos el ratio de supervivencia infantil \n",
    "      return columna_1 * per_inf_mortal# Multiplicamos por el número de nacimientos \n",
    "  except:\n",
    "    np.nan # En caso de que no se pueda se rellenará el campo con un nulo"
   ]
  },
  {
   "cell_type": "code",
   "execution_count": 57,
   "metadata": {},
   "outputs": [
    {
     "data": {
      "text/plain": [
       "Index(['Country', 'Density\\n(P/Km2)', 'Abbreviation', 'Agricultural Land( %)',\n",
       "       'Land Area(Km2)', 'Armed Forces size', 'Birth Rate', 'Calling Code',\n",
       "       'Capital/Major City', 'Co2-Emissions', 'CPI', 'CPI Change (%)',\n",
       "       'Currency-Code', 'Fertility Rate', 'Forested Area (%)',\n",
       "       'Gasoline Price', 'GDP', 'Gross primary education enrollment (%)',\n",
       "       'Gross tertiary education enrollment (%)', 'Infant mortality',\n",
       "       'Largest city', 'Life expectancy', 'Maternal mortality ratio',\n",
       "       'Minimum wage', 'Official language', 'Out of pocket health expenditure',\n",
       "       'Physicians per thousand', 'Population',\n",
       "       'Population: Labor force participation (%)', 'Tax revenue (%)',\n",
       "       'Total tax rate', 'Unemployment rate', 'Urban_population', 'latitude',\n",
       "       'longitude', 'Continent'],\n",
       "      dtype='object')"
      ]
     },
     "execution_count": 57,
     "metadata": {},
     "output_type": "execute_result"
    }
   ],
   "source": [
    "world.columns"
   ]
  },
  {
   "cell_type": "code",
   "execution_count": 58,
   "metadata": {},
   "outputs": [],
   "source": [
    "world['Infant survival rate']=world.apply(lambda x: infant_survival_rate(x['Birth Rate'], x['Infant mortality']), axis=1)"
   ]
  },
  {
   "cell_type": "markdown",
   "metadata": {},
   "source": [
    "### 2.6. Group by ### \n",
    "df.groupby(columna a agrupar) [ columna a realizar la función].fagg()reset_index()\n",
    "\n",
    "2.6.1. ¿Cuál es la densidad de población promedio por continente?"
   ]
  },
  {
   "cell_type": "code",
   "execution_count": 59,
   "metadata": {},
   "outputs": [
    {
     "data": {
      "text/plain": [
       "Index(['Country', 'Density\\n(P/Km2)', 'Abbreviation', 'Agricultural Land( %)',\n",
       "       'Land Area(Km2)', 'Armed Forces size', 'Birth Rate', 'Calling Code',\n",
       "       'Capital/Major City', 'Co2-Emissions', 'CPI', 'CPI Change (%)',\n",
       "       'Currency-Code', 'Fertility Rate', 'Forested Area (%)',\n",
       "       'Gasoline Price', 'GDP', 'Gross primary education enrollment (%)',\n",
       "       'Gross tertiary education enrollment (%)', 'Infant mortality',\n",
       "       'Largest city', 'Life expectancy', 'Maternal mortality ratio',\n",
       "       'Minimum wage', 'Official language', 'Out of pocket health expenditure',\n",
       "       'Physicians per thousand', 'Population',\n",
       "       'Population: Labor force participation (%)', 'Tax revenue (%)',\n",
       "       'Total tax rate', 'Unemployment rate', 'Urban_population', 'latitude',\n",
       "       'longitude', 'Continent', 'Infant survival rate'],\n",
       "      dtype='object')"
      ]
     },
     "execution_count": 59,
     "metadata": {},
     "output_type": "execute_result"
    }
   ],
   "source": [
    "world.columns"
   ]
  },
  {
   "cell_type": "code",
   "execution_count": 60,
   "metadata": {},
   "outputs": [
    {
     "data": {
      "text/html": [
       "<div>\n",
       "<style scoped>\n",
       "    .dataframe tbody tr th:only-of-type {\n",
       "        vertical-align: middle;\n",
       "    }\n",
       "\n",
       "    .dataframe tbody tr th {\n",
       "        vertical-align: top;\n",
       "    }\n",
       "\n",
       "    .dataframe thead th {\n",
       "        text-align: right;\n",
       "    }\n",
       "</style>\n",
       "<table border=\"1\" class=\"dataframe\">\n",
       "  <thead>\n",
       "    <tr style=\"text-align: right;\">\n",
       "      <th></th>\n",
       "      <th>Continent</th>\n",
       "      <th>Density\\n(P/Km2)</th>\n",
       "    </tr>\n",
       "  </thead>\n",
       "  <tbody>\n",
       "    <tr>\n",
       "      <th>0</th>\n",
       "      <td>Africa</td>\n",
       "      <td>86.750000</td>\n",
       "    </tr>\n",
       "    <tr>\n",
       "      <th>1</th>\n",
       "      <td>America</td>\n",
       "      <td>133.055556</td>\n",
       "    </tr>\n",
       "    <tr>\n",
       "      <th>2</th>\n",
       "      <td>Asia</td>\n",
       "      <td>284.979167</td>\n",
       "    </tr>\n",
       "    <tr>\n",
       "      <th>3</th>\n",
       "      <td>Europa</td>\n",
       "      <td>818.930233</td>\n",
       "    </tr>\n",
       "    <tr>\n",
       "      <th>4</th>\n",
       "      <td>Oceania</td>\n",
       "      <td>145.750000</td>\n",
       "    </tr>\n",
       "  </tbody>\n",
       "</table>\n",
       "</div>"
      ],
      "text/plain": [
       "  Continent  Density\\n(P/Km2)\n",
       "0    Africa         86.750000\n",
       "1   America        133.055556\n",
       "2      Asia        284.979167\n",
       "3    Europa        818.930233\n",
       "4   Oceania        145.750000"
      ]
     },
     "execution_count": 60,
     "metadata": {},
     "output_type": "execute_result"
    }
   ],
   "source": [
    "world.groupby('Continent')['Density\\n(P/Km2)'].mean().reset_index()"
   ]
  },
  {
   "cell_type": "markdown",
   "metadata": {},
   "source": [
    "2.6.2. ¿Cuál es la mediana de la esperanza de vida por idioma oficial?"
   ]
  },
  {
   "cell_type": "code",
   "execution_count": 61,
   "metadata": {},
   "outputs": [
    {
     "data": {
      "text/html": [
       "<div>\n",
       "<style scoped>\n",
       "    .dataframe tbody tr th:only-of-type {\n",
       "        vertical-align: middle;\n",
       "    }\n",
       "\n",
       "    .dataframe tbody tr th {\n",
       "        vertical-align: top;\n",
       "    }\n",
       "\n",
       "    .dataframe thead th {\n",
       "        text-align: right;\n",
       "    }\n",
       "</style>\n",
       "<table border=\"1\" class=\"dataframe\">\n",
       "  <thead>\n",
       "    <tr style=\"text-align: right;\">\n",
       "      <th></th>\n",
       "      <th>Official language</th>\n",
       "      <th>Life expectancy</th>\n",
       "    </tr>\n",
       "  </thead>\n",
       "  <tbody>\n",
       "    <tr>\n",
       "      <th>0</th>\n",
       "      <td>Afrikaans</td>\n",
       "      <td>63.9</td>\n",
       "    </tr>\n",
       "    <tr>\n",
       "      <th>1</th>\n",
       "      <td>Albanian</td>\n",
       "      <td>78.5</td>\n",
       "    </tr>\n",
       "    <tr>\n",
       "      <th>2</th>\n",
       "      <td>Amharic</td>\n",
       "      <td>66.2</td>\n",
       "    </tr>\n",
       "    <tr>\n",
       "      <th>3</th>\n",
       "      <td>Arabic</td>\n",
       "      <td>75.0</td>\n",
       "    </tr>\n",
       "    <tr>\n",
       "      <th>4</th>\n",
       "      <td>Armenian</td>\n",
       "      <td>74.9</td>\n",
       "    </tr>\n",
       "    <tr>\n",
       "      <th>...</th>\n",
       "      <td>...</td>\n",
       "      <td>...</td>\n",
       "    </tr>\n",
       "    <tr>\n",
       "      <th>71</th>\n",
       "      <td>Tuvaluan Language</td>\n",
       "      <td>NaN</td>\n",
       "    </tr>\n",
       "    <tr>\n",
       "      <th>72</th>\n",
       "      <td>Ukrainian</td>\n",
       "      <td>71.6</td>\n",
       "    </tr>\n",
       "    <tr>\n",
       "      <th>73</th>\n",
       "      <td>Urdu</td>\n",
       "      <td>67.1</td>\n",
       "    </tr>\n",
       "    <tr>\n",
       "      <th>74</th>\n",
       "      <td>Uzbek</td>\n",
       "      <td>71.6</td>\n",
       "    </tr>\n",
       "    <tr>\n",
       "      <th>75</th>\n",
       "      <td>Vietnamese</td>\n",
       "      <td>75.3</td>\n",
       "    </tr>\n",
       "  </tbody>\n",
       "</table>\n",
       "<p>76 rows × 2 columns</p>\n",
       "</div>"
      ],
      "text/plain": [
       "    Official language  Life expectancy\n",
       "0           Afrikaans             63.9\n",
       "1            Albanian             78.5\n",
       "2             Amharic             66.2\n",
       "3              Arabic             75.0\n",
       "4            Armenian             74.9\n",
       "..                ...              ...\n",
       "71  Tuvaluan Language              NaN\n",
       "72          Ukrainian             71.6\n",
       "73               Urdu             67.1\n",
       "74              Uzbek             71.6\n",
       "75         Vietnamese             75.3\n",
       "\n",
       "[76 rows x 2 columns]"
      ]
     },
     "execution_count": 61,
     "metadata": {},
     "output_type": "execute_result"
    }
   ],
   "source": [
    "world.groupby('Official language')['Life expectancy'].median().reset_index()"
   ]
  },
  {
   "cell_type": "markdown",
   "metadata": {},
   "source": [
    "2.6.3. ¿Cuál es la tasa de mortalidad infantil máxima por moneda?"
   ]
  },
  {
   "cell_type": "code",
   "execution_count": 62,
   "metadata": {},
   "outputs": [
    {
     "data": {
      "text/html": [
       "<div>\n",
       "<style scoped>\n",
       "    .dataframe tbody tr th:only-of-type {\n",
       "        vertical-align: middle;\n",
       "    }\n",
       "\n",
       "    .dataframe tbody tr th {\n",
       "        vertical-align: top;\n",
       "    }\n",
       "\n",
       "    .dataframe thead th {\n",
       "        text-align: right;\n",
       "    }\n",
       "</style>\n",
       "<table border=\"1\" class=\"dataframe\">\n",
       "  <thead>\n",
       "    <tr style=\"text-align: right;\">\n",
       "      <th></th>\n",
       "      <th>Currency-Code</th>\n",
       "      <th>Infant mortality</th>\n",
       "    </tr>\n",
       "  </thead>\n",
       "  <tbody>\n",
       "    <tr>\n",
       "      <th>0</th>\n",
       "      <td>AED</td>\n",
       "      <td>6.5</td>\n",
       "    </tr>\n",
       "    <tr>\n",
       "      <th>1</th>\n",
       "      <td>AFN</td>\n",
       "      <td>47.9</td>\n",
       "    </tr>\n",
       "    <tr>\n",
       "      <th>2</th>\n",
       "      <td>ALL</td>\n",
       "      <td>7.8</td>\n",
       "    </tr>\n",
       "    <tr>\n",
       "      <th>3</th>\n",
       "      <td>AMD</td>\n",
       "      <td>11.0</td>\n",
       "    </tr>\n",
       "    <tr>\n",
       "      <th>4</th>\n",
       "      <td>AOA</td>\n",
       "      <td>51.6</td>\n",
       "    </tr>\n",
       "    <tr>\n",
       "      <th>...</th>\n",
       "      <td>...</td>\n",
       "      <td>...</td>\n",
       "    </tr>\n",
       "    <tr>\n",
       "      <th>128</th>\n",
       "      <td>XCD</td>\n",
       "      <td>32.9</td>\n",
       "    </tr>\n",
       "    <tr>\n",
       "      <th>129</th>\n",
       "      <td>XOF</td>\n",
       "      <td>62.0</td>\n",
       "    </tr>\n",
       "    <tr>\n",
       "      <th>130</th>\n",
       "      <td>YER</td>\n",
       "      <td>42.9</td>\n",
       "    </tr>\n",
       "    <tr>\n",
       "      <th>131</th>\n",
       "      <td>ZAR</td>\n",
       "      <td>28.5</td>\n",
       "    </tr>\n",
       "    <tr>\n",
       "      <th>132</th>\n",
       "      <td>ZMW</td>\n",
       "      <td>40.4</td>\n",
       "    </tr>\n",
       "  </tbody>\n",
       "</table>\n",
       "<p>133 rows × 2 columns</p>\n",
       "</div>"
      ],
      "text/plain": [
       "    Currency-Code  Infant mortality\n",
       "0             AED               6.5\n",
       "1             AFN              47.9\n",
       "2             ALL               7.8\n",
       "3             AMD              11.0\n",
       "4             AOA              51.6\n",
       "..            ...               ...\n",
       "128           XCD              32.9\n",
       "129           XOF              62.0\n",
       "130           YER              42.9\n",
       "131           ZAR              28.5\n",
       "132           ZMW              40.4\n",
       "\n",
       "[133 rows x 2 columns]"
      ]
     },
     "execution_count": 62,
     "metadata": {},
     "output_type": "execute_result"
    }
   ],
   "source": [
    "world.groupby('Currency-Code')['Infant mortality'].max().reset_index()"
   ]
  },
  {
   "cell_type": "markdown",
   "metadata": {},
   "source": [
    "2.6.4. ¿Cuál es el mínimo, máximo y promedio del salario mínimo de cada por continente?"
   ]
  },
  {
   "cell_type": "code",
   "execution_count": 63,
   "metadata": {},
   "outputs": [
    {
     "data": {
      "text/html": [
       "<div>\n",
       "<style scoped>\n",
       "    .dataframe tbody tr th:only-of-type {\n",
       "        vertical-align: middle;\n",
       "    }\n",
       "\n",
       "    .dataframe tbody tr th {\n",
       "        vertical-align: top;\n",
       "    }\n",
       "\n",
       "    .dataframe thead th {\n",
       "        text-align: right;\n",
       "    }\n",
       "</style>\n",
       "<table border=\"1\" class=\"dataframe\">\n",
       "  <thead>\n",
       "    <tr style=\"text-align: right;\">\n",
       "      <th></th>\n",
       "      <th>Continent</th>\n",
       "      <th>min</th>\n",
       "      <th>max</th>\n",
       "      <th>mean</th>\n",
       "    </tr>\n",
       "  </thead>\n",
       "  <tbody>\n",
       "    <tr>\n",
       "      <th>0</th>\n",
       "      <td>Africa</td>\n",
       "      <td>0.12</td>\n",
       "      <td>0.71</td>\n",
       "      <td>0.370000</td>\n",
       "    </tr>\n",
       "    <tr>\n",
       "      <th>1</th>\n",
       "      <td>America</td>\n",
       "      <td>0.01</td>\n",
       "      <td>9.51</td>\n",
       "      <td>2.031250</td>\n",
       "    </tr>\n",
       "    <tr>\n",
       "      <th>2</th>\n",
       "      <td>Asia</td>\n",
       "      <td>0.01</td>\n",
       "      <td>7.58</td>\n",
       "      <td>1.056250</td>\n",
       "    </tr>\n",
       "    <tr>\n",
       "      <th>3</th>\n",
       "      <td>Europa</td>\n",
       "      <td>0.31</td>\n",
       "      <td>13.05</td>\n",
       "      <td>4.875938</td>\n",
       "    </tr>\n",
       "    <tr>\n",
       "      <th>4</th>\n",
       "      <td>Oceania</td>\n",
       "      <td>0.38</td>\n",
       "      <td>13.59</td>\n",
       "      <td>4.846667</td>\n",
       "    </tr>\n",
       "  </tbody>\n",
       "</table>\n",
       "</div>"
      ],
      "text/plain": [
       "  Continent   min    max      mean\n",
       "0    Africa  0.12   0.71  0.370000\n",
       "1   America  0.01   9.51  2.031250\n",
       "2      Asia  0.01   7.58  1.056250\n",
       "3    Europa  0.31  13.05  4.875938\n",
       "4   Oceania  0.38  13.59  4.846667"
      ]
     },
     "execution_count": 63,
     "metadata": {},
     "output_type": "execute_result"
    }
   ],
   "source": [
    "world.groupby('Continent')['Minimum wage'].agg(['min','max','mean']).reset_index()"
   ]
  },
  {
   "cell_type": "markdown",
   "metadata": {},
   "source": []
  },
  {
   "cell_type": "markdown",
   "metadata": {},
   "source": [
    "2.6.5. ¿Cuál es el promedio de médicos por cada mil habitantes en cada continente?"
   ]
  },
  {
   "cell_type": "code",
   "execution_count": 64,
   "metadata": {},
   "outputs": [
    {
     "data": {
      "text/html": [
       "<div>\n",
       "<style scoped>\n",
       "    .dataframe tbody tr th:only-of-type {\n",
       "        vertical-align: middle;\n",
       "    }\n",
       "\n",
       "    .dataframe tbody tr th {\n",
       "        vertical-align: top;\n",
       "    }\n",
       "\n",
       "    .dataframe thead th {\n",
       "        text-align: right;\n",
       "    }\n",
       "</style>\n",
       "<table border=\"1\" class=\"dataframe\">\n",
       "  <thead>\n",
       "    <tr style=\"text-align: right;\">\n",
       "      <th></th>\n",
       "      <th>Continent</th>\n",
       "      <th>Physicians per thousand</th>\n",
       "    </tr>\n",
       "  </thead>\n",
       "  <tbody>\n",
       "    <tr>\n",
       "      <th>0</th>\n",
       "      <td>Africa</td>\n",
       "      <td>0.359091</td>\n",
       "    </tr>\n",
       "    <tr>\n",
       "      <th>1</th>\n",
       "      <td>America</td>\n",
       "      <td>1.996667</td>\n",
       "    </tr>\n",
       "    <tr>\n",
       "      <th>2</th>\n",
       "      <td>Asia</td>\n",
       "      <td>1.189140</td>\n",
       "    </tr>\n",
       "    <tr>\n",
       "      <th>3</th>\n",
       "      <td>Europa</td>\n",
       "      <td>3.693750</td>\n",
       "    </tr>\n",
       "    <tr>\n",
       "      <th>4</th>\n",
       "      <td>Oceania</td>\n",
       "      <td>1.465000</td>\n",
       "    </tr>\n",
       "  </tbody>\n",
       "</table>\n",
       "</div>"
      ],
      "text/plain": [
       "  Continent  Physicians per thousand\n",
       "0    Africa                 0.359091\n",
       "1   America                 1.996667\n",
       "2      Asia                 1.189140\n",
       "3    Europa                 3.693750\n",
       "4   Oceania                 1.465000"
      ]
     },
     "execution_count": 64,
     "metadata": {},
     "output_type": "execute_result"
    }
   ],
   "source": [
    "world.groupby('Continent')['Physicians per thousand'].mean().reset_index()"
   ]
  },
  {
   "cell_type": "markdown",
   "metadata": {},
   "source": [
    "## 3. Ejercicios bonus\n",
    "### 3.1. Pandas Básico\n",
    "3.1.1. Muestra las últimas 5 filas del conjunto de datos.\n",
    "\n",
    "3.1.2. Reproduce una muestra aleatoria de 5 filas del conjunto de datos.\n",
    "\n",
    "3.1.3. Itera por todas las columnas y muestra sus valores únicos y el conteo de cada uno.\n"
   ]
  },
  {
   "cell_type": "code",
   "execution_count": null,
   "metadata": {},
   "outputs": [],
   "source": []
  },
  {
   "cell_type": "markdown",
   "metadata": {},
   "source": [
    "### 3.2. Loc e iloc\n",
    "3.2.1. Selecciona todas las columnas de las filas 2 a 4 (inclusive) utilizando loc.\n",
    "\n",
    "3.2.2. Selecciona todas las columnas para el país cuya capital es \"Tirana\" utilizando loc.\n",
    "\n",
    "3.2.3. Filtra el conjunto de datos para mostrar solo las filas donde el índice de CPI (columna \"CPI\") sea igual a 128.85.\n",
    "\n",
    "3.2.4. Selecciona las columnas \"Country\" y \"Co2-Emissions\".\n",
    "\n",
    "3.2.5. Filtra el conjunto de datos para mostrar solo las filas donde el índice de CPI cambió un 2% (columna \"CPI Change (%)\").\n",
    "\n",
    "3.2.6. Encuentra la tasa de natalidad (columna \"Birth Rate\") para el país con la abreviatura \"AF\" utilizando loc.\n",
    "\n",
    "3.2.7. Selecciona todas las filas de las columnas 0 a 4 (excluyendo la columna 4) utilizando iloc.\n",
    "\n",
    "3.2.8. Selecciona todas las filas para las columnas 0, 2, y 5 utilizando iloc.\n",
    "\n",
    "3.2.9. Selecciona las filas 0, 2 y 4 para todas las columnas utilizando iloc.\n",
    "\n",
    "3.2.10. Encuentra el valor en la última fila y la última columna utilizando iloc.\n",
    "\n",
    "3.2.11. Selecciona las filas 1 a 3 (inclusive) para todas las columnas utilizando iloc.\n",
    "\n",
    "3.2.12. Selecciona todas las filas para las columnas 1, 4 y 6 utilizando iloc.\n",
    "\n",
    "3.2.13. Encuentra el valor en la fila 4 y columna 2 utilizando iloc.\n"
   ]
  },
  {
   "cell_type": "code",
   "execution_count": null,
   "metadata": {},
   "outputs": [],
   "source": []
  },
  {
   "cell_type": "markdown",
   "metadata": {},
   "source": [
    "### 3.3. Filtrado de datos.\n",
    "3.3.1. Encuentra los países cuyos medicos por cada 1000 habitantes (physicians_per_thousand) sea mayores de 5.\n",
    "\n",
    "3.3.2. Encuentra los países cuyatasa de fertilidad sea mayor a 6.\n",
    "\n",
    "3.3.3. Encuentra los países cuya moneda es el euro (EUR) y tienen una tasa de natalidad superior al promedio.\n",
    "\n",
    "3.3.4. Encuentra los países cuyas tasas de mortalidad infantil son superiores a 70.\n",
    "### 3.4. Apply\n",
    "3.4.1. Crea una función para añadir una nueva columna llamada 'Percent Urban Population' al DataFrame para indicar a qué porcentaje de población urbana tiene cada país.\n",
    "\n"
   ]
  },
  {
   "cell_type": "code",
   "execution_count": null,
   "metadata": {},
   "outputs": [],
   "source": []
  },
  {
   "cell_type": "markdown",
   "metadata": {},
   "source": [
    "### 3.5. Group by\n",
    "3.5.1. ¿Cuál es la tasa de impuestos total máxima por densidad de población por continente? Para solucionar este ejercicio puedes:\n",
    "- Primero, necesitas calcular la tasa de impuestos total para cada continente. La tasa de impuestos total se encuentra en la columna \"total_tax_rate\".\n",
    "- Luego, calcula la densidad de población para cada continente. La densidad de población se encuentra en la columna \"density\".\n",
    "- Ahora, divide la tasa de impuestos total entre la densidad de población para obtener la tasa de impuestos total por persona por kilómetro cuadrado.\n",
    "- Encuentra el país que tiene el valor más alto en esta nueva columna calculada.\n",
    "\n",
    "3.5.2. ¿Cuál es la diferencia entre el PIB promedio y el gasto en salud de bolsillo promedio por idioma oficial? Para contestar esta pregunta dabes seguir los siguientes pasos:\n",
    "- Agrupa el DataFrame por idioma oficial y calcula la media del Gasto de Bolsillo en salud (out_of_pocket_health_expenditure) y del GPD.\n",
    "- Calcula la diferencia entre el PIB promedio y el gasto en salud de bolsillo promedio\n",
    "\n",
    "3.5.3. ¿Cuál es la tasa de maternidad promedio por tasa de impuestos total? Para resolver el ejercicio deberás:\n",
    "- Primero, calcula la tasa de maternidad promedio para cada continente. Puedes usar la columna \"maternal_mortality_ratio\" que representa la tasa de mortalidad materna.\n",
    "- Calcula la tasa de impuestos total promedio para cada continente. Puedes usar la columna \"total_tax_rate\" que representa la tasa de impuestos total en cada continente.\n",
    "- Luego, divide la tasa de maternidad promedio por la tasa de impuestos total promedio para obtener la relación entre ambas tasas.\n",
    "Encuentra el país con la tasa de maternidad más alta por punto porcentual de tasa de impuestos total.\n",
    "\n",
    "3.5.4. ¿Cuál es la tasa de natalidad máxima por área forestal por continente? Encuentra el país con la tasa de natalidad más alta por cada punto porcentual de área forestal.\n",
    "\n",
    "3.5.5. ¿Cuál es la diferencia entre la tasa de impuestos total y la tasa de desempleo promedio por continente?"
   ]
  }
 ],
 "metadata": {
  "kernelspec": {
   "display_name": "Python 3",
   "language": "python",
   "name": "python3"
  },
  "language_info": {
   "codemirror_mode": {
    "name": "ipython",
    "version": 3
   },
   "file_extension": ".py",
   "mimetype": "text/x-python",
   "name": "python",
   "nbconvert_exporter": "python",
   "pygments_lexer": "ipython3",
   "version": "3.12.3"
  }
 },
 "nbformat": 4,
 "nbformat_minor": 2
}
