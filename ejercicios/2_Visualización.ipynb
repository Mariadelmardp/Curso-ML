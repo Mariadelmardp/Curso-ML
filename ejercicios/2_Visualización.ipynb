{
 "cells": [
  {
   "cell_type": "markdown",
   "metadata": {},
   "source": [
    "<h1>Índice Del Reto Guiado de Visualización</h1>\n",
    "<div class=\"toc\">\n",
    "    <ul class=\"toc-item\">\n",
    "        <li>\n",
    "            <span><a href=\"#1-resumen-del-reto-guiado-de-visualización\">1. Resumen del reto guiado de Visualización.</a></span>\n",
    "            <ul class=\"toc-item\">\n",
    "                <li><span><a href=\"#11-conocimientos-previos\">1.1. Conocimientos previos.</a></span></li>\n",
    "                <li><span><a href=\"#12-propósito-del-reto-e-información-de-los-datos\">1.2. Propósito del reto e información de los datos.</a></span></li>\n",
    "                <li><span><a href=\"#13-librerías-necesarias\">1.3. Librerías necesarias.</a></span></li>\n",
    "            </ul>\n",
    "        </li>\n",
    "        <li>\n",
    "            <span><a href=\"#2-ejercicios\">2. Ejercicios</a></span>\n",
    "        </li>\n",
    "    </ul>\n",
    "</div>\n",
    "    \n"
   ]
  },
  {
   "cell_type": "markdown",
   "metadata": {},
   "source": [
    "## 1. Resumen del reto guiado de Visualización.\n",
    "### 1.1. Conocimientos previos.\n",
    "- Python (Completo)\n",
    "- Pandas\n",
    "- Visualización\n",
    "\n",
    "### 1.2. Propósito del reto e información de los datos.\n",
    "El propósito de este reto guiado es poner en práctica los creación de visualizacioes para poder sacar información de forma sencilla de los datos que disponemos.\n",
    "En este caso vamos a utilizar el set de datos que guardamos en el reto guiado anterior. Las columnas para el set de datos son:\n",
    "\n",
    "**world-data**\n",
    "- **Country**: Nombre del país.\n",
    "\n",
    "- **Density (P/Km2)**: Densidad de población medida en personas por kilómetro cuadrado.\n",
    "\n",
    "- **Abbreviation**: Abreviatura o código que representa al país.\n",
    "\n",
    "\n",
    "- **Agricultural Land(%)**: Porcentaje del área total de tierra utilizada con fines agrícolas.\n",
    "- **Land Area(Km2)**: Área total de tierra del país en kilómetros cuadrados.\n",
    "\n",
    "- **Armed Forces size**: Tamaño de las fuerzas armadas en el país.\n",
    "\n",
    "- **Birth Rate**: Número de nacimientos por cada 1,000 habitantes por año.\n",
    "\n",
    "- **Calling Code**: Código internacional de llamada para el país.\n",
    "\n",
    "- **Capital/Major City**: Nombre de la capital o ciudad principal.\n",
    "\n",
    "- **Co2-Emissions**: Emisiones de dióxido de carbono en toneladas.\n",
    "\n",
    "- **CPI**: Índice de Precios al Consumidor (IPC), una medida de la inflación y el poder adquisitivo.\n",
    "\n",
    "- **CPI Change (%)**: Cambio porcentual en el Índice de Precios al Consumidor en comparación con el año anterior.\n",
    "\n",
    "- **Currency-Code**: Código de moneda utilizado en el país.\n",
    "\n",
    "- **Fertility Rate**: Número promedio de hijos nacidos de una mujer durante su vida.\n",
    "\n",
    "- **Forested Area (%)**: Porcentaje del área total cubierta por bosques.\n",
    "\n",
    "- **Gasoline Price**: Precio de la gasolina por litro en moneda local.\n",
    "\n",
    "- **GDP**: Producto Interno Bruto, el valor total de bienes y servicios producidos en el país.\n",
    "\n",
    "- **Gross primary education enrollment (%)**: Tasa bruta de matriculación en educación primaria.\n",
    "\n",
    "- **Gross tertiary education enrollment (%)**: Tasa bruta de matriculación en educación terciaria.\n",
    "\n",
    "- **Infant mortality**: Número de muertes por cada 1,000 nacidos vivos antes de cumplir un año de edad.\n",
    "\n",
    "- **Largest city**: Nombre de la ciudad más grande del país.\n",
    "\n",
    "- **Life expectancy**: Número promedio de años que se espera que viva un recién nacido.\n",
    "\n",
    "- **Maternal mortality ratio**: Número de muertes maternas por cada 100,000 nacidos vivos.\n",
    "\n",
    "- **Minimum wage**: Nivel de salario mínimo en moneda local.\n",
    "\n",
    "- **Official language**: Idioma(s) oficial(es) hablado(s) en el país.\n",
    "\n",
    "- **Out of pocket health expenditure**: Porcentaje del gasto total en salud pagado directamente por individuos.\n",
    "\n",
    "- **Physicians per thousand**: Número de médicos por cada mil personas.\n",
    "\n",
    "- **Population**: Población total del país.\n",
    "\n",
    "- **Population: Labor force participation (%)**: Porcentaje de la población que forma parte de la fuerza laboral.\n",
    "\n",
    "- **Tax revenue (%)**: Ingresos fiscales como porcentaje del PIB.\n",
    "\n",
    "- **Total tax rate**: Carga fiscal total como porcentaje de las ganancias comerciales.\n",
    "\n",
    "- **Unemployment rate**: Porcentaje de la fuerza laboral que está desempleada.\n",
    "\n",
    "- **Urban_population**: Porcentaje de la población que vive en áreas urbanas.\n",
    "\n",
    "- **latitude**:Coordenadas de latitud de la ubicación del país.\n",
    "\n",
    "- **longitude**:Coordenadas de longitud de la ubicación del país.\n",
    "\n",
    "- **Continent**: Continente en el que se encuentra el país."
   ]
  },
  {
   "cell_type": "markdown",
   "metadata": {},
   "source": [
    "### 1.3. Librerías necesarias.\n",
    "Primero importamos las librerías necesarias para poder llevar a cabo los ejercicios."
   ]
  },
  {
   "cell_type": "code",
   "execution_count": 1,
   "metadata": {},
   "outputs": [],
   "source": [
    "# Tratamiento de datos\n",
    "import pandas as pd\n",
    "import numpy as np\n",
    "#Librerías de visualización\n",
    "import seaborn as sns\n",
    "import plotly.express as px\n",
    "import matplotlib.pyplot as plt"
   ]
  },
  {
   "cell_type": "markdown",
   "metadata": {},
   "source": [
    "## 2. Ejercicios\n",
    "2.2.1. Carga el archivo 'world-data' como DataFrame (world)\n"
   ]
  },
  {
   "cell_type": "code",
   "execution_count": 3,
   "metadata": {},
   "outputs": [
    {
     "data": {
      "text/plain": [
       "Index(['Unnamed: 0', 'Country', 'Density\\n(P/Km2)', 'Abbreviation',\n",
       "       'Agricultural Land( %)', 'Land Area(Km2)', 'Armed Forces size',\n",
       "       'Birth Rate', 'Calling Code', 'Capital/Major City', 'Co2-Emissions',\n",
       "       'CPI', 'CPI Change (%)', 'Currency-Code', 'Fertility Rate',\n",
       "       'Forested Area (%)', 'Gasoline Price', 'GDP',\n",
       "       'Gross primary education enrollment (%)',\n",
       "       'Gross tertiary education enrollment (%)', 'Infant mortality',\n",
       "       'Largest city', 'Life expectancy', 'Maternal mortality ratio',\n",
       "       'Minimum wage', 'Official language', 'Out of pocket health expenditure',\n",
       "       'Physicians per thousand', 'Population',\n",
       "       'Population: Labor force participation (%)', 'Tax revenue (%)',\n",
       "       'Total tax rate', 'Unemployment rate', 'Urban_population', 'country',\n",
       "       'latitude', 'longitude', 'Continent'],\n",
       "      dtype='object')"
      ]
     },
     "execution_count": 3,
     "metadata": {},
     "output_type": "execute_result"
    }
   ],
   "source": [
    "world = pd.read_csv(r'C:\\Users\\maria\\Documents\\FormacionDataAnalytics\\ejercicios\\data\\world-data.csv')\n",
    "world.columns"
   ]
  },
  {
   "cell_type": "markdown",
   "metadata": {},
   "source": [
    "2.2.2. ¿Cómo se distribuye la tasa de natalidad en el conjunto de datos? ¿Hay algún patrón evidente? (Histograma)"
   ]
  },
  {
   "cell_type": "code",
   "execution_count": null,
   "metadata": {},
   "outputs": [],
   "source": []
  },
  {
   "cell_type": "markdown",
   "metadata": {},
   "source": [
    "2.2.3. ¿Existe una relación aparente entre la tasa de mortalidad infantil y la esperanza de vida? Proporciona una breve descripción de los patrones que observes (Regplot).\n",
    "\n",
    "2.2.4. ¿Cuál es el continente con la mayor cantidad de países en el conjunto de datos? Proporciona el porcentaje de países en ese continente(Pie plot. Recuerda que primero debes hacer un group by con la columna a estuduar).\n",
    "\n",
    "2.2.5. ¿Cuál es la mediana de la esperanza de vida en Europa? Proporciona un rango intercuartil aproximado y verifica si existen valores atípicos.(Boxplot)\n",
    "\n",
    "2.2.6. ¿Cual es el continente con mayor número de países? (Countplot)\n",
    "\n",
    "2.2.7. Estudia la relación entre el porcentaje de desempleados y la tasa bruta de matriculación en educación primaria y terciaria (Scatterplot)\n",
    "\n",
    "2.2.8. Estudia la distribucíon del gasto en salud del ciudadano en América. Indica la mediana y la densidad.(Violinplot)"
   ]
  }
 ],
 "metadata": {
  "kernelspec": {
   "display_name": "base",
   "language": "python",
   "name": "python3"
  },
  "language_info": {
   "codemirror_mode": {
    "name": "ipython",
    "version": 3
   },
   "file_extension": ".py",
   "mimetype": "text/x-python",
   "name": "python",
   "nbconvert_exporter": "python",
   "pygments_lexer": "ipython3",
   "version": "3.12.3"
  }
 },
 "nbformat": 4,
 "nbformat_minor": 2
}
