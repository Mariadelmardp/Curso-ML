{
 "cells": [
  {
   "cell_type": "markdown",
   "metadata": {},
   "source": [
    "# Estructuras de control 'Los Condicionales'"
   ]
  },
  {
   "cell_type": "code",
   "execution_count": 15,
   "metadata": {},
   "outputs": [
    {
     "name": "stdout",
     "output_type": "stream",
     "text": [
      "La tempereatura es de 20 grados, por lo tanto tiempo es TEMPLADO\n"
     ]
    }
   ],
   "source": [
    "# Escribir un programa de temperatura\n",
    "temp= int(input('¿A que temperatura estamos?:'))\n",
    "\n",
    "if temp < 15:\n",
    "  print(f'La temperatura es de {temp} grados, por lo tanto hace FRÍO')\n",
    "elif 15 <= temp <= 25:\n",
    "  print(f'La tempereatura es de {temp} grados, por lo tanto tiempo es TEMPLADO')\n",
    "else: \n",
    "  print(f'La temperatura es de {temp} grado, por lo tanto hace CALOR')\n",
    "  \n",
    "  "
   ]
  },
  {
   "cell_type": "code",
   "execution_count": 17,
   "metadata": {},
   "outputs": [
    {
     "name": "stdout",
     "output_type": "stream",
     "text": [
      "El número es igual a cero\n"
     ]
    }
   ],
   "source": [
    "# Escribir un programa de pares vs impares\n",
    "numero = 0\n",
    "\n",
    "if numero > 0:\n",
    "  if numero % 2 == 0:\n",
    "    print(f'El número {numero} es positivo y par')\n",
    "  else:\n",
    "    print(f'El número {numero} es positivo e impar')\n",
    "elif numero ==0:\n",
    "  print(f'El número es igual a cero')\n",
    "else:\n",
    "  print(f'El número {numero} es negativo')"
   ]
  },
  {
   "cell_type": "code",
   "execution_count": null,
   "metadata": {},
   "outputs": [
    {
     "name": "stdout",
     "output_type": "stream",
     "text": [
      "No cumple los requisitos para entrar al cine\n"
     ]
    }
   ],
   "source": [
    "# Escribir programa para ver acceso al cine de una personad\n",
    "\n",
    "edad= 18\n",
    "tiene_entrada = False # Con variables boleanas no hay que especificar porque se da por hecho que que True es la condicion que se cumple\n",
    "\n",
    "if edad >=18 and tiene_entrada: # Utilizamos and proque queremos que se cumplan las 2 condiciones\n",
    "  print('Puede entrar')\n",
    "else:\n",
    "  print('No cumple los requisitos para entrar al cine')"
   ]
  },
  {
   "cell_type": "code",
   "execution_count": 20,
   "metadata": {},
   "outputs": [
    {
     "name": "stdout",
     "output_type": "stream",
     "text": [
      "El día de la semana domingo es fin de semana\n"
     ]
    }
   ],
   "source": [
    "# Escribir un programa sobre los dias de la semana\n",
    "\n",
    "dia= \"domingo\"\n",
    "\n",
    "if dia == \"sádano\" or dia == \"domingo\":\n",
    "  print(f'El día de la semana {dia} es fin de semana')\n",
    "else:\n",
    "  print(f'El dia de la semana {dia} es entre semana')"
   ]
  },
  {
   "cell_type": "code",
   "execution_count": 34,
   "metadata": {},
   "outputs": [
    {
     "name": "stdout",
     "output_type": "stream",
     "text": [
      "Estas suspendido 😒\n",
      "No superas ni la puntucionde 60 en calificaion ni el 75 % de asistencia pobligatoria para superar el curso\n"
     ]
    }
   ],
   "source": [
    "# Sistema de calificación de alumnos, condiciones: Obtener una calificación de al 60 y tener una asistencia del 75 %.\n",
    "calificacion = int(input('Por favor ingrese su nota: '))\n",
    "\n",
    "if calificacion < 0 or calificacion >100:\n",
    "  print(f'Nota feura de rango')\n",
    "else:\n",
    "  asistencia = int(input('Por favor ingrese su asistencia a clase: '))\n",
    "  if calificacion >=60 and asistencia >=75:\n",
    "    print('El estudiante ha APROBADO !!!❤️')\n",
    "  else: \n",
    "    print('Estas suspendido 😒')\n",
    "    \n",
    "    if calificacion <60 and asistencia >=75:\n",
    "     print(f'La nota es de {calificacion} puntos y el varemos esta en 60 puntos, por lo cual es insuficiente')\n",
    "    elif asistencia < 76 and calificacion >=60:\n",
    "      print(f'Tu asistencia es de {asistencia} % de la clases, por lo cual no superas el 75 % obligatorio para aprobar')\n",
    "    else:\n",
    "      print('No superas ni la puntucionde 60 en calificaion ni el 75 % de asistencia pobligatoria para superar el curso')\n",
    "  \n"
   ]
  },
  {
   "cell_type": "code",
   "execution_count": 37,
   "metadata": {},
   "outputs": [
    {
     "name": "stdout",
     "output_type": "stream",
     "text": [
      "Acceso denegado 🚫\n",
      "La contraseña es incorrecta\n",
      "No has aceptado los terminos\n"
     ]
    }
   ],
   "source": [
    "# Verificacion de acceso de un sistema\n",
    "\n",
    "contraseña_correcta = False\n",
    "acepto_terminos= False\n",
    "\n",
    "if contraseña_correcta and acepto_terminos:\n",
    "  print('Acceso concedido 🎉 ')\n",
    "else:\n",
    "  print('Acceso denegado 🚫')\n",
    "  if not contraseña_correcta:\n",
    "    print(f'La contraseña es incorrecta')\n",
    "  if not acepto_terminos:\n",
    "    print(f'No has aceptado los terminos')"
   ]
  }
 ],
 "metadata": {
  "kernelspec": {
   "display_name": "Python 3",
   "language": "python",
   "name": "python3"
  },
  "language_info": {
   "codemirror_mode": {
    "name": "ipython",
    "version": 3
   },
   "file_extension": ".py",
   "mimetype": "text/x-python",
   "name": "python",
   "nbconvert_exporter": "python",
   "pygments_lexer": "ipython3",
   "version": "3.12.3"
  }
 },
 "nbformat": 4,
 "nbformat_minor": 2
}
