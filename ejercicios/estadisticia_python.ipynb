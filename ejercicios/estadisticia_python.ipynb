{
 "cells": [
  {
   "cell_type": "markdown",
   "metadata": {},
   "source": [
    " "
   ]
  },
  {
   "cell_type": "code",
   "execution_count": null,
   "metadata": {},
   "outputs": [],
   "source": [
    "import pandas as pd\n",
    "import numpy as np \n",
    "import seaborn as sns\n",
    "import matplotlib.pyplot as plt\n",
    "import scipy.stats as stats"
   ]
  },
  {
   "cell_type": "code",
   "execution_count": null,
   "metadata": {},
   "outputs": [],
   "source": [
    "df="
   ]
  },
  {
   "cell_type": "code",
   "execution_count": null,
   "metadata": {},
   "outputs": [],
   "source": [
    "# Intervalo de Confianza. IC\n",
    "precio = df['Precio']\n",
    "# Calcular la media de la muestra \n",
    "media_precio = np.mean(precio)\n",
    "# Desviación de la muestra \n",
    "desviacion_precio = np.std(precio, ddof=1) # Grados de libertad, elegimos 1 porque ---\n",
    "# Tamaño de la muestra \n",
    "n_precio= len(precio)\n",
    "# Nivel de confianza 95% -- Ɑ =0.05\n",
    "alpha = 0.05\n",
    "# Grados de libertad para la distribución de T-Students\n",
    "n_precio_t = n_precio - 1\n",
    "# Valor Critico \n",
    "t_critico = stats.t.ppf(1- alpha/2, n_precio_t)\n",
    "# Error estandar de la media\n",
    "error_estandar= desviacion_precio/np.sqrt(n_precio)\n",
    "# Intervalo de confianza\n",
    "ic_inferior= media_precio - t_critico * error_estandar\n",
    "ic_superior= media_precio + t_critico * error_estandar\n",
    "\n",
    "print(f'Intervalo de confianza del 95% par ala media del precio:n\\ IC inferior{ic_inferior}n\\ IC superior {ic_superior}')"
   ]
  }
 ],
 "metadata": {
  "kernelspec": {
   "display_name": "Python 3",
   "language": "python",
   "name": "python3"
  },
  "language_info": {
   "codemirror_mode": {
    "name": "ipython",
    "version": 3
   },
   "file_extension": ".py",
   "mimetype": "text/x-python",
   "name": "python",
   "nbconvert_exporter": "python",
   "pygments_lexer": "ipython3",
   "version": "3.12.3"
  }
 },
 "nbformat": 4,
 "nbformat_minor": 2
}
