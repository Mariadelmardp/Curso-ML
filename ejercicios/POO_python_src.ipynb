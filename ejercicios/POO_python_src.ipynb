{
 "cells": [
  {
   "cell_type": "code",
   "execution_count": 1,
   "metadata": {},
   "outputs": [],
   "source": [
    "from src import POO_python as emp"
   ]
  },
  {
   "cell_type": "markdown",
   "metadata": {},
   "source": [
    "1. Crea una clase base Empleado con atributos nombre, esas y slario, y un m\n",
    "etodo mostrar_info que imprima esta inforamción."
   ]
  },
  {
   "cell_type": "code",
   "execution_count": 2,
   "metadata": {},
   "outputs": [
    {
     "data": {
      "text/plain": [
       "'El empleado llamado Ana tiene 20 años y cobra 7000 €'"
      ]
     },
     "execution_count": 2,
     "metadata": {},
     "output_type": "execute_result"
    }
   ],
   "source": [
    "empleado_1= emp.Empleados('Ana', 20, 7000)\n",
    "empleado_1.mostrar_info()"
   ]
  },
  {
   "cell_type": "markdown",
   "metadata": {},
   "source": [
    "2. Crea un clase `Gerente` que hereda de `Empleado` y que además tenga un atributo `departamento`. \n",
    "  - Sobreescribe el método `mostrar_info` para que también muestre el departamento."
   ]
  },
  {
   "cell_type": "code",
   "execution_count": 3,
   "metadata": {},
   "outputs": [
    {
     "data": {
      "text/plain": [
       "'El empleado llamado Ana tiene 20 años y cobra 7000 € y pertenece al departamento de Recursos Humanos'"
      ]
     },
     "execution_count": 3,
     "metadata": {},
     "output_type": "execute_result"
    }
   ],
   "source": [
    "empleado_1= emp.Gerente('Ana', 20, 7000, 'Recursos Humanos')\n",
    "empleado_1.mostrar_info()"
   ]
  },
  {
   "cell_type": "markdown",
   "metadata": {},
   "source": [
    "3. Crea una clase `Ingeniero`que herede de `Empleado` y que tenga un atributo `especialidad`.\n",
    "  - Sobreescribe el método `mostrar_info` para que tmabién muestre la especialidad."
   ]
  },
  {
   "cell_type": "code",
   "execution_count": 4,
   "metadata": {},
   "outputs": [
    {
     "data": {
      "text/plain": [
       "'El empleado llamado Pedro tiene 57 años y cobra 36780 € con la especialidad en  Ingeniero Informático'"
      ]
     },
     "execution_count": 4,
     "metadata": {},
     "output_type": "execute_result"
    }
   ],
   "source": [
    "empleado_3= emp.Ingeniero('Pedro', 57, 36780, 'Ingeniero Informático'   )\n",
    "empleado_3.mostrar_info()"
   ]
  },
  {
   "cell_type": "markdown",
   "metadata": {},
   "source": [
    "4. Crea una lista de empleados que incluya objetos de tipo `Gerente` e `Ingeniero` y recórrela llamando a `mostrar_info`para cada uno, observando como se adpata el métod según el tipo de empelado."
   ]
  },
  {
   "cell_type": "code",
   "execution_count": 5,
   "metadata": {},
   "outputs": [
    {
     "name": "stdout",
     "output_type": "stream",
     "text": [
      "El empleado llamado Sofía tiene 36 años y cobra 7000 €\n",
      "El empleado llamado Ana tiene 20 años y cobra 7000 € y pertenece al departamento de Recursos Humanos\n",
      "El empleado llamado Pedro tiene 57 años y cobra 36780 € con la especialidad en  Ingeniero Informático\n"
     ]
    }
   ],
   "source": [
    "lista_empleados= [(emp.Empleados('Sofía', 36, 7000)), (emp.Gerente('Ana', 20, 7000, 'Recursos Humanos')), (emp.Ingeniero('Pedro', 57, 36780, 'Ingeniero Informático'   ))]\n",
    "\n",
    "for empleado in lista_empleados:\n",
    "  print(empleado.mostrar_info())"
   ]
  },
  {
   "cell_type": "code",
   "execution_count": 6,
   "metadata": {},
   "outputs": [
    {
     "name": "stdout",
     "output_type": "stream",
     "text": [
      "La bonificación para el salario de {self.nombre} es:\n",
      "350.0\n",
      "La bonificación para el salario de {self.nombre} es:\n",
      "700.0\n",
      "La bonificación para el salario de {self.nombre} es:\n",
      "2942.4\n"
     ]
    }
   ],
   "source": [
    "lista_empleados= [(emp.Empleados('Sofía', 36, 7000)), (emp.Gerente('Ana', 20, 7000, 'Recursos Humanos')), (emp.Ingeniero('Pedro', 57, 36780, 'Ingeniero Informático'   ))]\n",
    "\n",
    "for empleado in lista_empleados:\n",
    "  print(empleado.calcular_bonificacion())"
   ]
  }
 ],
 "metadata": {
  "kernelspec": {
   "display_name": "Python 3",
   "language": "python",
   "name": "python3"
  },
  "language_info": {
   "codemirror_mode": {
    "name": "ipython",
    "version": 3
   },
   "file_extension": ".py",
   "mimetype": "text/x-python",
   "name": "python",
   "nbconvert_exporter": "python",
   "pygments_lexer": "ipython3",
   "version": "3.12.3"
  }
 },
 "nbformat": 4,
 "nbformat_minor": 2
}
