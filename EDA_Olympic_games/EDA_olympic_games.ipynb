{
 "cells": [
  {
   "cell_type": "markdown",
   "metadata": {},
   "source": [
    "**Olympic Summer & Winter Games, 1896-2022**"
   ]
  },
  {
   "cell_type": "code",
   "execution_count": 110,
   "metadata": {},
   "outputs": [],
   "source": [
    "import pandas as pd\n",
    "import numpy as np"
   ]
  },
  {
   "cell_type": "markdown",
   "metadata": {},
   "source": [
    "## Descripción de los dataset\n",
    "**Athletic_csv**\n",
    "- athlete_url\n",
    "- athlete_full_name \n",
    "- games_participations\n",
    "- first_game\n",
    "- athlete_year_birth\n",
    "- athlete_medals\n",
    "- bio"
   ]
  },
  {
   "cell_type": "code",
   "execution_count": 111,
   "metadata": {},
   "outputs": [],
   "source": [
    "athletic= pd.read_csv(r'C:\\Users\\maria\\Documents\\FormacionDataAnalytics\\EDA_Olympic_games\\olympic_athletes.csv')"
   ]
  },
  {
   "cell_type": "code",
   "execution_count": 112,
   "metadata": {},
   "outputs": [
    {
     "data": {
      "text/html": [
       "<div>\n",
       "<style scoped>\n",
       "    .dataframe tbody tr th:only-of-type {\n",
       "        vertical-align: middle;\n",
       "    }\n",
       "\n",
       "    .dataframe tbody tr th {\n",
       "        vertical-align: top;\n",
       "    }\n",
       "\n",
       "    .dataframe thead th {\n",
       "        text-align: right;\n",
       "    }\n",
       "</style>\n",
       "<table border=\"1\" class=\"dataframe\">\n",
       "  <thead>\n",
       "    <tr style=\"text-align: right;\">\n",
       "      <th></th>\n",
       "      <th>athlete_url</th>\n",
       "      <th>athlete_full_name</th>\n",
       "      <th>games_participations</th>\n",
       "      <th>first_game</th>\n",
       "      <th>athlete_year_birth</th>\n",
       "      <th>athlete_medals</th>\n",
       "      <th>bio</th>\n",
       "    </tr>\n",
       "  </thead>\n",
       "  <tbody>\n",
       "    <tr>\n",
       "      <th>0</th>\n",
       "      <td>https://olympics.com/en/athletes/cooper-woods-...</td>\n",
       "      <td>Cooper WOODS-TOPALOVIC</td>\n",
       "      <td>1</td>\n",
       "      <td>Beijing 2022</td>\n",
       "      <td>2000.0</td>\n",
       "      <td>NaN</td>\n",
       "      <td>NaN</td>\n",
       "    </tr>\n",
       "    <tr>\n",
       "      <th>1</th>\n",
       "      <td>https://olympics.com/en/athletes/elofsson</td>\n",
       "      <td>Felix ELOFSSON</td>\n",
       "      <td>2</td>\n",
       "      <td>PyeongChang 2018</td>\n",
       "      <td>1995.0</td>\n",
       "      <td>NaN</td>\n",
       "      <td>NaN</td>\n",
       "    </tr>\n",
       "    <tr>\n",
       "      <th>2</th>\n",
       "      <td>https://olympics.com/en/athletes/dylan-walczyk</td>\n",
       "      <td>Dylan WALCZYK</td>\n",
       "      <td>1</td>\n",
       "      <td>Beijing 2022</td>\n",
       "      <td>1993.0</td>\n",
       "      <td>NaN</td>\n",
       "      <td>NaN</td>\n",
       "    </tr>\n",
       "    <tr>\n",
       "      <th>3</th>\n",
       "      <td>https://olympics.com/en/athletes/olli-penttala</td>\n",
       "      <td>Olli PENTTALA</td>\n",
       "      <td>1</td>\n",
       "      <td>Beijing 2022</td>\n",
       "      <td>1995.0</td>\n",
       "      <td>NaN</td>\n",
       "      <td>NaN</td>\n",
       "    </tr>\n",
       "    <tr>\n",
       "      <th>4</th>\n",
       "      <td>https://olympics.com/en/athletes/reikherd</td>\n",
       "      <td>Dmitriy REIKHERD</td>\n",
       "      <td>1</td>\n",
       "      <td>Beijing 2022</td>\n",
       "      <td>1989.0</td>\n",
       "      <td>NaN</td>\n",
       "      <td>NaN</td>\n",
       "    </tr>\n",
       "  </tbody>\n",
       "</table>\n",
       "</div>"
      ],
      "text/plain": [
       "                                         athlete_url       athlete_full_name  \\\n",
       "0  https://olympics.com/en/athletes/cooper-woods-...  Cooper WOODS-TOPALOVIC   \n",
       "1          https://olympics.com/en/athletes/elofsson          Felix ELOFSSON   \n",
       "2     https://olympics.com/en/athletes/dylan-walczyk           Dylan WALCZYK   \n",
       "3     https://olympics.com/en/athletes/olli-penttala           Olli PENTTALA   \n",
       "4          https://olympics.com/en/athletes/reikherd        Dmitriy REIKHERD   \n",
       "\n",
       "   games_participations        first_game  athlete_year_birth athlete_medals  \\\n",
       "0                     1      Beijing 2022              2000.0            NaN   \n",
       "1                     2  PyeongChang 2018              1995.0            NaN   \n",
       "2                     1      Beijing 2022              1993.0            NaN   \n",
       "3                     1      Beijing 2022              1995.0            NaN   \n",
       "4                     1      Beijing 2022              1989.0            NaN   \n",
       "\n",
       "   bio  \n",
       "0  NaN  \n",
       "1  NaN  \n",
       "2  NaN  \n",
       "3  NaN  \n",
       "4  NaN  "
      ]
     },
     "execution_count": 112,
     "metadata": {},
     "output_type": "execute_result"
    }
   ],
   "source": [
    "athletic.head()"
   ]
  },
  {
   "cell_type": "code",
   "execution_count": 113,
   "metadata": {},
   "outputs": [
    {
     "data": {
      "text/plain": [
       "Index(['athlete_url', 'athlete_full_name', 'games_participations',\n",
       "       'first_game', 'athlete_year_birth', 'athlete_medals', 'bio'],\n",
       "      dtype='object')"
      ]
     },
     "execution_count": 113,
     "metadata": {},
     "output_type": "execute_result"
    }
   ],
   "source": [
    "athletic.columns"
   ]
  },
  {
   "cell_type": "code",
   "execution_count": 114,
   "metadata": {},
   "outputs": [
    {
     "name": "stdout",
     "output_type": "stream",
     "text": [
      "<class 'pandas.core.frame.DataFrame'>\n",
      "RangeIndex: 75904 entries, 0 to 75903\n",
      "Data columns (total 7 columns):\n",
      " #   Column                Non-Null Count  Dtype  \n",
      "---  ------                --------------  -----  \n",
      " 0   athlete_url           75904 non-null  object \n",
      " 1   athlete_full_name     75904 non-null  object \n",
      " 2   games_participations  75904 non-null  int64  \n",
      " 3   first_game            75882 non-null  object \n",
      " 4   athlete_year_birth    73448 non-null  float64\n",
      " 5   athlete_medals        15352 non-null  object \n",
      " 6   bio                   22842 non-null  object \n",
      "dtypes: float64(1), int64(1), object(5)\n",
      "memory usage: 4.1+ MB\n"
     ]
    }
   ],
   "source": [
    "athletic.info()"
   ]
  },
  {
   "cell_type": "code",
   "execution_count": 115,
   "metadata": {},
   "outputs": [
    {
     "data": {
      "text/html": [
       "<div>\n",
       "<style scoped>\n",
       "    .dataframe tbody tr th:only-of-type {\n",
       "        vertical-align: middle;\n",
       "    }\n",
       "\n",
       "    .dataframe tbody tr th {\n",
       "        vertical-align: top;\n",
       "    }\n",
       "\n",
       "    .dataframe thead th {\n",
       "        text-align: right;\n",
       "    }\n",
       "</style>\n",
       "<table border=\"1\" class=\"dataframe\">\n",
       "  <thead>\n",
       "    <tr style=\"text-align: right;\">\n",
       "      <th></th>\n",
       "      <th>count</th>\n",
       "      <th>mean</th>\n",
       "      <th>std</th>\n",
       "      <th>min</th>\n",
       "      <th>25%</th>\n",
       "      <th>50%</th>\n",
       "      <th>75%</th>\n",
       "      <th>max</th>\n",
       "    </tr>\n",
       "  </thead>\n",
       "  <tbody>\n",
       "    <tr>\n",
       "      <th>games_participations</th>\n",
       "      <td>75904.0</td>\n",
       "      <td>1.535874</td>\n",
       "      <td>0.854563</td>\n",
       "      <td>0.0</td>\n",
       "      <td>1.0</td>\n",
       "      <td>1.0</td>\n",
       "      <td>2.0</td>\n",
       "      <td>10.0</td>\n",
       "    </tr>\n",
       "    <tr>\n",
       "      <th>athlete_year_birth</th>\n",
       "      <td>73448.0</td>\n",
       "      <td>1961.619377</td>\n",
       "      <td>28.129576</td>\n",
       "      <td>1836.0</td>\n",
       "      <td>1946.0</td>\n",
       "      <td>1968.0</td>\n",
       "      <td>1983.0</td>\n",
       "      <td>2009.0</td>\n",
       "    </tr>\n",
       "  </tbody>\n",
       "</table>\n",
       "</div>"
      ],
      "text/plain": [
       "                        count         mean        std     min     25%     50%  \\\n",
       "games_participations  75904.0     1.535874   0.854563     0.0     1.0     1.0   \n",
       "athlete_year_birth    73448.0  1961.619377  28.129576  1836.0  1946.0  1968.0   \n",
       "\n",
       "                         75%     max  \n",
       "games_participations     2.0    10.0  \n",
       "athlete_year_birth    1983.0  2009.0  "
      ]
     },
     "execution_count": 115,
     "metadata": {},
     "output_type": "execute_result"
    }
   ],
   "source": [
    "athletic.describe().T"
   ]
  },
  {
   "cell_type": "code",
   "execution_count": 116,
   "metadata": {},
   "outputs": [
    {
     "data": {
      "text/plain": [
       "(75904, 7)"
      ]
     },
     "execution_count": 116,
     "metadata": {},
     "output_type": "execute_result"
    }
   ],
   "source": [
    "athletic.shape"
   ]
  },
  {
   "cell_type": "markdown",
   "metadata": {},
   "source": [
    "## Gestión de duplicados"
   ]
  },
  {
   "cell_type": "code",
   "execution_count": 117,
   "metadata": {},
   "outputs": [
    {
     "data": {
      "text/plain": [
       "(800, 7)"
      ]
     },
     "execution_count": 117,
     "metadata": {},
     "output_type": "execute_result"
    }
   ],
   "source": [
    "df_duplicados=athletic[athletic['athlete_full_name'].duplicated(keep=False)]\n",
    "df_duplicados.shape"
   ]
  },
  {
   "cell_type": "code",
   "execution_count": 118,
   "metadata": {},
   "outputs": [
    {
     "data": {
      "text/plain": [
       "athlete_full_name\n",
       "Ivan IVANOV        4\n",
       "Sandeep KUMAR      4\n",
       "Luis MARTINEZ      4\n",
       "Jose PEREZ         4\n",
       "Singh SINGH        4\n",
       "                  ..\n",
       "Vladimir KOSLOV    2\n",
       "John CAMPBELL      2\n",
       "Boris PAVLOV       2\n",
       "Hiroshi SUZUKI     2\n",
       "Jose CARVALHO      2\n",
       "Name: count, Length: 376, dtype: int64"
      ]
     },
     "execution_count": 118,
     "metadata": {},
     "output_type": "execute_result"
    }
   ],
   "source": [
    "duplicados_conteo = athletic['athlete_full_name'].value_counts()\n",
    "duplicados_conteo = duplicados_conteo[duplicados_conteo > 1]\n",
    "duplicados_conteo"
   ]
  },
  {
   "cell_type": "code",
   "execution_count": 119,
   "metadata": {},
   "outputs": [
    {
     "data": {
      "text/html": [
       "<div>\n",
       "<style scoped>\n",
       "    .dataframe tbody tr th:only-of-type {\n",
       "        vertical-align: middle;\n",
       "    }\n",
       "\n",
       "    .dataframe tbody tr th {\n",
       "        vertical-align: top;\n",
       "    }\n",
       "\n",
       "    .dataframe thead th {\n",
       "        text-align: right;\n",
       "    }\n",
       "</style>\n",
       "<table border=\"1\" class=\"dataframe\">\n",
       "  <thead>\n",
       "    <tr style=\"text-align: right;\">\n",
       "      <th></th>\n",
       "      <th>athlete_url</th>\n",
       "      <th>athlete_full_name</th>\n",
       "      <th>games_participations</th>\n",
       "      <th>first_game</th>\n",
       "      <th>athlete_year_birth</th>\n",
       "      <th>athlete_medals</th>\n",
       "      <th>bio</th>\n",
       "    </tr>\n",
       "  </thead>\n",
       "  <tbody>\n",
       "    <tr>\n",
       "      <th>12242</th>\n",
       "      <td>https://olympics.com/en/athletes/ivan-ivanov-8</td>\n",
       "      <td>Ivan IVANOV</td>\n",
       "      <td>1</td>\n",
       "      <td>Rio 2016</td>\n",
       "      <td>1989.0</td>\n",
       "      <td>NaN</td>\n",
       "      <td>NaN</td>\n",
       "    </tr>\n",
       "    <tr>\n",
       "      <th>18714</th>\n",
       "      <td>https://olympics.com/en/athletes/ivan-ivanov</td>\n",
       "      <td>Ivan IVANOV</td>\n",
       "      <td>1</td>\n",
       "      <td>Beijing 2008</td>\n",
       "      <td>1986.0</td>\n",
       "      <td>NaN</td>\n",
       "      <td>NaN</td>\n",
       "    </tr>\n",
       "    <tr>\n",
       "      <th>29915</th>\n",
       "      <td>https://olympics.com/en/athletes/ivan-ivanov-6</td>\n",
       "      <td>Ivan IVANOV</td>\n",
       "      <td>1</td>\n",
       "      <td>Atlanta 1996</td>\n",
       "      <td>1968.0</td>\n",
       "      <td>NaN</td>\n",
       "      <td>NaN</td>\n",
       "    </tr>\n",
       "    <tr>\n",
       "      <th>30748</th>\n",
       "      <td>https://olympics.com/en/athletes/ivan-ivanov-1</td>\n",
       "      <td>Ivan IVANOV</td>\n",
       "      <td>1</td>\n",
       "      <td>Atlanta 1996</td>\n",
       "      <td>1974.0</td>\n",
       "      <td>NaN</td>\n",
       "      <td>NaN</td>\n",
       "    </tr>\n",
       "  </tbody>\n",
       "</table>\n",
       "</div>"
      ],
      "text/plain": [
       "                                          athlete_url athlete_full_name  \\\n",
       "12242  https://olympics.com/en/athletes/ivan-ivanov-8       Ivan IVANOV   \n",
       "18714    https://olympics.com/en/athletes/ivan-ivanov       Ivan IVANOV   \n",
       "29915  https://olympics.com/en/athletes/ivan-ivanov-6       Ivan IVANOV   \n",
       "30748  https://olympics.com/en/athletes/ivan-ivanov-1       Ivan IVANOV   \n",
       "\n",
       "       games_participations    first_game  athlete_year_birth athlete_medals  \\\n",
       "12242                     1      Rio 2016              1989.0            NaN   \n",
       "18714                     1  Beijing 2008              1986.0            NaN   \n",
       "29915                     1  Atlanta 1996              1968.0            NaN   \n",
       "30748                     1  Atlanta 1996              1974.0            NaN   \n",
       "\n",
       "       bio  \n",
       "12242  NaN  \n",
       "18714  NaN  \n",
       "29915  NaN  \n",
       "30748  NaN  "
      ]
     },
     "execution_count": 119,
     "metadata": {},
     "output_type": "execute_result"
    }
   ],
   "source": [
    "df_Ivan= athletic.loc[athletic['athlete_full_name']== \"Ivan IVANOV\"]\n",
    "df_Ivan"
   ]
  },
  {
   "cell_type": "code",
   "execution_count": 120,
   "metadata": {},
   "outputs": [
    {
     "data": {
      "text/html": [
       "<div>\n",
       "<style scoped>\n",
       "    .dataframe tbody tr th:only-of-type {\n",
       "        vertical-align: middle;\n",
       "    }\n",
       "\n",
       "    .dataframe tbody tr th {\n",
       "        vertical-align: top;\n",
       "    }\n",
       "\n",
       "    .dataframe thead th {\n",
       "        text-align: right;\n",
       "    }\n",
       "</style>\n",
       "<table border=\"1\" class=\"dataframe\">\n",
       "  <thead>\n",
       "    <tr style=\"text-align: right;\">\n",
       "      <th></th>\n",
       "      <th>athlete_url</th>\n",
       "      <th>athlete_full_name</th>\n",
       "      <th>games_participations</th>\n",
       "      <th>first_game</th>\n",
       "      <th>athlete_year_birth</th>\n",
       "      <th>athlete_medals</th>\n",
       "      <th>bio</th>\n",
       "    </tr>\n",
       "  </thead>\n",
       "  <tbody>\n",
       "    <tr>\n",
       "      <th>6539</th>\n",
       "      <td>https://olympics.com/en/athletes/sandeep-kumar-2</td>\n",
       "      <td>Sandeep KUMAR</td>\n",
       "      <td>2</td>\n",
       "      <td>Rio 2016</td>\n",
       "      <td>1986.0</td>\n",
       "      <td>NaN</td>\n",
       "      <td>NaN</td>\n",
       "    </tr>\n",
       "    <tr>\n",
       "      <th>18603</th>\n",
       "      <td>https://olympics.com/en/athletes/sandeep-kumar-3</td>\n",
       "      <td>Sandeep KUMAR</td>\n",
       "      <td>1</td>\n",
       "      <td>Beijing 2008</td>\n",
       "      <td>1983.0</td>\n",
       "      <td>NaN</td>\n",
       "      <td>NaN</td>\n",
       "    </tr>\n",
       "    <tr>\n",
       "      <th>30971</th>\n",
       "      <td>https://olympics.com/en/athletes/sandeep-kumar</td>\n",
       "      <td>Sandeep KUMAR</td>\n",
       "      <td>1</td>\n",
       "      <td>Atlanta 1996</td>\n",
       "      <td>1975.0</td>\n",
       "      <td>NaN</td>\n",
       "      <td>NaN</td>\n",
       "    </tr>\n",
       "    <tr>\n",
       "      <th>70037</th>\n",
       "      <td>https://olympics.com/en/athletes/sandeep-kumar-1</td>\n",
       "      <td>Sandeep KUMAR</td>\n",
       "      <td>1</td>\n",
       "      <td>London 2012</td>\n",
       "      <td>1988.0</td>\n",
       "      <td>NaN</td>\n",
       "      <td>NaN</td>\n",
       "    </tr>\n",
       "  </tbody>\n",
       "</table>\n",
       "</div>"
      ],
      "text/plain": [
       "                                            athlete_url athlete_full_name  \\\n",
       "6539   https://olympics.com/en/athletes/sandeep-kumar-2     Sandeep KUMAR   \n",
       "18603  https://olympics.com/en/athletes/sandeep-kumar-3     Sandeep KUMAR   \n",
       "30971    https://olympics.com/en/athletes/sandeep-kumar     Sandeep KUMAR   \n",
       "70037  https://olympics.com/en/athletes/sandeep-kumar-1     Sandeep KUMAR   \n",
       "\n",
       "       games_participations    first_game  athlete_year_birth athlete_medals  \\\n",
       "6539                      2      Rio 2016              1986.0            NaN   \n",
       "18603                     1  Beijing 2008              1983.0            NaN   \n",
       "30971                     1  Atlanta 1996              1975.0            NaN   \n",
       "70037                     1   London 2012              1988.0            NaN   \n",
       "\n",
       "       bio  \n",
       "6539   NaN  \n",
       "18603  NaN  \n",
       "30971  NaN  \n",
       "70037  NaN  "
      ]
     },
     "execution_count": 120,
     "metadata": {},
     "output_type": "execute_result"
    }
   ],
   "source": [
    "df_sandeep= athletic.loc[athletic['athlete_full_name']== \"Sandeep KUMAR\"]\n",
    "df_sandeep"
   ]
  },
  {
   "cell_type": "markdown",
   "metadata": {},
   "source": [
    "Ejercicio para comprobar la relación entre los duplicados, se descarta error en el set de datos. Son coincidencias de nombres no son duplicados de datos, ya que las fechas de nacimiento son diferentes. "
   ]
  },
  {
   "cell_type": "code",
   "execution_count": 121,
   "metadata": {},
   "outputs": [
    {
     "data": {
      "text/plain": [
       "(74, 7)"
      ]
     },
     "execution_count": 121,
     "metadata": {},
     "output_type": "execute_result"
    }
   ],
   "source": [
    "duplicados = athletic[athletic.duplicated(subset=['athlete_full_name', 'athlete_year_birth'], keep=False)]\n",
    "duplicados.shape"
   ]
  },
  {
   "cell_type": "code",
   "execution_count": 122,
   "metadata": {},
   "outputs": [
    {
     "data": {
      "text/html": [
       "<div>\n",
       "<style scoped>\n",
       "    .dataframe tbody tr th:only-of-type {\n",
       "        vertical-align: middle;\n",
       "    }\n",
       "\n",
       "    .dataframe tbody tr th {\n",
       "        vertical-align: top;\n",
       "    }\n",
       "\n",
       "    .dataframe thead th {\n",
       "        text-align: right;\n",
       "    }\n",
       "</style>\n",
       "<table border=\"1\" class=\"dataframe\">\n",
       "  <thead>\n",
       "    <tr style=\"text-align: right;\">\n",
       "      <th></th>\n",
       "      <th>athlete_url</th>\n",
       "      <th>athlete_full_name</th>\n",
       "      <th>games_participations</th>\n",
       "      <th>first_game</th>\n",
       "      <th>athlete_year_birth</th>\n",
       "      <th>athlete_medals</th>\n",
       "      <th>bio</th>\n",
       "    </tr>\n",
       "  </thead>\n",
       "  <tbody>\n",
       "    <tr>\n",
       "      <th>1706</th>\n",
       "      <td>https://olympics.com/en/athletes/angelina-goli...</td>\n",
       "      <td>Angelina GOLIKOVA</td>\n",
       "      <td>3</td>\n",
       "      <td>Sochi 2014</td>\n",
       "      <td>1991.0</td>\n",
       "      <td>\\n\\n\\n1\\n\\nB\\n\\n</td>\n",
       "      <td>NaN</td>\n",
       "    </tr>\n",
       "    <tr>\n",
       "      <th>7225</th>\n",
       "      <td>https://olympics.com/en/athletes/angelina-goli...</td>\n",
       "      <td>Angelina GOLIKOVA</td>\n",
       "      <td>2</td>\n",
       "      <td>Sochi 2014</td>\n",
       "      <td>1991.0</td>\n",
       "      <td>NaN</td>\n",
       "      <td>NaN</td>\n",
       "    </tr>\n",
       "    <tr>\n",
       "      <th>1746</th>\n",
       "      <td>https://olympics.com/en/athletes/ayano-sato</td>\n",
       "      <td>Ayano SATO</td>\n",
       "      <td>2</td>\n",
       "      <td>PyeongChang 2018</td>\n",
       "      <td>1996.0</td>\n",
       "      <td>\\n\\n\\n1\\n\\nG\\n\\n\\n\\n1\\n\\nS\\n\\n</td>\n",
       "      <td>NaN</td>\n",
       "    </tr>\n",
       "    <tr>\n",
       "      <th>3366</th>\n",
       "      <td>https://olympics.com/en/athletes/ayano-sato-x4383</td>\n",
       "      <td>Ayano SATO</td>\n",
       "      <td>1</td>\n",
       "      <td>Tokyo 2020</td>\n",
       "      <td>1996.0</td>\n",
       "      <td>NaN</td>\n",
       "      <td>NaN</td>\n",
       "    </tr>\n",
       "    <tr>\n",
       "      <th>1667</th>\n",
       "      <td>https://olympics.com/en/athletes/bart-swings</td>\n",
       "      <td>Bart SWINGS</td>\n",
       "      <td>3</td>\n",
       "      <td>Sochi 2014</td>\n",
       "      <td>1991.0</td>\n",
       "      <td>\\n\\n\\n1\\n\\nG\\n\\n\\n\\n1\\n\\nS\\n\\n</td>\n",
       "      <td>NaN</td>\n",
       "    </tr>\n",
       "    <tr>\n",
       "      <th>...</th>\n",
       "      <td>...</td>\n",
       "      <td>...</td>\n",
       "      <td>...</td>\n",
       "      <td>...</td>\n",
       "      <td>...</td>\n",
       "      <td>...</td>\n",
       "      <td>...</td>\n",
       "    </tr>\n",
       "    <tr>\n",
       "      <th>7232</th>\n",
       "      <td>https://olympics.com/en/athletes/yekaterina-ay...</td>\n",
       "      <td>Yekaterina AYDOVA</td>\n",
       "      <td>3</td>\n",
       "      <td>Vancouver 2010</td>\n",
       "      <td>1991.0</td>\n",
       "      <td>NaN</td>\n",
       "      <td>NaN</td>\n",
       "    </tr>\n",
       "    <tr>\n",
       "      <th>1699</th>\n",
       "      <td>https://olympics.com/en/athletes/yu-ting-huang</td>\n",
       "      <td>Yu-Ting HUANG</td>\n",
       "      <td>2</td>\n",
       "      <td>Atlanta 1996</td>\n",
       "      <td>1988.0</td>\n",
       "      <td>NaN</td>\n",
       "      <td>NaN</td>\n",
       "    </tr>\n",
       "    <tr>\n",
       "      <th>7233</th>\n",
       "      <td>https://olympics.com/en/athletes/huang-yu-ting</td>\n",
       "      <td>Yu-Ting HUANG</td>\n",
       "      <td>1</td>\n",
       "      <td>PyeongChang 2018</td>\n",
       "      <td>1988.0</td>\n",
       "      <td>NaN</td>\n",
       "      <td>NaN</td>\n",
       "    </tr>\n",
       "    <tr>\n",
       "      <th>7612</th>\n",
       "      <td>https://olympics.com/en/athletes/jang</td>\n",
       "      <td>Yujin JANG</td>\n",
       "      <td>1</td>\n",
       "      <td>PyeongChang 2018</td>\n",
       "      <td>2001.0</td>\n",
       "      <td>NaN</td>\n",
       "      <td>NaN</td>\n",
       "    </tr>\n",
       "    <tr>\n",
       "      <th>263</th>\n",
       "      <td>https://olympics.com/en/athletes/yujin-jang</td>\n",
       "      <td>Yujin JANG</td>\n",
       "      <td>1</td>\n",
       "      <td>Beijing 2022</td>\n",
       "      <td>2001.0</td>\n",
       "      <td>NaN</td>\n",
       "      <td>NaN</td>\n",
       "    </tr>\n",
       "  </tbody>\n",
       "</table>\n",
       "<p>74 rows × 7 columns</p>\n",
       "</div>"
      ],
      "text/plain": [
       "                                            athlete_url  athlete_full_name  \\\n",
       "1706  https://olympics.com/en/athletes/angelina-goli...  Angelina GOLIKOVA   \n",
       "7225  https://olympics.com/en/athletes/angelina-goli...  Angelina GOLIKOVA   \n",
       "1746        https://olympics.com/en/athletes/ayano-sato         Ayano SATO   \n",
       "3366  https://olympics.com/en/athletes/ayano-sato-x4383         Ayano SATO   \n",
       "1667       https://olympics.com/en/athletes/bart-swings        Bart SWINGS   \n",
       "...                                                 ...                ...   \n",
       "7232  https://olympics.com/en/athletes/yekaterina-ay...  Yekaterina AYDOVA   \n",
       "1699     https://olympics.com/en/athletes/yu-ting-huang      Yu-Ting HUANG   \n",
       "7233     https://olympics.com/en/athletes/huang-yu-ting      Yu-Ting HUANG   \n",
       "7612              https://olympics.com/en/athletes/jang         Yujin JANG   \n",
       "263         https://olympics.com/en/athletes/yujin-jang         Yujin JANG   \n",
       "\n",
       "      games_participations        first_game  athlete_year_birth  \\\n",
       "1706                     3        Sochi 2014              1991.0   \n",
       "7225                     2        Sochi 2014              1991.0   \n",
       "1746                     2  PyeongChang 2018              1996.0   \n",
       "3366                     1        Tokyo 2020              1996.0   \n",
       "1667                     3        Sochi 2014              1991.0   \n",
       "...                    ...               ...                 ...   \n",
       "7232                     3    Vancouver 2010              1991.0   \n",
       "1699                     2      Atlanta 1996              1988.0   \n",
       "7233                     1  PyeongChang 2018              1988.0   \n",
       "7612                     1  PyeongChang 2018              2001.0   \n",
       "263                      1      Beijing 2022              2001.0   \n",
       "\n",
       "                      athlete_medals  bio  \n",
       "1706                \\n\\n\\n1\\n\\nB\\n\\n  NaN  \n",
       "7225                             NaN  NaN  \n",
       "1746  \\n\\n\\n1\\n\\nG\\n\\n\\n\\n1\\n\\nS\\n\\n  NaN  \n",
       "3366                             NaN  NaN  \n",
       "1667  \\n\\n\\n1\\n\\nG\\n\\n\\n\\n1\\n\\nS\\n\\n  NaN  \n",
       "...                              ...  ...  \n",
       "7232                             NaN  NaN  \n",
       "1699                             NaN  NaN  \n",
       "7233                             NaN  NaN  \n",
       "7612                             NaN  NaN  \n",
       "263                              NaN  NaN  \n",
       "\n",
       "[74 rows x 7 columns]"
      ]
     },
     "execution_count": 122,
     "metadata": {},
     "output_type": "execute_result"
    }
   ],
   "source": [
    "duplicados= duplicados.sort_values(by=['athlete_full_name'])\n",
    "duplicados"
   ]
  },
  {
   "cell_type": "markdown",
   "metadata": {},
   "source": [
    "Tras considerar la necesidad formativa de descubrir si eran reales o no duplicados se encuentra que 32 filas deberias de ser eliminadas para tener un set mas limpio y con menos distorción de datos. el porcetage es bastante irrelevante sin fueran medallistas estos duplicados."
   ]
  },
  {
   "cell_type": "code",
   "execution_count": 128,
   "metadata": {},
   "outputs": [
    {
     "data": {
      "text/html": [
       "<div>\n",
       "<style scoped>\n",
       "    .dataframe tbody tr th:only-of-type {\n",
       "        vertical-align: middle;\n",
       "    }\n",
       "\n",
       "    .dataframe tbody tr th {\n",
       "        vertical-align: top;\n",
       "    }\n",
       "\n",
       "    .dataframe thead th {\n",
       "        text-align: right;\n",
       "    }\n",
       "</style>\n",
       "<table border=\"1\" class=\"dataframe\">\n",
       "  <thead>\n",
       "    <tr style=\"text-align: right;\">\n",
       "      <th></th>\n",
       "      <th>athlete_url</th>\n",
       "      <th>athlete_full_name</th>\n",
       "      <th>games_participations</th>\n",
       "      <th>first_game</th>\n",
       "      <th>athlete_year_birth</th>\n",
       "      <th>athlete_medals</th>\n",
       "      <th>bio</th>\n",
       "    </tr>\n",
       "  </thead>\n",
       "  <tbody>\n",
       "  </tbody>\n",
       "</table>\n",
       "</div>"
      ],
      "text/plain": [
       "Empty DataFrame\n",
       "Columns: [athlete_url, athlete_full_name, games_participations, first_game, athlete_year_birth, athlete_medals, bio]\n",
       "Index: []"
      ]
     },
     "execution_count": 128,
     "metadata": {},
     "output_type": "execute_result"
    }
   ],
   "source": [
    "duplicados.loc[duplicados['athlete_medals']=='2',]\n"
   ]
  },
  {
   "cell_type": "markdown",
   "metadata": {},
   "source": [
    "## Preguntas para hacerse con Athletas\n",
    "- Atleta mas joven en ganar una medalla,\n",
    "- Número de juegos olympicos y nombres\n",
    "- La edad media de los ganadores/participantes y como ha ido evolucionando con los años\n"
   ]
  }
 ],
 "metadata": {
  "kernelspec": {
   "display_name": "Python 3",
   "language": "python",
   "name": "python3"
  },
  "language_info": {
   "codemirror_mode": {
    "name": "ipython",
    "version": 3
   },
   "file_extension": ".py",
   "mimetype": "text/x-python",
   "name": "python",
   "nbconvert_exporter": "python",
   "pygments_lexer": "ipython3",
   "version": "3.12.3"
  }
 },
 "nbformat": 4,
 "nbformat_minor": 2
}
