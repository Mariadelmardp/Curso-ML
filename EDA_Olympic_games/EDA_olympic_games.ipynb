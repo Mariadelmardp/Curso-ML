{
 "cells": [
  {
   "cell_type": "markdown",
   "metadata": {},
   "source": [
    "**Olympic Summer & Winter Games, 1896-2022**"
   ]
  },
  {
   "cell_type": "code",
   "execution_count": 407,
   "metadata": {},
   "outputs": [],
   "source": [
    "import pandas as pd\n",
    "import numpy as np"
   ]
  },
  {
   "cell_type": "markdown",
   "metadata": {},
   "source": [
    "## Descripción de los dataset\n",
    "**Athletic_csv**\n",
    "- athlete_url\n",
    "- athlete_full_name \n",
    "- games_participations\n",
    "- first_game\n",
    "- athlete_year_birth\n",
    "- athlete_medals\n",
    "- bio"
   ]
  },
  {
   "cell_type": "code",
   "execution_count": 408,
   "metadata": {},
   "outputs": [],
   "source": [
    "athletic= pd.read_csv(r'C:\\Users\\maria\\Documents\\FormacionDataAnalytics\\EDA_Olympic_games\\olympic_athletes.csv')"
   ]
  },
  {
   "cell_type": "code",
   "execution_count": 409,
   "metadata": {},
   "outputs": [
    {
     "data": {
      "text/html": [
       "<div>\n",
       "<style scoped>\n",
       "    .dataframe tbody tr th:only-of-type {\n",
       "        vertical-align: middle;\n",
       "    }\n",
       "\n",
       "    .dataframe tbody tr th {\n",
       "        vertical-align: top;\n",
       "    }\n",
       "\n",
       "    .dataframe thead th {\n",
       "        text-align: right;\n",
       "    }\n",
       "</style>\n",
       "<table border=\"1\" class=\"dataframe\">\n",
       "  <thead>\n",
       "    <tr style=\"text-align: right;\">\n",
       "      <th></th>\n",
       "      <th>athlete_url</th>\n",
       "      <th>athlete_full_name</th>\n",
       "      <th>games_participations</th>\n",
       "      <th>first_game</th>\n",
       "      <th>athlete_year_birth</th>\n",
       "      <th>athlete_medals</th>\n",
       "      <th>bio</th>\n",
       "    </tr>\n",
       "  </thead>\n",
       "  <tbody>\n",
       "    <tr>\n",
       "      <th>0</th>\n",
       "      <td>https://olympics.com/en/athletes/cooper-woods-...</td>\n",
       "      <td>Cooper WOODS-TOPALOVIC</td>\n",
       "      <td>1</td>\n",
       "      <td>Beijing 2022</td>\n",
       "      <td>2000.0</td>\n",
       "      <td>NaN</td>\n",
       "      <td>NaN</td>\n",
       "    </tr>\n",
       "    <tr>\n",
       "      <th>1</th>\n",
       "      <td>https://olympics.com/en/athletes/elofsson</td>\n",
       "      <td>Felix ELOFSSON</td>\n",
       "      <td>2</td>\n",
       "      <td>PyeongChang 2018</td>\n",
       "      <td>1995.0</td>\n",
       "      <td>NaN</td>\n",
       "      <td>NaN</td>\n",
       "    </tr>\n",
       "    <tr>\n",
       "      <th>2</th>\n",
       "      <td>https://olympics.com/en/athletes/dylan-walczyk</td>\n",
       "      <td>Dylan WALCZYK</td>\n",
       "      <td>1</td>\n",
       "      <td>Beijing 2022</td>\n",
       "      <td>1993.0</td>\n",
       "      <td>NaN</td>\n",
       "      <td>NaN</td>\n",
       "    </tr>\n",
       "    <tr>\n",
       "      <th>3</th>\n",
       "      <td>https://olympics.com/en/athletes/olli-penttala</td>\n",
       "      <td>Olli PENTTALA</td>\n",
       "      <td>1</td>\n",
       "      <td>Beijing 2022</td>\n",
       "      <td>1995.0</td>\n",
       "      <td>NaN</td>\n",
       "      <td>NaN</td>\n",
       "    </tr>\n",
       "    <tr>\n",
       "      <th>4</th>\n",
       "      <td>https://olympics.com/en/athletes/reikherd</td>\n",
       "      <td>Dmitriy REIKHERD</td>\n",
       "      <td>1</td>\n",
       "      <td>Beijing 2022</td>\n",
       "      <td>1989.0</td>\n",
       "      <td>NaN</td>\n",
       "      <td>NaN</td>\n",
       "    </tr>\n",
       "  </tbody>\n",
       "</table>\n",
       "</div>"
      ],
      "text/plain": [
       "                                         athlete_url       athlete_full_name  \\\n",
       "0  https://olympics.com/en/athletes/cooper-woods-...  Cooper WOODS-TOPALOVIC   \n",
       "1          https://olympics.com/en/athletes/elofsson          Felix ELOFSSON   \n",
       "2     https://olympics.com/en/athletes/dylan-walczyk           Dylan WALCZYK   \n",
       "3     https://olympics.com/en/athletes/olli-penttala           Olli PENTTALA   \n",
       "4          https://olympics.com/en/athletes/reikherd        Dmitriy REIKHERD   \n",
       "\n",
       "   games_participations        first_game  athlete_year_birth athlete_medals  \\\n",
       "0                     1      Beijing 2022              2000.0            NaN   \n",
       "1                     2  PyeongChang 2018              1995.0            NaN   \n",
       "2                     1      Beijing 2022              1993.0            NaN   \n",
       "3                     1      Beijing 2022              1995.0            NaN   \n",
       "4                     1      Beijing 2022              1989.0            NaN   \n",
       "\n",
       "   bio  \n",
       "0  NaN  \n",
       "1  NaN  \n",
       "2  NaN  \n",
       "3  NaN  \n",
       "4  NaN  "
      ]
     },
     "execution_count": 409,
     "metadata": {},
     "output_type": "execute_result"
    }
   ],
   "source": [
    "athletic.head()"
   ]
  },
  {
   "cell_type": "code",
   "execution_count": 410,
   "metadata": {},
   "outputs": [
    {
     "data": {
      "text/plain": [
       "Index(['athlete_url', 'athlete_full_name', 'games_participations',\n",
       "       'first_game', 'athlete_year_birth', 'athlete_medals', 'bio'],\n",
       "      dtype='object')"
      ]
     },
     "execution_count": 410,
     "metadata": {},
     "output_type": "execute_result"
    }
   ],
   "source": [
    "athletic.columns"
   ]
  },
  {
   "cell_type": "code",
   "execution_count": 411,
   "metadata": {},
   "outputs": [
    {
     "name": "stdout",
     "output_type": "stream",
     "text": [
      "<class 'pandas.core.frame.DataFrame'>\n",
      "RangeIndex: 75904 entries, 0 to 75903\n",
      "Data columns (total 7 columns):\n",
      " #   Column                Non-Null Count  Dtype  \n",
      "---  ------                --------------  -----  \n",
      " 0   athlete_url           75904 non-null  object \n",
      " 1   athlete_full_name     75904 non-null  object \n",
      " 2   games_participations  75904 non-null  int64  \n",
      " 3   first_game            75882 non-null  object \n",
      " 4   athlete_year_birth    73448 non-null  float64\n",
      " 5   athlete_medals        15352 non-null  object \n",
      " 6   bio                   22842 non-null  object \n",
      "dtypes: float64(1), int64(1), object(5)\n",
      "memory usage: 4.1+ MB\n"
     ]
    }
   ],
   "source": [
    "athletic.info()"
   ]
  },
  {
   "cell_type": "code",
   "execution_count": 412,
   "metadata": {},
   "outputs": [
    {
     "data": {
      "text/html": [
       "<div>\n",
       "<style scoped>\n",
       "    .dataframe tbody tr th:only-of-type {\n",
       "        vertical-align: middle;\n",
       "    }\n",
       "\n",
       "    .dataframe tbody tr th {\n",
       "        vertical-align: top;\n",
       "    }\n",
       "\n",
       "    .dataframe thead th {\n",
       "        text-align: right;\n",
       "    }\n",
       "</style>\n",
       "<table border=\"1\" class=\"dataframe\">\n",
       "  <thead>\n",
       "    <tr style=\"text-align: right;\">\n",
       "      <th></th>\n",
       "      <th>count</th>\n",
       "      <th>mean</th>\n",
       "      <th>std</th>\n",
       "      <th>min</th>\n",
       "      <th>25%</th>\n",
       "      <th>50%</th>\n",
       "      <th>75%</th>\n",
       "      <th>max</th>\n",
       "    </tr>\n",
       "  </thead>\n",
       "  <tbody>\n",
       "    <tr>\n",
       "      <th>games_participations</th>\n",
       "      <td>75904.0</td>\n",
       "      <td>1.535874</td>\n",
       "      <td>0.854563</td>\n",
       "      <td>0.0</td>\n",
       "      <td>1.0</td>\n",
       "      <td>1.0</td>\n",
       "      <td>2.0</td>\n",
       "      <td>10.0</td>\n",
       "    </tr>\n",
       "    <tr>\n",
       "      <th>athlete_year_birth</th>\n",
       "      <td>73448.0</td>\n",
       "      <td>1961.619377</td>\n",
       "      <td>28.129576</td>\n",
       "      <td>1836.0</td>\n",
       "      <td>1946.0</td>\n",
       "      <td>1968.0</td>\n",
       "      <td>1983.0</td>\n",
       "      <td>2009.0</td>\n",
       "    </tr>\n",
       "  </tbody>\n",
       "</table>\n",
       "</div>"
      ],
      "text/plain": [
       "                        count         mean        std     min     25%     50%  \\\n",
       "games_participations  75904.0     1.535874   0.854563     0.0     1.0     1.0   \n",
       "athlete_year_birth    73448.0  1961.619377  28.129576  1836.0  1946.0  1968.0   \n",
       "\n",
       "                         75%     max  \n",
       "games_participations     2.0    10.0  \n",
       "athlete_year_birth    1983.0  2009.0  "
      ]
     },
     "execution_count": 412,
     "metadata": {},
     "output_type": "execute_result"
    }
   ],
   "source": [
    "athletic.describe().T"
   ]
  },
  {
   "cell_type": "code",
   "execution_count": 413,
   "metadata": {},
   "outputs": [
    {
     "data": {
      "text/plain": [
       "(75904, 7)"
      ]
     },
     "execution_count": 413,
     "metadata": {},
     "output_type": "execute_result"
    }
   ],
   "source": [
    "athletic.shape"
   ]
  },
  {
   "cell_type": "markdown",
   "metadata": {},
   "source": [
    "## Gestión de duplicados"
   ]
  },
  {
   "cell_type": "code",
   "execution_count": 414,
   "metadata": {},
   "outputs": [
    {
     "data": {
      "text/plain": [
       "(800, 7)"
      ]
     },
     "execution_count": 414,
     "metadata": {},
     "output_type": "execute_result"
    }
   ],
   "source": [
    "df_duplicados=athletic[athletic['athlete_full_name'].duplicated(keep=False)]\n",
    "df_duplicados.shape"
   ]
  },
  {
   "cell_type": "code",
   "execution_count": 415,
   "metadata": {},
   "outputs": [
    {
     "data": {
      "text/plain": [
       "athlete_full_name\n",
       "Ivan IVANOV        4\n",
       "Sandeep KUMAR      4\n",
       "Luis MARTINEZ      4\n",
       "Jose PEREZ         4\n",
       "Singh SINGH        4\n",
       "                  ..\n",
       "Vladimir KOSLOV    2\n",
       "John CAMPBELL      2\n",
       "Boris PAVLOV       2\n",
       "Hiroshi SUZUKI     2\n",
       "Jose CARVALHO      2\n",
       "Name: count, Length: 376, dtype: int64"
      ]
     },
     "execution_count": 415,
     "metadata": {},
     "output_type": "execute_result"
    }
   ],
   "source": [
    "duplicados_conteo = athletic['athlete_full_name'].value_counts()\n",
    "duplicados_conteo = duplicados_conteo[duplicados_conteo > 1]\n",
    "duplicados_conteo"
   ]
  },
  {
   "cell_type": "code",
   "execution_count": 416,
   "metadata": {},
   "outputs": [
    {
     "data": {
      "text/html": [
       "<div>\n",
       "<style scoped>\n",
       "    .dataframe tbody tr th:only-of-type {\n",
       "        vertical-align: middle;\n",
       "    }\n",
       "\n",
       "    .dataframe tbody tr th {\n",
       "        vertical-align: top;\n",
       "    }\n",
       "\n",
       "    .dataframe thead th {\n",
       "        text-align: right;\n",
       "    }\n",
       "</style>\n",
       "<table border=\"1\" class=\"dataframe\">\n",
       "  <thead>\n",
       "    <tr style=\"text-align: right;\">\n",
       "      <th></th>\n",
       "      <th>athlete_url</th>\n",
       "      <th>athlete_full_name</th>\n",
       "      <th>games_participations</th>\n",
       "      <th>first_game</th>\n",
       "      <th>athlete_year_birth</th>\n",
       "      <th>athlete_medals</th>\n",
       "      <th>bio</th>\n",
       "    </tr>\n",
       "  </thead>\n",
       "  <tbody>\n",
       "    <tr>\n",
       "      <th>12242</th>\n",
       "      <td>https://olympics.com/en/athletes/ivan-ivanov-8</td>\n",
       "      <td>Ivan IVANOV</td>\n",
       "      <td>1</td>\n",
       "      <td>Rio 2016</td>\n",
       "      <td>1989.0</td>\n",
       "      <td>NaN</td>\n",
       "      <td>NaN</td>\n",
       "    </tr>\n",
       "    <tr>\n",
       "      <th>18714</th>\n",
       "      <td>https://olympics.com/en/athletes/ivan-ivanov</td>\n",
       "      <td>Ivan IVANOV</td>\n",
       "      <td>1</td>\n",
       "      <td>Beijing 2008</td>\n",
       "      <td>1986.0</td>\n",
       "      <td>NaN</td>\n",
       "      <td>NaN</td>\n",
       "    </tr>\n",
       "    <tr>\n",
       "      <th>29915</th>\n",
       "      <td>https://olympics.com/en/athletes/ivan-ivanov-6</td>\n",
       "      <td>Ivan IVANOV</td>\n",
       "      <td>1</td>\n",
       "      <td>Atlanta 1996</td>\n",
       "      <td>1968.0</td>\n",
       "      <td>NaN</td>\n",
       "      <td>NaN</td>\n",
       "    </tr>\n",
       "    <tr>\n",
       "      <th>30748</th>\n",
       "      <td>https://olympics.com/en/athletes/ivan-ivanov-1</td>\n",
       "      <td>Ivan IVANOV</td>\n",
       "      <td>1</td>\n",
       "      <td>Atlanta 1996</td>\n",
       "      <td>1974.0</td>\n",
       "      <td>NaN</td>\n",
       "      <td>NaN</td>\n",
       "    </tr>\n",
       "  </tbody>\n",
       "</table>\n",
       "</div>"
      ],
      "text/plain": [
       "                                          athlete_url athlete_full_name  \\\n",
       "12242  https://olympics.com/en/athletes/ivan-ivanov-8       Ivan IVANOV   \n",
       "18714    https://olympics.com/en/athletes/ivan-ivanov       Ivan IVANOV   \n",
       "29915  https://olympics.com/en/athletes/ivan-ivanov-6       Ivan IVANOV   \n",
       "30748  https://olympics.com/en/athletes/ivan-ivanov-1       Ivan IVANOV   \n",
       "\n",
       "       games_participations    first_game  athlete_year_birth athlete_medals  \\\n",
       "12242                     1      Rio 2016              1989.0            NaN   \n",
       "18714                     1  Beijing 2008              1986.0            NaN   \n",
       "29915                     1  Atlanta 1996              1968.0            NaN   \n",
       "30748                     1  Atlanta 1996              1974.0            NaN   \n",
       "\n",
       "       bio  \n",
       "12242  NaN  \n",
       "18714  NaN  \n",
       "29915  NaN  \n",
       "30748  NaN  "
      ]
     },
     "execution_count": 416,
     "metadata": {},
     "output_type": "execute_result"
    }
   ],
   "source": [
    "df_Ivan= athletic.loc[athletic['athlete_full_name']== \"Ivan IVANOV\"]\n",
    "df_Ivan"
   ]
  },
  {
   "cell_type": "code",
   "execution_count": 417,
   "metadata": {},
   "outputs": [
    {
     "data": {
      "text/html": [
       "<div>\n",
       "<style scoped>\n",
       "    .dataframe tbody tr th:only-of-type {\n",
       "        vertical-align: middle;\n",
       "    }\n",
       "\n",
       "    .dataframe tbody tr th {\n",
       "        vertical-align: top;\n",
       "    }\n",
       "\n",
       "    .dataframe thead th {\n",
       "        text-align: right;\n",
       "    }\n",
       "</style>\n",
       "<table border=\"1\" class=\"dataframe\">\n",
       "  <thead>\n",
       "    <tr style=\"text-align: right;\">\n",
       "      <th></th>\n",
       "      <th>athlete_url</th>\n",
       "      <th>athlete_full_name</th>\n",
       "      <th>games_participations</th>\n",
       "      <th>first_game</th>\n",
       "      <th>athlete_year_birth</th>\n",
       "      <th>athlete_medals</th>\n",
       "      <th>bio</th>\n",
       "    </tr>\n",
       "  </thead>\n",
       "  <tbody>\n",
       "    <tr>\n",
       "      <th>6539</th>\n",
       "      <td>https://olympics.com/en/athletes/sandeep-kumar-2</td>\n",
       "      <td>Sandeep KUMAR</td>\n",
       "      <td>2</td>\n",
       "      <td>Rio 2016</td>\n",
       "      <td>1986.0</td>\n",
       "      <td>NaN</td>\n",
       "      <td>NaN</td>\n",
       "    </tr>\n",
       "    <tr>\n",
       "      <th>18603</th>\n",
       "      <td>https://olympics.com/en/athletes/sandeep-kumar-3</td>\n",
       "      <td>Sandeep KUMAR</td>\n",
       "      <td>1</td>\n",
       "      <td>Beijing 2008</td>\n",
       "      <td>1983.0</td>\n",
       "      <td>NaN</td>\n",
       "      <td>NaN</td>\n",
       "    </tr>\n",
       "    <tr>\n",
       "      <th>30971</th>\n",
       "      <td>https://olympics.com/en/athletes/sandeep-kumar</td>\n",
       "      <td>Sandeep KUMAR</td>\n",
       "      <td>1</td>\n",
       "      <td>Atlanta 1996</td>\n",
       "      <td>1975.0</td>\n",
       "      <td>NaN</td>\n",
       "      <td>NaN</td>\n",
       "    </tr>\n",
       "    <tr>\n",
       "      <th>70037</th>\n",
       "      <td>https://olympics.com/en/athletes/sandeep-kumar-1</td>\n",
       "      <td>Sandeep KUMAR</td>\n",
       "      <td>1</td>\n",
       "      <td>London 2012</td>\n",
       "      <td>1988.0</td>\n",
       "      <td>NaN</td>\n",
       "      <td>NaN</td>\n",
       "    </tr>\n",
       "  </tbody>\n",
       "</table>\n",
       "</div>"
      ],
      "text/plain": [
       "                                            athlete_url athlete_full_name  \\\n",
       "6539   https://olympics.com/en/athletes/sandeep-kumar-2     Sandeep KUMAR   \n",
       "18603  https://olympics.com/en/athletes/sandeep-kumar-3     Sandeep KUMAR   \n",
       "30971    https://olympics.com/en/athletes/sandeep-kumar     Sandeep KUMAR   \n",
       "70037  https://olympics.com/en/athletes/sandeep-kumar-1     Sandeep KUMAR   \n",
       "\n",
       "       games_participations    first_game  athlete_year_birth athlete_medals  \\\n",
       "6539                      2      Rio 2016              1986.0            NaN   \n",
       "18603                     1  Beijing 2008              1983.0            NaN   \n",
       "30971                     1  Atlanta 1996              1975.0            NaN   \n",
       "70037                     1   London 2012              1988.0            NaN   \n",
       "\n",
       "       bio  \n",
       "6539   NaN  \n",
       "18603  NaN  \n",
       "30971  NaN  \n",
       "70037  NaN  "
      ]
     },
     "execution_count": 417,
     "metadata": {},
     "output_type": "execute_result"
    }
   ],
   "source": [
    "df_sandeep= athletic.loc[athletic['athlete_full_name']== \"Sandeep KUMAR\"]\n",
    "df_sandeep"
   ]
  },
  {
   "cell_type": "markdown",
   "metadata": {},
   "source": [
    "Ejercicio para comprobar la relación entre los duplicados, se descarta error en el set de datos. Son coincidencias de nombres no son duplicados de datos, ya que las fechas de nacimiento son diferentes. "
   ]
  },
  {
   "cell_type": "code",
   "execution_count": 418,
   "metadata": {},
   "outputs": [
    {
     "data": {
      "text/plain": [
       "(74, 7)"
      ]
     },
     "execution_count": 418,
     "metadata": {},
     "output_type": "execute_result"
    }
   ],
   "source": [
    "duplicados = athletic[athletic.duplicated(subset=['athlete_full_name', 'athlete_year_birth'], keep=False)]\n",
    "duplicados.shape"
   ]
  },
  {
   "cell_type": "code",
   "execution_count": 419,
   "metadata": {},
   "outputs": [
    {
     "data": {
      "text/html": [
       "<div>\n",
       "<style scoped>\n",
       "    .dataframe tbody tr th:only-of-type {\n",
       "        vertical-align: middle;\n",
       "    }\n",
       "\n",
       "    .dataframe tbody tr th {\n",
       "        vertical-align: top;\n",
       "    }\n",
       "\n",
       "    .dataframe thead th {\n",
       "        text-align: right;\n",
       "    }\n",
       "</style>\n",
       "<table border=\"1\" class=\"dataframe\">\n",
       "  <thead>\n",
       "    <tr style=\"text-align: right;\">\n",
       "      <th></th>\n",
       "      <th>athlete_url</th>\n",
       "      <th>athlete_full_name</th>\n",
       "      <th>games_participations</th>\n",
       "      <th>first_game</th>\n",
       "      <th>athlete_year_birth</th>\n",
       "      <th>athlete_medals</th>\n",
       "      <th>bio</th>\n",
       "    </tr>\n",
       "  </thead>\n",
       "  <tbody>\n",
       "    <tr>\n",
       "      <th>1706</th>\n",
       "      <td>https://olympics.com/en/athletes/angelina-goli...</td>\n",
       "      <td>Angelina GOLIKOVA</td>\n",
       "      <td>3</td>\n",
       "      <td>Sochi 2014</td>\n",
       "      <td>1991.0</td>\n",
       "      <td>\\n\\n\\n1\\n\\nB\\n\\n</td>\n",
       "      <td>NaN</td>\n",
       "    </tr>\n",
       "    <tr>\n",
       "      <th>7225</th>\n",
       "      <td>https://olympics.com/en/athletes/angelina-goli...</td>\n",
       "      <td>Angelina GOLIKOVA</td>\n",
       "      <td>2</td>\n",
       "      <td>Sochi 2014</td>\n",
       "      <td>1991.0</td>\n",
       "      <td>NaN</td>\n",
       "      <td>NaN</td>\n",
       "    </tr>\n",
       "    <tr>\n",
       "      <th>1746</th>\n",
       "      <td>https://olympics.com/en/athletes/ayano-sato</td>\n",
       "      <td>Ayano SATO</td>\n",
       "      <td>2</td>\n",
       "      <td>PyeongChang 2018</td>\n",
       "      <td>1996.0</td>\n",
       "      <td>\\n\\n\\n1\\n\\nG\\n\\n\\n\\n1\\n\\nS\\n\\n</td>\n",
       "      <td>NaN</td>\n",
       "    </tr>\n",
       "    <tr>\n",
       "      <th>3366</th>\n",
       "      <td>https://olympics.com/en/athletes/ayano-sato-x4383</td>\n",
       "      <td>Ayano SATO</td>\n",
       "      <td>1</td>\n",
       "      <td>Tokyo 2020</td>\n",
       "      <td>1996.0</td>\n",
       "      <td>NaN</td>\n",
       "      <td>NaN</td>\n",
       "    </tr>\n",
       "    <tr>\n",
       "      <th>1667</th>\n",
       "      <td>https://olympics.com/en/athletes/bart-swings</td>\n",
       "      <td>Bart SWINGS</td>\n",
       "      <td>3</td>\n",
       "      <td>Sochi 2014</td>\n",
       "      <td>1991.0</td>\n",
       "      <td>\\n\\n\\n1\\n\\nG\\n\\n\\n\\n1\\n\\nS\\n\\n</td>\n",
       "      <td>NaN</td>\n",
       "    </tr>\n",
       "    <tr>\n",
       "      <th>...</th>\n",
       "      <td>...</td>\n",
       "      <td>...</td>\n",
       "      <td>...</td>\n",
       "      <td>...</td>\n",
       "      <td>...</td>\n",
       "      <td>...</td>\n",
       "      <td>...</td>\n",
       "    </tr>\n",
       "    <tr>\n",
       "      <th>7232</th>\n",
       "      <td>https://olympics.com/en/athletes/yekaterina-ay...</td>\n",
       "      <td>Yekaterina AYDOVA</td>\n",
       "      <td>3</td>\n",
       "      <td>Vancouver 2010</td>\n",
       "      <td>1991.0</td>\n",
       "      <td>NaN</td>\n",
       "      <td>NaN</td>\n",
       "    </tr>\n",
       "    <tr>\n",
       "      <th>1699</th>\n",
       "      <td>https://olympics.com/en/athletes/yu-ting-huang</td>\n",
       "      <td>Yu-Ting HUANG</td>\n",
       "      <td>2</td>\n",
       "      <td>Atlanta 1996</td>\n",
       "      <td>1988.0</td>\n",
       "      <td>NaN</td>\n",
       "      <td>NaN</td>\n",
       "    </tr>\n",
       "    <tr>\n",
       "      <th>7233</th>\n",
       "      <td>https://olympics.com/en/athletes/huang-yu-ting</td>\n",
       "      <td>Yu-Ting HUANG</td>\n",
       "      <td>1</td>\n",
       "      <td>PyeongChang 2018</td>\n",
       "      <td>1988.0</td>\n",
       "      <td>NaN</td>\n",
       "      <td>NaN</td>\n",
       "    </tr>\n",
       "    <tr>\n",
       "      <th>7612</th>\n",
       "      <td>https://olympics.com/en/athletes/jang</td>\n",
       "      <td>Yujin JANG</td>\n",
       "      <td>1</td>\n",
       "      <td>PyeongChang 2018</td>\n",
       "      <td>2001.0</td>\n",
       "      <td>NaN</td>\n",
       "      <td>NaN</td>\n",
       "    </tr>\n",
       "    <tr>\n",
       "      <th>263</th>\n",
       "      <td>https://olympics.com/en/athletes/yujin-jang</td>\n",
       "      <td>Yujin JANG</td>\n",
       "      <td>1</td>\n",
       "      <td>Beijing 2022</td>\n",
       "      <td>2001.0</td>\n",
       "      <td>NaN</td>\n",
       "      <td>NaN</td>\n",
       "    </tr>\n",
       "  </tbody>\n",
       "</table>\n",
       "<p>74 rows × 7 columns</p>\n",
       "</div>"
      ],
      "text/plain": [
       "                                            athlete_url  athlete_full_name  \\\n",
       "1706  https://olympics.com/en/athletes/angelina-goli...  Angelina GOLIKOVA   \n",
       "7225  https://olympics.com/en/athletes/angelina-goli...  Angelina GOLIKOVA   \n",
       "1746        https://olympics.com/en/athletes/ayano-sato         Ayano SATO   \n",
       "3366  https://olympics.com/en/athletes/ayano-sato-x4383         Ayano SATO   \n",
       "1667       https://olympics.com/en/athletes/bart-swings        Bart SWINGS   \n",
       "...                                                 ...                ...   \n",
       "7232  https://olympics.com/en/athletes/yekaterina-ay...  Yekaterina AYDOVA   \n",
       "1699     https://olympics.com/en/athletes/yu-ting-huang      Yu-Ting HUANG   \n",
       "7233     https://olympics.com/en/athletes/huang-yu-ting      Yu-Ting HUANG   \n",
       "7612              https://olympics.com/en/athletes/jang         Yujin JANG   \n",
       "263         https://olympics.com/en/athletes/yujin-jang         Yujin JANG   \n",
       "\n",
       "      games_participations        first_game  athlete_year_birth  \\\n",
       "1706                     3        Sochi 2014              1991.0   \n",
       "7225                     2        Sochi 2014              1991.0   \n",
       "1746                     2  PyeongChang 2018              1996.0   \n",
       "3366                     1        Tokyo 2020              1996.0   \n",
       "1667                     3        Sochi 2014              1991.0   \n",
       "...                    ...               ...                 ...   \n",
       "7232                     3    Vancouver 2010              1991.0   \n",
       "1699                     2      Atlanta 1996              1988.0   \n",
       "7233                     1  PyeongChang 2018              1988.0   \n",
       "7612                     1  PyeongChang 2018              2001.0   \n",
       "263                      1      Beijing 2022              2001.0   \n",
       "\n",
       "                      athlete_medals  bio  \n",
       "1706                \\n\\n\\n1\\n\\nB\\n\\n  NaN  \n",
       "7225                             NaN  NaN  \n",
       "1746  \\n\\n\\n1\\n\\nG\\n\\n\\n\\n1\\n\\nS\\n\\n  NaN  \n",
       "3366                             NaN  NaN  \n",
       "1667  \\n\\n\\n1\\n\\nG\\n\\n\\n\\n1\\n\\nS\\n\\n  NaN  \n",
       "...                              ...  ...  \n",
       "7232                             NaN  NaN  \n",
       "1699                             NaN  NaN  \n",
       "7233                             NaN  NaN  \n",
       "7612                             NaN  NaN  \n",
       "263                              NaN  NaN  \n",
       "\n",
       "[74 rows x 7 columns]"
      ]
     },
     "execution_count": 419,
     "metadata": {},
     "output_type": "execute_result"
    }
   ],
   "source": [
    "duplicados= duplicados.sort_values(by=['athlete_full_name'])\n",
    "duplicados"
   ]
  },
  {
   "cell_type": "markdown",
   "metadata": {},
   "source": [
    "Tras considerar la necesidad formativa de descubrir si eran reales o no duplicados se encuentra que 32 filas deberias de ser eliminadas para tener un set mas limpio y con menos distorción de datos. El porcetaje es bastante irrelevante sino fueran medallistas estos duplicados."
   ]
  },
  {
   "cell_type": "code",
   "execution_count": 420,
   "metadata": {},
   "outputs": [
    {
     "name": "stdout",
     "output_type": "stream",
     "text": [
      "['\\n\\n\\n1\\n\\nB\\n\\n' nan '\\n\\n\\n1\\n\\nG\\n\\n\\n\\n1\\n\\nS\\n\\n'\n",
      " '\\n\\n\\n1\\n\\nS\\n\\n' '\\n\\n\\n1\\n\\nG\\n\\n' '\\n\\n\\n1\\n\\nG\\n\\n\\n\\n1\\n\\nB\\n\\n'\n",
      " '\\n\\n\\n4\\n\\nG\\n\\n\\n\\n1\\n\\nS\\n\\n' '\\n\\n\\n2\\n\\nG\\n\\n'\n",
      " '\\n\\n\\n1\\n\\nG\\n\\n\\n\\n3\\n\\nB\\n\\n' '\\n\\n\\n1\\n\\nG\\n\\n\\n\\n2\\n\\nS\\n\\n']\n"
     ]
    }
   ],
   "source": [
    "print(duplicados['athlete_medals'].unique())"
   ]
  },
  {
   "cell_type": "markdown",
   "metadata": {},
   "source": [
    "## Gestión de Nulos"
   ]
  },
  {
   "cell_type": "code",
   "execution_count": 421,
   "metadata": {},
   "outputs": [
    {
     "data": {
      "text/plain": [
       "athlete_url                 0\n",
       "athlete_full_name           0\n",
       "games_participations        0\n",
       "first_game                 22\n",
       "athlete_year_birth       2456\n",
       "athlete_medals          60552\n",
       "bio                     53062\n",
       "dtype: int64"
      ]
     },
     "execution_count": 421,
     "metadata": {},
     "output_type": "execute_result"
    }
   ],
   "source": [
    "athletic.isnull().sum()"
   ]
  },
  {
   "cell_type": "code",
   "execution_count": 422,
   "metadata": {},
   "outputs": [
    {
     "data": {
      "text/plain": [
       "array([nan, '\\n\\n\\n1\\n\\nS\\n\\n', '\\n\\n\\n1\\n\\nB\\n\\n',\n",
       "       '\\n\\n\\n1\\n\\nG\\n\\n\\n\\n2\\n\\nS\\n\\n', '\\n\\n\\n1\\n\\nG\\n\\n',\n",
       "       '\\n\\n\\n1\\n\\nG\\n\\n\\n\\n1\\n\\nB\\n\\n', '\\n\\n\\n2\\n\\nG\\n\\n\\n\\n1\\n\\nS\\n\\n',\n",
       "       '\\n\\n\\n1\\n\\nS\\n\\n\\n\\n1\\n\\nB\\n\\n', '\\n\\n\\n2\\n\\nS\\n\\n\\n\\n1\\n\\nB\\n\\n',\n",
       "       '\\n\\n\\n2\\n\\nB\\n\\n', '\\n\\n\\n1\\n\\nG\\n\\n\\n\\n1\\n\\nS\\n\\n\\n\\n1\\n\\nB\\n\\n',\n",
       "       '\\n\\n\\n1\\n\\nG\\n\\n\\n\\n1\\n\\nS\\n\\n', '\\n\\n\\n1\\n\\nS\\n\\n\\n\\n3\\n\\nB\\n\\n',\n",
       "       '\\n\\n\\n2\\n\\nG\\n\\n\\n\\n4\\n\\nS\\n\\n\\n\\n5\\n\\nB\\n\\n',\n",
       "       '\\n\\n\\n3\\n\\nG\\n\\n\\n\\n2\\n\\nS\\n\\n', '\\n\\n\\n2\\n\\nG\\n\\n\\n\\n2\\n\\nB\\n\\n',\n",
       "       '\\n\\n\\n2\\n\\nG\\n\\n\\n\\n2\\n\\nS\\n\\n\\n\\n1\\n\\nB\\n\\n',\n",
       "       '\\n\\n\\n4\\n\\nG\\n\\n\\n\\n1\\n\\nS\\n\\n\\n\\n1\\n\\nB\\n\\n', '\\n\\n\\n2\\n\\nG\\n\\n',\n",
       "       '\\n\\n\\n1\\n\\nS\\n\\n\\n\\n2\\n\\nB\\n\\n', '\\n\\n\\n2\\n\\nG\\n\\n\\n\\n1\\n\\nB\\n\\n',\n",
       "       '\\n\\n\\n3\\n\\nB\\n\\n', '\\n\\n\\n2\\n\\nS\\n\\n', '\\n\\n\\n3\\n\\nG\\n\\n',\n",
       "       '\\n\\n\\n1\\n\\nG\\n\\n\\n\\n2\\n\\nS\\n\\n\\n\\n1\\n\\nB\\n\\n',\n",
       "       '\\n\\n\\n1\\n\\nG\\n\\n\\n\\n2\\n\\nB\\n\\n', '\\n\\n\\n4\\n\\nG\\n\\n',\n",
       "       '\\n\\n\\n3\\n\\nG\\n\\n\\n\\n1\\n\\nB\\n\\n', '\\n\\n\\n6\\n\\nG\\n\\n\\n\\n1\\n\\nB\\n\\n',\n",
       "       '\\n\\n\\n3\\n\\nG\\n\\n\\n\\n2\\n\\nS\\n\\n\\n\\n1\\n\\nB\\n\\n',\n",
       "       '\\n\\n\\n2\\n\\nG\\n\\n\\n\\n3\\n\\nS\\n\\n',\n",
       "       '\\n\\n\\n5\\n\\nG\\n\\n\\n\\n2\\n\\nS\\n\\n\\n\\n1\\n\\nB\\n\\n',\n",
       "       '\\n\\n\\n3\\n\\nG\\n\\n\\n\\n2\\n\\nB\\n\\n',\n",
       "       '\\n\\n\\n2\\n\\nG\\n\\n\\n\\n3\\n\\nS\\n\\n\\n\\n3\\n\\nB\\n\\n',\n",
       "       '\\n\\n\\n1\\n\\nG\\n\\n\\n\\n2\\n\\nS\\n\\n\\n\\n2\\n\\nB\\n\\n',\n",
       "       '\\n\\n\\n1\\n\\nG\\n\\n\\n\\n3\\n\\nB\\n\\n',\n",
       "       '\\n\\n\\n3\\n\\nG\\n\\n\\n\\n1\\n\\nS\\n\\n\\n\\n1\\n\\nB\\n\\n',\n",
       "       '\\n\\n\\n5\\n\\nG\\n\\n\\n\\n1\\n\\nS\\n\\n\\n\\n1\\n\\nB\\n\\n', '\\n\\n\\n4\\n\\nB\\n\\n',\n",
       "       '\\n\\n\\n1\\n\\nG\\n\\n\\n\\n3\\n\\nS\\n\\n\\n\\n1\\n\\nB\\n\\n',\n",
       "       '\\n\\n\\n3\\n\\nS\\n\\n\\n\\n1\\n\\nB\\n\\n', '\\n\\n\\n2\\n\\nS\\n\\n\\n\\n3\\n\\nB\\n\\n',\n",
       "       '\\n\\n\\n3\\n\\nG\\n\\n\\n\\n6\\n\\nS\\n\\n',\n",
       "       '\\n\\n\\n2\\n\\nG\\n\\n\\n\\n1\\n\\nS\\n\\n\\n\\n1\\n\\nB\\n\\n',\n",
       "       '\\n\\n\\n2\\n\\nG\\n\\n\\n\\n4\\n\\nS\\n\\n\\n\\n1\\n\\nB\\n\\n',\n",
       "       '\\n\\n\\n6\\n\\nG\\n\\n\\n\\n5\\n\\nS\\n\\n\\n\\n2\\n\\nB\\n\\n',\n",
       "       '\\n\\n\\n5\\n\\nG\\n\\n\\n\\n2\\n\\nS\\n\\n\\n\\n2\\n\\nB\\n\\n',\n",
       "       '\\n\\n\\n4\\n\\nG\\n\\n\\n\\n2\\n\\nS\\n\\n\\n\\n3\\n\\nB\\n\\n',\n",
       "       '\\n\\n\\n3\\n\\nG\\n\\n\\n\\n2\\n\\nS\\n\\n\\n\\n2\\n\\nB\\n\\n',\n",
       "       '\\n\\n\\n2\\n\\nG\\n\\n\\n\\n3\\n\\nS\\n\\n\\n\\n1\\n\\nB\\n\\n',\n",
       "       '\\n\\n\\n4\\n\\nG\\n\\n\\n\\n2\\n\\nS\\n\\n', '\\n\\n\\n2\\n\\nS\\n\\n\\n\\n2\\n\\nB\\n\\n',\n",
       "       '\\n\\n\\n3\\n\\nS\\n\\n\\n\\n2\\n\\nB\\n\\n', '\\n\\n\\n2\\n\\nG\\n\\n\\n\\n2\\n\\nS\\n\\n',\n",
       "       '\\n\\n\\n5\\n\\nG\\n\\n\\n\\n1\\n\\nB\\n\\n',\n",
       "       '\\n\\n\\n6\\n\\nG\\n\\n\\n\\n1\\n\\nS\\n\\n\\n\\n1\\n\\nB\\n\\n',\n",
       "       '\\n\\n\\n1\\n\\nG\\n\\n\\n\\n1\\n\\nS\\n\\n\\n\\n2\\n\\nB\\n\\n', '\\n\\n\\n5\\n\\nG\\n\\n',\n",
       "       '\\n\\n\\n2\\n\\nS\\n\\n\\n\\n4\\n\\nB\\n\\n', '\\n\\n\\n7\\n\\nG\\n\\n\\n\\n2\\n\\nS\\n\\n',\n",
       "       '\\n\\n\\n4\\n\\nG\\n\\n\\n\\n1\\n\\nS\\n\\n\\n\\n2\\n\\nB\\n\\n',\n",
       "       '\\n\\n\\n3\\n\\nG\\n\\n\\n\\n3\\n\\nB\\n\\n',\n",
       "       '\\n\\n\\n1\\n\\nG\\n\\n\\n\\n4\\n\\nS\\n\\n\\n\\n2\\n\\nB\\n\\n',\n",
       "       '\\n\\n\\n3\\n\\nG\\n\\n\\n\\n1\\n\\nS\\n\\n', '\\n\\n\\n7\\n\\nG\\n\\n\\n\\n5\\n\\nS\\n\\n',\n",
       "       '\\n\\n\\n3\\n\\nG\\n\\n\\n\\n1\\n\\nS\\n\\n\\n\\n2\\n\\nB\\n\\n',\n",
       "       '\\n\\n\\n1\\n\\nG\\n\\n\\n\\n3\\n\\nS\\n\\n',\n",
       "       '\\n\\n\\n1\\n\\nG\\n\\n\\n\\n1\\n\\nS\\n\\n\\n\\n4\\n\\nB\\n\\n',\n",
       "       '\\n\\n\\n7\\n\\nG\\n\\n\\n\\n3\\n\\nS\\n\\n\\n\\n1\\n\\nB\\n\\n',\n",
       "       '\\n\\n\\n5\\n\\nG\\n\\n\\n\\n1\\n\\nS\\n\\n',\n",
       "       '\\n\\n\\n1\\n\\nG\\n\\n\\n\\n1\\n\\nS\\n\\n\\n\\n3\\n\\nB\\n\\n',\n",
       "       '\\n\\n\\n3\\n\\nG\\n\\n\\n\\n4\\n\\nS\\n\\n\\n\\n1\\n\\nB\\n\\n',\n",
       "       '\\n\\n\\n7\\n\\nG\\n\\n\\n\\n3\\n\\nS\\n\\n',\n",
       "       '\\n\\n\\n4\\n\\nG\\n\\n\\n\\n1\\n\\nS\\n\\n\\n\\n3\\n\\nB\\n\\n',\n",
       "       '\\n\\n\\n5\\n\\nG\\n\\n\\n\\n2\\n\\nS\\n\\n\\n\\n4\\n\\nB\\n\\n',\n",
       "       '\\n\\n\\n3\\n\\nG\\n\\n\\n\\n3\\n\\nS\\n\\n\\n\\n1\\n\\nB\\n\\n', '\\n\\n\\n7\\n\\nG\\n\\n',\n",
       "       '\\n\\n\\n1\\n\\nG\\n\\n\\n\\n5\\n\\nS\\n\\n',\n",
       "       '\\n\\n\\n1\\n\\nG\\n\\n\\n\\n2\\n\\nS\\n\\n\\n\\n4\\n\\nB\\n\\n',\n",
       "       '\\n\\n\\n4\\n\\nS\\n\\n\\n\\n2\\n\\nB\\n\\n', '\\n\\n\\n2\\n\\nG\\n\\n\\n\\n3\\n\\nB\\n\\n',\n",
       "       '\\n\\n\\n5\\n\\nG\\n\\n\\n\\n2\\n\\nS\\n\\n',\n",
       "       '\\n\\n\\n4\\n\\nG\\n\\n\\n\\n3\\n\\nS\\n\\n\\n\\n1\\n\\nB\\n\\n',\n",
       "       '\\n\\n\\n3\\n\\nG\\n\\n\\n\\n3\\n\\nS\\n\\n', '\\n\\n\\n3\\n\\nS\\n\\n',\n",
       "       '\\n\\n\\n8\\n\\nG\\n\\n\\n\\n4\\n\\nS\\n\\n\\n\\n3\\n\\nB\\n\\n',\n",
       "       '\\n\\n\\n2\\n\\nG\\n\\n\\n\\n1\\n\\nS\\n\\n\\n\\n2\\n\\nB\\n\\n',\n",
       "       '\\n\\n\\n4\\n\\nG\\n\\n\\n\\n2\\n\\nB\\n\\n',\n",
       "       '\\n\\n\\n2\\n\\nG\\n\\n\\n\\n1\\n\\nS\\n\\n\\n\\n3\\n\\nB\\n\\n', '\\n\\n\\n4\\n\\nS\\n\\n',\n",
       "       '\\n\\n\\n8\\n\\nG\\n\\n', '\\n\\n\\n3\\n\\nG\\n\\n\\n\\n4\\n\\nS\\n\\n',\n",
       "       '\\n\\n\\n2\\n\\nG\\n\\n\\n\\n2\\n\\nS\\n\\n\\n\\n3\\n\\nB\\n\\n',\n",
       "       '\\n\\n\\n23\\n\\nG\\n\\n\\n\\n3\\n\\nS\\n\\n\\n\\n2\\n\\nB\\n\\n',\n",
       "       '\\n\\n\\n6\\n\\nG\\n\\n\\n\\n3\\n\\nS\\n\\n\\n\\n3\\n\\nB\\n\\n',\n",
       "       '\\n\\n\\n5\\n\\nG\\n\\n\\n\\n1\\n\\nS\\n\\n\\n\\n2\\n\\nB\\n\\n',\n",
       "       '\\n\\n\\n4\\n\\nG\\n\\n\\n\\n1\\n\\nS\\n\\n',\n",
       "       '\\n\\n\\n8\\n\\nG\\n\\n\\n\\n4\\n\\nS\\n\\n\\n\\n1\\n\\nB\\n\\n',\n",
       "       '\\n\\n\\n1\\n\\nG\\n\\n\\n\\n3\\n\\nS\\n\\n\\n\\n2\\n\\nB\\n\\n',\n",
       "       '\\n\\n\\n6\\n\\nG\\n\\n\\n\\n2\\n\\nB\\n\\n',\n",
       "       '\\n\\n\\n3\\n\\nG\\n\\n\\n\\n5\\n\\nS\\n\\n\\n\\n1\\n\\nB\\n\\n',\n",
       "       '\\n\\n\\n4\\n\\nG\\n\\n\\n\\n3\\n\\nS\\n\\n\\n\\n3\\n\\nB\\n\\n',\n",
       "       '\\n\\n\\n4\\n\\nG\\n\\n\\n\\n1\\n\\nB\\n\\n', '\\n\\n\\n1\\n\\nG\\n\\n\\n\\n4\\n\\nS\\n\\n',\n",
       "       '\\n\\n\\n6\\n\\nG\\n\\n\\n\\n1\\n\\nS\\n\\n\\n\\n2\\n\\nB\\n\\n',\n",
       "       '\\n\\n\\n6\\n\\nG\\n\\n\\n\\n1\\n\\nS\\n\\n',\n",
       "       '\\n\\n\\n1\\n\\nG\\n\\n\\n\\n2\\n\\nS\\n\\n\\n\\n3\\n\\nB\\n\\n',\n",
       "       '\\n\\n\\n3\\n\\nG\\n\\n\\n\\n1\\n\\nS\\n\\n\\n\\n3\\n\\nB\\n\\n',\n",
       "       '\\n\\n\\n2\\n\\nG\\n\\n\\n\\n2\\n\\nS\\n\\n\\n\\n4\\n\\nB\\n\\n',\n",
       "       '\\n\\n\\n3\\n\\nG\\n\\n\\n\\n5\\n\\nS\\n\\n',\n",
       "       '\\n\\n\\n3\\n\\nG\\n\\n\\n\\n4\\n\\nS\\n\\n\\n\\n5\\n\\nB\\n\\n', '\\n\\n\\n5\\n\\nB\\n\\n',\n",
       "       '\\n\\n\\n4\\n\\nG\\n\\n\\n\\n2\\n\\nS\\n\\n\\n\\n2\\n\\nB\\n\\n',\n",
       "       '\\n\\n\\n4\\n\\nG\\n\\n\\n\\n4\\n\\nS\\n\\n\\n\\n4\\n\\nB\\n\\n',\n",
       "       '\\n\\n\\n2\\n\\nG\\n\\n\\n\\n4\\n\\nS\\n\\n\\n\\n3\\n\\nB\\n\\n',\n",
       "       '\\n\\n\\n1\\n\\nG\\n\\n\\n\\n4\\n\\nS\\n\\n\\n\\n1\\n\\nB\\n\\n',\n",
       "       '\\n\\n\\n1\\n\\nG\\n\\n\\n\\n4\\n\\nB\\n\\n', '\\n\\n\\n4\\n\\nG\\n\\n\\n\\n5\\n\\nS\\n\\n',\n",
       "       '\\n\\n\\n5\\n\\nG\\n\\n\\n\\n3\\n\\nS\\n\\n\\n\\n1\\n\\nB\\n\\n',\n",
       "       '\\n\\n\\n4\\n\\nS\\n\\n\\n\\n6\\n\\nB\\n\\n',\n",
       "       '\\n\\n\\n8\\n\\nG\\n\\n\\n\\n3\\n\\nS\\n\\n\\n\\n1\\n\\nB\\n\\n',\n",
       "       '\\n\\n\\n4\\n\\nG\\n\\n\\n\\n2\\n\\nS\\n\\n\\n\\n6\\n\\nB\\n\\n',\n",
       "       '\\n\\n\\n2\\n\\nG\\n\\n\\n\\n3\\n\\nS\\n\\n\\n\\n5\\n\\nB\\n\\n',\n",
       "       '\\n\\n\\n3\\n\\nS\\n\\n\\n\\n6\\n\\nB\\n\\n',\n",
       "       '\\n\\n\\n2\\n\\nG\\n\\n\\n\\n4\\n\\nS\\n\\n\\n\\n2\\n\\nB\\n\\n', '\\n\\n\\n6\\n\\nG\\n\\n',\n",
       "       '\\n\\n\\n3\\n\\nG\\n\\n\\n\\n4\\n\\nB\\n\\n', '\\n\\n\\n8\\n\\nG\\n\\n\\n\\n4\\n\\nS\\n\\n',\n",
       "       '\\n\\n\\n6\\n\\nB\\n\\n', '\\n\\n\\n6\\n\\nG\\n\\n\\n\\n4\\n\\nB\\n\\n',\n",
       "       '\\n\\n\\n9\\n\\nG\\n\\n\\n\\n1\\n\\nS\\n\\n', '\\n\\n\\n4\\n\\nS\\n\\n\\n\\n1\\n\\nB\\n\\n',\n",
       "       '\\n\\n\\n1\\n\\nG\\n\\n\\n\\n5\\n\\nS\\n\\n\\n\\n1\\n\\nB\\n\\n',\n",
       "       '\\n\\n\\n2\\n\\nG\\n\\n\\n\\n4\\n\\nS\\n\\n',\n",
       "       '\\n\\n\\n8\\n\\nG\\n\\n\\n\\n2\\n\\nS\\n\\n\\n\\n1\\n\\nB\\n\\n',\n",
       "       '\\n\\n\\n4\\n\\nG\\n\\n\\n\\n5\\n\\nS\\n\\n\\n\\n1\\n\\nB\\n\\n',\n",
       "       '\\n\\n\\n2\\n\\nG\\n\\n\\n\\n2\\n\\nS\\n\\n\\n\\n2\\n\\nB\\n\\n',\n",
       "       '\\n\\n\\n3\\n\\nG\\n\\n\\n\\n6\\n\\nS\\n\\n\\n\\n1\\n\\nB\\n\\n',\n",
       "       '\\n\\n\\n7\\n\\nG\\n\\n\\n\\n5\\n\\nS\\n\\n\\n\\n3\\n\\nB\\n\\n',\n",
       "       '\\n\\n\\n2\\n\\nG\\n\\n\\n\\n3\\n\\nS\\n\\n\\n\\n2\\n\\nB\\n\\n',\n",
       "       '\\n\\n\\n4\\n\\nG\\n\\n\\n\\n4\\n\\nS\\n\\n', '\\n\\n\\n4\\n\\nG\\n\\n\\n\\n3\\n\\nS\\n\\n',\n",
       "       '\\n\\n\\n5\\n\\nG\\n\\n\\n\\n1\\n\\nS\\n\\n\\n\\n3\\n\\nB\\n\\n',\n",
       "       '\\n\\n\\n3\\n\\nG\\n\\n\\n\\n3\\n\\nS\\n\\n\\n\\n3\\n\\nB\\n\\n',\n",
       "       '\\n\\n\\n4\\n\\nG\\n\\n\\n\\n3\\n\\nS\\n\\n\\n\\n2\\n\\nB\\n\\n',\n",
       "       '\\n\\n\\n6\\n\\nG\\n\\n\\n\\n2\\n\\nS\\n\\n\\n\\n2\\n\\nB\\n\\n',\n",
       "       '\\n\\n\\n2\\n\\nG\\n\\n\\n\\n6\\n\\nS\\n\\n\\n\\n1\\n\\nB\\n\\n',\n",
       "       '\\n\\n\\n9\\n\\nG\\n\\n\\n\\n1\\n\\nS\\n\\n\\n\\n1\\n\\nB\\n\\n',\n",
       "       '\\n\\n\\n7\\n\\nG\\n\\n\\n\\n4\\n\\nS\\n\\n', '\\n\\n\\n5\\n\\nS\\n\\n',\n",
       "       '\\n\\n\\n7\\n\\nG\\n\\n\\n\\n1\\n\\nS\\n\\n', '\\n\\n\\n1\\n\\nG\\n\\n\\n\\n5\\n\\nB\\n\\n',\n",
       "       '\\n\\n\\n9\\n\\nG\\n\\n\\n\\n5\\n\\nS\\n\\n\\n\\n4\\n\\nB\\n\\n',\n",
       "       '\\n\\n\\n5\\n\\nG\\n\\n\\n\\n2\\n\\nS\\n\\n\\n\\n3\\n\\nB\\n\\n',\n",
       "       '\\n\\n\\n7\\n\\nG\\n\\n\\n\\n4\\n\\nS\\n\\n\\n\\n2\\n\\nB\\n\\n',\n",
       "       '\\n\\n\\n1\\n\\nG\\n\\n\\n\\n5\\n\\nS\\n\\n\\n\\n3\\n\\nB\\n\\n',\n",
       "       '\\n\\n\\n5\\n\\nG\\n\\n\\n\\n4\\n\\nS\\n\\n\\n\\n4\\n\\nB\\n\\n',\n",
       "       '\\n\\n\\n1\\n\\nG\\n\\n\\n\\n3\\n\\nS\\n\\n\\n\\n3\\n\\nB\\n\\n',\n",
       "       '\\n\\n\\n7\\n\\nG\\n\\n\\n\\n1\\n\\nS\\n\\n\\n\\n2\\n\\nB\\n\\n',\n",
       "       '\\n\\n\\n5\\n\\nG\\n\\n\\n\\n3\\n\\nS\\n\\n\\n\\n2\\n\\nB\\n\\n',\n",
       "       '\\n\\n\\n2\\n\\nG\\n\\n\\n\\n5\\n\\nS\\n\\n',\n",
       "       '\\n\\n\\n2\\n\\nG\\n\\n\\n\\n1\\n\\nS\\n\\n\\n\\n6\\n\\nB\\n\\n',\n",
       "       '\\n\\n\\n3\\n\\nG\\n\\n\\n\\n4\\n\\nS\\n\\n\\n\\n2\\n\\nB\\n\\n',\n",
       "       '\\n\\n\\n4\\n\\nG\\n\\n\\n\\n2\\n\\nS\\n\\n\\n\\n1\\n\\nB\\n\\n',\n",
       "       '\\n\\n\\n9\\n\\nG\\n\\n\\n\\n3\\n\\nS\\n\\n', '\\n\\n\\n5\\n\\nG\\n\\n\\n\\n3\\n\\nS\\n\\n',\n",
       "       '\\n\\n\\n1\\n\\nS\\n\\n\\n\\n4\\n\\nB\\n\\n',\n",
       "       '\\n\\n\\n5\\n\\nG\\n\\n\\n\\n4\\n\\nS\\n\\n\\n\\n2\\n\\nB\\n\\n',\n",
       "       '\\n\\n\\n3\\n\\nS\\n\\n\\n\\n3\\n\\nB\\n\\n', '\\n\\n\\n6\\n\\nG\\n\\n\\n\\n4\\n\\nS\\n\\n',\n",
       "       '\\n\\n\\n5\\n\\nS\\n\\n\\n\\n2\\n\\nB\\n\\n'], dtype=object)"
      ]
     },
     "execution_count": 422,
     "metadata": {},
     "output_type": "execute_result"
    }
   ],
   "source": [
    "athletic['athlete_medals'].unique()"
   ]
  },
  {
   "cell_type": "code",
   "execution_count": 423,
   "metadata": {},
   "outputs": [
    {
     "data": {
      "text/plain": [
       "20.225548060708263"
      ]
     },
     "execution_count": 423,
     "metadata": {},
     "output_type": "execute_result"
    }
   ],
   "source": [
    "athletic['athlete_medals'].count()/len(athletic)*100"
   ]
  },
  {
   "cell_type": "code",
   "execution_count": 424,
   "metadata": {},
   "outputs": [],
   "source": [
    "\n",
    "df_medals=pd.DataFrame(athletic['athlete_medals'].dropna())"
   ]
  },
  {
   "cell_type": "code",
   "execution_count": 425,
   "metadata": {},
   "outputs": [
    {
     "data": {
      "text/html": [
       "<div>\n",
       "<style scoped>\n",
       "    .dataframe tbody tr th:only-of-type {\n",
       "        vertical-align: middle;\n",
       "    }\n",
       "\n",
       "    .dataframe tbody tr th {\n",
       "        vertical-align: top;\n",
       "    }\n",
       "\n",
       "    .dataframe thead th {\n",
       "        text-align: right;\n",
       "    }\n",
       "</style>\n",
       "<table border=\"1\" class=\"dataframe\">\n",
       "  <thead>\n",
       "    <tr style=\"text-align: right;\">\n",
       "      <th></th>\n",
       "      <th>athlete_medals</th>\n",
       "    </tr>\n",
       "  </thead>\n",
       "  <tbody>\n",
       "    <tr>\n",
       "      <th>5</th>\n",
       "      <td>\\n\\n\\n1\\n\\nS\\n\\n</td>\n",
       "    </tr>\n",
       "    <tr>\n",
       "      <th>6</th>\n",
       "      <td>\\n\\n\\n1\\n\\nB\\n\\n</td>\n",
       "    </tr>\n",
       "    <tr>\n",
       "      <th>7</th>\n",
       "      <td>\\n\\n\\n1\\n\\nB\\n\\n</td>\n",
       "    </tr>\n",
       "    <tr>\n",
       "      <th>16</th>\n",
       "      <td>\\n\\n\\n1\\n\\nG\\n\\n\\n\\n2\\n\\nS\\n\\n</td>\n",
       "    </tr>\n",
       "    <tr>\n",
       "      <th>18</th>\n",
       "      <td>\\n\\n\\n1\\n\\nG\\n\\n</td>\n",
       "    </tr>\n",
       "    <tr>\n",
       "      <th>...</th>\n",
       "      <td>...</td>\n",
       "    </tr>\n",
       "    <tr>\n",
       "      <th>75858</th>\n",
       "      <td>\\n\\n\\n1\\n\\nS\\n\\n\\n\\n1\\n\\nB\\n\\n</td>\n",
       "    </tr>\n",
       "    <tr>\n",
       "      <th>75861</th>\n",
       "      <td>\\n\\n\\n1\\n\\nG\\n\\n</td>\n",
       "    </tr>\n",
       "    <tr>\n",
       "      <th>75868</th>\n",
       "      <td>\\n\\n\\n1\\n\\nB\\n\\n</td>\n",
       "    </tr>\n",
       "    <tr>\n",
       "      <th>75878</th>\n",
       "      <td>\\n\\n\\n1\\n\\nG\\n\\n</td>\n",
       "    </tr>\n",
       "    <tr>\n",
       "      <th>75879</th>\n",
       "      <td>\\n\\n\\n1\\n\\nB\\n\\n</td>\n",
       "    </tr>\n",
       "  </tbody>\n",
       "</table>\n",
       "<p>15352 rows × 1 columns</p>\n",
       "</div>"
      ],
      "text/plain": [
       "                       athlete_medals\n",
       "5                    \\n\\n\\n1\\n\\nS\\n\\n\n",
       "6                    \\n\\n\\n1\\n\\nB\\n\\n\n",
       "7                    \\n\\n\\n1\\n\\nB\\n\\n\n",
       "16     \\n\\n\\n1\\n\\nG\\n\\n\\n\\n2\\n\\nS\\n\\n\n",
       "18                   \\n\\n\\n1\\n\\nG\\n\\n\n",
       "...                               ...\n",
       "75858  \\n\\n\\n1\\n\\nS\\n\\n\\n\\n1\\n\\nB\\n\\n\n",
       "75861                \\n\\n\\n1\\n\\nG\\n\\n\n",
       "75868                \\n\\n\\n1\\n\\nB\\n\\n\n",
       "75878                \\n\\n\\n1\\n\\nG\\n\\n\n",
       "75879                \\n\\n\\n1\\n\\nB\\n\\n\n",
       "\n",
       "[15352 rows x 1 columns]"
      ]
     },
     "execution_count": 425,
     "metadata": {},
     "output_type": "execute_result"
    }
   ],
   "source": [
    "df_medals"
   ]
  },
  {
   "cell_type": "markdown",
   "metadata": {},
   "source": [
    "Tras dar varias vueltas a la gestion de nulos del campo Medallas, deja claro que una columna sin datos para trabajar. Sin duda se puede eliminar. El 20% de datos que exisite es nulo también."
   ]
  },
  {
   "cell_type": "code",
   "execution_count": 426,
   "metadata": {},
   "outputs": [
    {
     "data": {
      "text/plain": [
       "array(['Beijing 2022', 'PyeongChang 2018', 'Sochi 2014', 'Vancouver 2010',\n",
       "       'Atlanta 1996', 'Turin 2006', 'Salt Lake City 2002', 'Nagano 1998',\n",
       "       nan, 'Rio 2016', 'Grenoble 1968', 'Berlin 1936', 'Tokyo 2020',\n",
       "       'Athens 2004', 'Montreal 1976', 'Los Angeles 1984',\n",
       "       'Albertville 1992', 'Beijing 2008', 'Sarajevo 1984', 'London 2012',\n",
       "       'Sydney 2000', 'Seoul 1988', 'Mexico City 1968', 'Barcelona 1992',\n",
       "       'Helsinki 1952', 'Rome 1960', 'Lillehammer 1994', 'Moscow 1980',\n",
       "       'Munich 1972', 'Tokyo 1964', 'Calgary 1988', 'Lake Placid 1980',\n",
       "       \"Cortina d'Ampezzo 1956\", 'Innsbruck 1976', 'Sapporo 1972',\n",
       "       'Melbourne 1956', 'Innsbruck 1964', 'London 1948',\n",
       "       'Squaw Valley 1960', 'St. Moritz 1948', 'Oslo 1952', 'Paris 1924',\n",
       "       'Los Angeles 1932', 'Garmisch-Partenkirchen 1936',\n",
       "       'Amsterdam 1928', 'Antwerp 1920', 'Lake Placid 1932',\n",
       "       'St. Moritz 1928', 'Paris 1900', 'Chamonix 1924', 'London 1908',\n",
       "       'Stockholm 1912', 'Athens 1896', 'St. Louis 1904'], dtype=object)"
      ]
     },
     "execution_count": 426,
     "metadata": {},
     "output_type": "execute_result"
    }
   ],
   "source": [
    "athletic['first_game'].unique()"
   ]
  },
  {
   "cell_type": "code",
   "execution_count": 427,
   "metadata": {},
   "outputs": [],
   "source": [
    "athletic['year_games']=athletic['first_game'].str.split(\" \").str[-1]\n",
    "athletic['year_games']=athletic['year_games'].dropna().astype(int)"
   ]
  },
  {
   "cell_type": "markdown",
   "metadata": {},
   "source": [
    "- Número de juegos olympicos y nombres"
   ]
  },
  {
   "cell_type": "code",
   "execution_count": 428,
   "metadata": {},
   "outputs": [
    {
     "data": {
      "text/html": [
       "<div>\n",
       "<style scoped>\n",
       "    .dataframe tbody tr th:only-of-type {\n",
       "        vertical-align: middle;\n",
       "    }\n",
       "\n",
       "    .dataframe tbody tr th {\n",
       "        vertical-align: top;\n",
       "    }\n",
       "\n",
       "    .dataframe thead th {\n",
       "        text-align: right;\n",
       "    }\n",
       "</style>\n",
       "<table border=\"1\" class=\"dataframe\">\n",
       "  <thead>\n",
       "    <tr style=\"text-align: right;\">\n",
       "      <th></th>\n",
       "      <th>first_game</th>\n",
       "    </tr>\n",
       "  </thead>\n",
       "  <tbody>\n",
       "    <tr>\n",
       "      <th>0</th>\n",
       "      <td>Athens 1896</td>\n",
       "    </tr>\n",
       "    <tr>\n",
       "      <th>1</th>\n",
       "      <td>Paris 1900</td>\n",
       "    </tr>\n",
       "    <tr>\n",
       "      <th>2</th>\n",
       "      <td>St. Louis 1904</td>\n",
       "    </tr>\n",
       "    <tr>\n",
       "      <th>3</th>\n",
       "      <td>London 1908</td>\n",
       "    </tr>\n",
       "    <tr>\n",
       "      <th>4</th>\n",
       "      <td>Stockholm 1912</td>\n",
       "    </tr>\n",
       "    <tr>\n",
       "      <th>5</th>\n",
       "      <td>Antwerp 1920</td>\n",
       "    </tr>\n",
       "    <tr>\n",
       "      <th>6</th>\n",
       "      <td>Chamonix 1924</td>\n",
       "    </tr>\n",
       "    <tr>\n",
       "      <th>7</th>\n",
       "      <td>Paris 1924</td>\n",
       "    </tr>\n",
       "    <tr>\n",
       "      <th>8</th>\n",
       "      <td>Amsterdam 1928</td>\n",
       "    </tr>\n",
       "    <tr>\n",
       "      <th>9</th>\n",
       "      <td>St. Moritz 1928</td>\n",
       "    </tr>\n",
       "    <tr>\n",
       "      <th>10</th>\n",
       "      <td>Los Angeles 1932</td>\n",
       "    </tr>\n",
       "    <tr>\n",
       "      <th>11</th>\n",
       "      <td>Lake Placid 1932</td>\n",
       "    </tr>\n",
       "    <tr>\n",
       "      <th>12</th>\n",
       "      <td>Garmisch-Partenkirchen 1936</td>\n",
       "    </tr>\n",
       "    <tr>\n",
       "      <th>13</th>\n",
       "      <td>Berlin 1936</td>\n",
       "    </tr>\n",
       "    <tr>\n",
       "      <th>14</th>\n",
       "      <td>London 1948</td>\n",
       "    </tr>\n",
       "    <tr>\n",
       "      <th>15</th>\n",
       "      <td>St. Moritz 1948</td>\n",
       "    </tr>\n",
       "    <tr>\n",
       "      <th>16</th>\n",
       "      <td>Helsinki 1952</td>\n",
       "    </tr>\n",
       "    <tr>\n",
       "      <th>17</th>\n",
       "      <td>Oslo 1952</td>\n",
       "    </tr>\n",
       "    <tr>\n",
       "      <th>18</th>\n",
       "      <td>Melbourne 1956</td>\n",
       "    </tr>\n",
       "    <tr>\n",
       "      <th>19</th>\n",
       "      <td>Cortina d'Ampezzo 1956</td>\n",
       "    </tr>\n",
       "    <tr>\n",
       "      <th>20</th>\n",
       "      <td>Rome 1960</td>\n",
       "    </tr>\n",
       "    <tr>\n",
       "      <th>21</th>\n",
       "      <td>Squaw Valley 1960</td>\n",
       "    </tr>\n",
       "    <tr>\n",
       "      <th>22</th>\n",
       "      <td>Tokyo 1964</td>\n",
       "    </tr>\n",
       "    <tr>\n",
       "      <th>23</th>\n",
       "      <td>Innsbruck 1964</td>\n",
       "    </tr>\n",
       "    <tr>\n",
       "      <th>24</th>\n",
       "      <td>Mexico City 1968</td>\n",
       "    </tr>\n",
       "    <tr>\n",
       "      <th>25</th>\n",
       "      <td>Grenoble 1968</td>\n",
       "    </tr>\n",
       "    <tr>\n",
       "      <th>26</th>\n",
       "      <td>Munich 1972</td>\n",
       "    </tr>\n",
       "    <tr>\n",
       "      <th>27</th>\n",
       "      <td>Sapporo 1972</td>\n",
       "    </tr>\n",
       "    <tr>\n",
       "      <th>28</th>\n",
       "      <td>Montreal 1976</td>\n",
       "    </tr>\n",
       "    <tr>\n",
       "      <th>29</th>\n",
       "      <td>Innsbruck 1976</td>\n",
       "    </tr>\n",
       "    <tr>\n",
       "      <th>30</th>\n",
       "      <td>Moscow 1980</td>\n",
       "    </tr>\n",
       "    <tr>\n",
       "      <th>31</th>\n",
       "      <td>Lake Placid 1980</td>\n",
       "    </tr>\n",
       "    <tr>\n",
       "      <th>32</th>\n",
       "      <td>Los Angeles 1984</td>\n",
       "    </tr>\n",
       "    <tr>\n",
       "      <th>33</th>\n",
       "      <td>Sarajevo 1984</td>\n",
       "    </tr>\n",
       "    <tr>\n",
       "      <th>34</th>\n",
       "      <td>Seoul 1988</td>\n",
       "    </tr>\n",
       "    <tr>\n",
       "      <th>35</th>\n",
       "      <td>Calgary 1988</td>\n",
       "    </tr>\n",
       "    <tr>\n",
       "      <th>36</th>\n",
       "      <td>Barcelona 1992</td>\n",
       "    </tr>\n",
       "    <tr>\n",
       "      <th>37</th>\n",
       "      <td>Albertville 1992</td>\n",
       "    </tr>\n",
       "    <tr>\n",
       "      <th>38</th>\n",
       "      <td>Lillehammer 1994</td>\n",
       "    </tr>\n",
       "    <tr>\n",
       "      <th>39</th>\n",
       "      <td>Atlanta 1996</td>\n",
       "    </tr>\n",
       "    <tr>\n",
       "      <th>40</th>\n",
       "      <td>Nagano 1998</td>\n",
       "    </tr>\n",
       "    <tr>\n",
       "      <th>41</th>\n",
       "      <td>Sydney 2000</td>\n",
       "    </tr>\n",
       "    <tr>\n",
       "      <th>42</th>\n",
       "      <td>Salt Lake City 2002</td>\n",
       "    </tr>\n",
       "    <tr>\n",
       "      <th>43</th>\n",
       "      <td>Athens 2004</td>\n",
       "    </tr>\n",
       "    <tr>\n",
       "      <th>44</th>\n",
       "      <td>Turin 2006</td>\n",
       "    </tr>\n",
       "    <tr>\n",
       "      <th>45</th>\n",
       "      <td>Beijing 2008</td>\n",
       "    </tr>\n",
       "    <tr>\n",
       "      <th>46</th>\n",
       "      <td>Vancouver 2010</td>\n",
       "    </tr>\n",
       "    <tr>\n",
       "      <th>47</th>\n",
       "      <td>London 2012</td>\n",
       "    </tr>\n",
       "    <tr>\n",
       "      <th>48</th>\n",
       "      <td>Sochi 2014</td>\n",
       "    </tr>\n",
       "    <tr>\n",
       "      <th>49</th>\n",
       "      <td>Rio 2016</td>\n",
       "    </tr>\n",
       "    <tr>\n",
       "      <th>50</th>\n",
       "      <td>PyeongChang 2018</td>\n",
       "    </tr>\n",
       "    <tr>\n",
       "      <th>51</th>\n",
       "      <td>Tokyo 2020</td>\n",
       "    </tr>\n",
       "    <tr>\n",
       "      <th>52</th>\n",
       "      <td>Beijing 2022</td>\n",
       "    </tr>\n",
       "    <tr>\n",
       "      <th>53</th>\n",
       "      <td>NaN</td>\n",
       "    </tr>\n",
       "  </tbody>\n",
       "</table>\n",
       "</div>"
      ],
      "text/plain": [
       "                     first_game\n",
       "0                   Athens 1896\n",
       "1                    Paris 1900\n",
       "2                St. Louis 1904\n",
       "3                   London 1908\n",
       "4                Stockholm 1912\n",
       "5                  Antwerp 1920\n",
       "6                 Chamonix 1924\n",
       "7                    Paris 1924\n",
       "8                Amsterdam 1928\n",
       "9               St. Moritz 1928\n",
       "10             Los Angeles 1932\n",
       "11             Lake Placid 1932\n",
       "12  Garmisch-Partenkirchen 1936\n",
       "13                  Berlin 1936\n",
       "14                  London 1948\n",
       "15              St. Moritz 1948\n",
       "16                Helsinki 1952\n",
       "17                    Oslo 1952\n",
       "18               Melbourne 1956\n",
       "19       Cortina d'Ampezzo 1956\n",
       "20                    Rome 1960\n",
       "21            Squaw Valley 1960\n",
       "22                   Tokyo 1964\n",
       "23               Innsbruck 1964\n",
       "24             Mexico City 1968\n",
       "25                Grenoble 1968\n",
       "26                  Munich 1972\n",
       "27                 Sapporo 1972\n",
       "28                Montreal 1976\n",
       "29               Innsbruck 1976\n",
       "30                  Moscow 1980\n",
       "31             Lake Placid 1980\n",
       "32             Los Angeles 1984\n",
       "33                Sarajevo 1984\n",
       "34                   Seoul 1988\n",
       "35                 Calgary 1988\n",
       "36               Barcelona 1992\n",
       "37             Albertville 1992\n",
       "38             Lillehammer 1994\n",
       "39                 Atlanta 1996\n",
       "40                  Nagano 1998\n",
       "41                  Sydney 2000\n",
       "42          Salt Lake City 2002\n",
       "43                  Athens 2004\n",
       "44                   Turin 2006\n",
       "45                 Beijing 2008\n",
       "46               Vancouver 2010\n",
       "47                  London 2012\n",
       "48                   Sochi 2014\n",
       "49                     Rio 2016\n",
       "50             PyeongChang 2018\n",
       "51                   Tokyo 2020\n",
       "52                 Beijing 2022\n",
       "53                          NaN"
      ]
     },
     "execution_count": 428,
     "metadata": {},
     "output_type": "execute_result"
    }
   ],
   "source": [
    "df_games = athletic[['first_game', 'year_games']]\n",
    "df_games=df_games.sort_values(by='year_games')\n",
    "df_games=df_games['first_game'].unique()\n",
    "df_games=pd.DataFrame(df_games, columns=['first_game']).reset_index(drop=True)\n",
    "df_games"
   ]
  },
  {
   "cell_type": "markdown",
   "metadata": {},
   "source": [
    "La evolución del movimiento olímpico durante los siglos XX y XXI ha dado lugar a varias modificaciones en los justa deportiva. El primero de estos ajustes fue la creación de los Juegos Olímpicos de invierno para deportes propios de esa estación, y que se realizaron por primera vez en Chamonix 1924. Se llevaron a cabo como parte del evento de verano, el COI los consideró como un evento separado retroactivo, y desde esa fecha comenzaron a efectuarse en el mismo año que los originales. Luego, con el fin de potenciar el desarrollo de los invernales, el organismo rector del olimpismo decidió desfasar la realización de los Juegos invernales a partir de Lillehammer 1994. Desde esa fecha, los Juegos Olímpicos de Invierno se realizan en los años pares entre dos Juegos de Verano."
   ]
  },
  {
   "cell_type": "code",
   "execution_count": 429,
   "metadata": {},
   "outputs": [
    {
     "data": {
      "text/plain": [
       "Index(['athlete_url', 'athlete_full_name', 'games_participations',\n",
       "       'first_game', 'athlete_year_birth', 'athlete_medals', 'bio',\n",
       "       'year_games'],\n",
       "      dtype='object')"
      ]
     },
     "execution_count": 429,
     "metadata": {},
     "output_type": "execute_result"
    }
   ],
   "source": [
    "athletic.columns"
   ]
  },
  {
   "cell_type": "code",
   "execution_count": 430,
   "metadata": {},
   "outputs": [
    {
     "data": {
      "text/plain": [
       "array([ 22.,  23.,  29.,  27.,  33.,  20.,  21.,  26.,  18.,  28.,  30.,\n",
       "        19.,  24.,  17.,  25.,  16.,  32.,  31.,   4.,  35.,  12.,  34.,\n",
       "         7.,  14.,  nan,  39.,  37., -24., -61.,  44., 122., -11., -12.,\n",
       "         8.,  -9.,  38.,  40.,  36.,  43.,  41.,  57.,  42.,  45.,  54.,\n",
       "        48.,  15.,  52.,  13.,  11.,  -8.,  46., -43.,  49.,  51., -31.,\n",
       "        -7., -14.,   3., -41.,  -1.,  47.,  56.,  50.,  62.,  60.,  55.,\n",
       "       106.,  64.,  53.,  10., 121.,  70.,  97.,  61.,  67.,  58.,   1.,\n",
       "         6.,  -5.,  -2.,   2., -10.,  93.,  -4.,   9.,  96.,   5., -13.,\n",
       "        63.,  -3., -15.,  -6.,  89.,  73., -17., -16.,  66., -21., -20.,\n",
       "       -22.,  59., -18.,  68., -25., -30., -28., -34., -33., -23.,  65.,\n",
       "       -37., -35., -32., -39., -42., -51., -56., -57., -52., -47., -19.,\n",
       "       -71., -40., -53., -82., -80., -92., -89., -97., -59., -85.,   0.])"
      ]
     },
     "execution_count": 430,
     "metadata": {},
     "output_type": "execute_result"
    }
   ],
   "source": [
    "athletic['age_athletic_games']=athletic['year_games']-athletic['athlete_year_birth']\n",
    "athletic['age_athletic_games'].unique()"
   ]
  },
  {
   "cell_type": "code",
   "execution_count": 431,
   "metadata": {},
   "outputs": [
    {
     "data": {
      "text/plain": [
       "73303"
      ]
     },
     "execution_count": 431,
     "metadata": {},
     "output_type": "execute_result"
    }
   ],
   "source": [
    "age_wrong=(athletic['age_athletic_games']>0).sum()\n",
    "age_wrong"
   ]
  },
  {
   "cell_type": "markdown",
   "metadata": {},
   "source": [
    "Vamos a elimniar todos los datos que distorcionan las estadísticas, teneindo en cuenta que tenemos un alto núemro de datos para tener una representacion de la smedias de edad. Y los datos a elimnar son claramente erroneos."
   ]
  },
  {
   "cell_type": "markdown",
   "metadata": {},
   "source": [
    "- El atleta más anciano en competir en unos Juegos Olímpicos es Óscar Swahn, un tirador sueco que compitió por primera vez en Londres 1908 con 60 años en la disciplina de ciervo móvil.\n",
    "- El atleta más joven en competir en unos Juegos Olímpicos es el griego Dimitiros Loundras. Un gimnasta que arrancó su aventura olímpica con tan sólo 10 años. Un record tan díficil de batir que es uno de los más longevos, ya que se batió en la primera edición en Atenas 1896.\n"
   ]
  },
  {
   "cell_type": "code",
   "execution_count": 432,
   "metadata": {},
   "outputs": [],
   "source": [
    "athletic= athletic[(athletic['age_athletic_games']>9)&(athletic['age_athletic_games']<61)]"
   ]
  },
  {
   "cell_type": "code",
   "execution_count": 433,
   "metadata": {},
   "outputs": [
    {
     "data": {
      "text/plain": [
       "array([22., 23., 29., 27., 33., 20., 21., 26., 18., 28., 30., 19., 24.,\n",
       "       17., 25., 16., 32., 31., 35., 12., 34., 14., 39., 37., 44., 38.,\n",
       "       40., 36., 43., 41., 57., 42., 45., 54., 48., 15., 52., 13., 11.,\n",
       "       46., 49., 51., 47., 56., 50., 60., 55., 53., 10., 58., 59.])"
      ]
     },
     "execution_count": 433,
     "metadata": {},
     "output_type": "execute_result"
    }
   ],
   "source": [
    "athletic['age_athletic_games'].unique()"
   ]
  },
  {
   "cell_type": "code",
   "execution_count": 434,
   "metadata": {},
   "outputs": [
    {
     "data": {
      "text/plain": [
       "(73217,)"
      ]
     },
     "execution_count": 434,
     "metadata": {},
     "output_type": "execute_result"
    }
   ],
   "source": [
    "athletic['age_athletic_games'].shape"
   ]
  },
  {
   "cell_type": "markdown",
   "metadata": {},
   "source": [
    "Evolucion de la edad media de los atletas a lo largo de los juegos"
   ]
  },
  {
   "cell_type": "code",
   "execution_count": 437,
   "metadata": {},
   "outputs": [
    {
     "data": {
      "image/png": "[encoded data removed]",
      "text/plain": [
       "<Figure size 1500x600 with 1 Axes>"
      ]
     },
     "metadata": {},
     "output_type": "display_data"
    }
   ],
   "source": [
    "import matplotlib.pyplot as plt\n",
    "\n",
    "# Suponiendo que tienes un DataFrame con la edad media por año\n",
    "# Ejemplo de datos: df_mean_age con columnas 'year' y 'mean_age'\n",
    "df_mean_age = athletic.groupby('year_games')['age_athletic_games'].mean().reset_index()\n",
    "\n",
    "plt.figure(figsize=(15,6))\n",
    "plt.plot(df_mean_age['year_games'], df_mean_age['age_athletic_games'], marker='o')\n",
    "plt.title('Evolución de la Edad Media de los Atletas')\n",
    "plt.xlabel('Año de los Juegos')\n",
    "plt.ylabel('Edad Media de los Atletas')\n",
    "plt.grid()\n",
    "plt.xticks(df_mean_age['year_games'])  # Asegúrate de mostrar todos los años\n",
    "plt.show()\n"
   ]
  },
  {
   "cell_type": "markdown",
   "metadata": {},
   "source": [
    "Número de atletas que han juego en cada Juego"
   ]
  },
  {
   "cell_type": "code",
   "execution_count": null,
   "metadata": {},
   "outputs": [],
   "source": []
  },
  {
   "cell_type": "markdown",
   "metadata": {},
   "source": [
    "## Preguntas para hacerse con Athletas\n",
    "- Atleta mas joven en ganar una medalla,\n",
    "- Número de juegos olympicos y nombres\n",
    "- La edad media de los ganadores/participantes y como ha ido evolucionando con los años\n"
   ]
  }
 ],
 "metadata": {
  "kernelspec": {
   "display_name": "Python 3",
   "language": "python",
   "name": "python3"
  },
  "language_info": {
   "codemirror_mode": {
    "name": "ipython",
    "version": 3
   },
   "file_extension": ".py",
   "mimetype": "text/x-python",
   "name": "python",
   "nbconvert_exporter": "python",
   "pygments_lexer": "ipython3",
   "version": "3.12.3"
  }
 },
 "nbformat": 4,
 "nbformat_minor": 2
}
